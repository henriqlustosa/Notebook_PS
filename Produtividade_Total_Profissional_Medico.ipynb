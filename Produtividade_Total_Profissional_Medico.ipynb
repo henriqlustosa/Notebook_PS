{
 "cells": [
  {
   "cell_type": "code",
   "execution_count": 1,
   "metadata": {},
   "outputs": [
    {
     "name": "stderr",
     "output_type": "stream",
     "text": [
      "C:\\Users\\h013026\\Anaconda3\\lib\\site-packages\\pandas\\core\\computation\\expressions.py:20: UserWarning: Pandas requires version '2.7.3' or newer of 'numexpr' (version '2.7.1' currently installed).\n",
      "  from pandas.core.computation.check import NUMEXPR_INSTALLED\n"
     ]
    }
   ],
   "source": [
    "## Importação das Bibliotecas utilizadas neste Fonte\n",
    "import requests\n",
    "import json \n",
    "import pandas as pd"
   ]
  },
  {
   "cell_type": "code",
   "execution_count": null,
   "metadata": {},
   "outputs": [],
   "source": [
    "df_profissionais = pd.read_excel('G:\\OneDrive - Default Directory\\OneDrive - rede.sp\\WorkSpace_PS\\Relatorio_Julho_2023\\Profissional_Julho_2023.xlsx') \n",
    "df_baixa_paciente = pd.read_excel('G:\\OneDrive - Default Directory\\OneDrive - rede.sp\\WorkSpace_PS\\Relatorio_Julho_2023\\BaixaPacientes_Julho_2023.xlsx') \n"
   ]
  }
 ],
 "metadata": {
  "kernelspec": {
   "display_name": "Python 3",
   "language": "python",
   "name": "python3"
  },
  "language_info": {
   "codemirror_mode": {
    "name": "ipython",
    "version": 3
   },
   "file_extension": ".py",
   "mimetype": "text/x-python",
   "name": "python",
   "nbconvert_exporter": "python",
   "pygments_lexer": "ipython3",
   "version": "3.8.3"
  }
 },
 "nbformat": 4,
 "nbformat_minor": 4
}
