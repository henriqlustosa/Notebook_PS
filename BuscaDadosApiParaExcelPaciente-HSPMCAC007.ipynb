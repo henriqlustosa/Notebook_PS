{
 "cells": [
  {
   "cell_type": "code",
   "execution_count": 1,
   "metadata": {},
   "outputs": [
    {
     "name": "stderr",
     "output_type": "stream",
     "text": [
      "C:\\Users\\h013026\\Anaconda3\\lib\\site-packages\\pandas\\core\\computation\\expressions.py:20: UserWarning: Pandas requires version '2.7.3' or newer of 'numexpr' (version '2.7.1' currently installed).\n",
      "  from pandas.core.computation.check import NUMEXPR_INSTALLED\n"
     ]
    }
   ],
   "source": [
    "## Importação das Bibliotecas utilizadas neste Fonte\n",
    "import requests\n",
    "import json \n",
    "import pandas as pd"
   ]
  },
  {
   "cell_type": "code",
   "execution_count": 15,
   "metadata": {},
   "outputs": [],
   "source": [
    "# Endpoints para o consumo de dados do banco de dados de produção do SGH\n",
    "\n",
    "#Fichas do Histórico do Paciente no PS\n",
    "res_ficha_pac = requests.get('http://intranethspm:5009/hspmsgh-api/relatorio/fichapacientes/2023-08-01/2023-08-31')\n",
    "\n",
    "#Pacientes do histórico de consulta\n",
    "res_pac = requests.get('http://intranethspm:5009/hspmsgh-api/relatorio/pacientes/2023-08-01/2023-08-31')\n",
    "\n",
    "#Profissionais Médicos que deram baixa no SGH\n",
    "res_prof = requests.get('http://intranethspm:5009/hspmsgh-api/relatorio/profissionais/2023-08-01/2023-08-31')\n",
    "\n",
    "#Endereços dos Pacientes do histórico de consulta\n",
    "res_ender_pac = requests.get('http://intranethspm:5009/hspmsgh-api/relatorio/enderecofichapacientes/2023-08-01/2023-08-31')\n",
    "\n",
    "# Baixa de Pacientes\n",
    "res_baixa_pac = requests.get('http://intranethspm:5009/hspmsgh-api/relatorio/baixapacientes/2023-08-01/2023-08-31')"
   ]
  },
  {
   "cell_type": "code",
   "execution_count": 16,
   "metadata": {},
   "outputs": [],
   "source": [
    "# Carregando os dados 'json' para um tipo dicionário\n",
    "\n",
    "#Fichas do Histórico do Paciente no PS\n",
    "response_ficha_pac = json.loads(res_ficha_pac.text)\n",
    "\n",
    "#Pacientes do histórico de consulta\n",
    "response_pac = json.loads(res_pac.text)\n",
    "\n",
    "#Profissionais Médicos que deram baixa no SGH\n",
    "response_prof = json.loads(res_prof.text)\n",
    "\n",
    "#Endereços dos Pacientes do histórico de consulta\n",
    "response_ender = json.loads(res_ender_pac.text)\n",
    "\n",
    "# Baixa de Pacientes\n",
    "response_baixa_pac = json.loads(res_baixa_pac.text)"
   ]
  },
  {
   "cell_type": "code",
   "execution_count": 17,
   "metadata": {},
   "outputs": [],
   "source": [
    "# Criando os DataFrames a partir dos dicionários\n",
    "\n",
    "#Fichas do Histórico do Paciente no PS\n",
    "df_ficha_pac =  pd.DataFrame.from_dict(response_ficha_pac)\n",
    "\n",
    "#Pacientes do histórico de consulta\n",
    "df_pac =  pd.DataFrame.from_dict(response_pac)\n",
    "\n",
    "#Profissionais Médicos que deram baixa no SGH\n",
    "df_prof =  pd.DataFrame.from_dict(response_prof)\n",
    "\n",
    "#Endereços dos Pacientes do histórico de consulta\n",
    "df_ender_pac =  pd.DataFrame.from_dict(response_ender)\n",
    "\n",
    "# Baixa de Pacientes\n",
    "df_baixa_pac =  pd.DataFrame.from_dict(response_baixa_pac)"
   ]
  },
  {
   "cell_type": "code",
   "execution_count": 18,
   "metadata": {},
   "outputs": [],
   "source": [
    "# Relatório - Pacientes \n",
    "# Base de Dados para geração dos arquivos das tabelas dos Pacientes \n"
   ]
  },
  {
   "cell_type": "code",
   "execution_count": 19,
   "metadata": {},
   "outputs": [],
   "source": [
    "# Ficha Pacientes\n",
    "\n",
    "# determining the name of the file\n",
    "file_name_ficha = r'G:\\OneDrive - Default Directory\\OneDrive - rede.sp\\WorkSpace_PS\\Relatorio_Agosto_2023\\FichaPacientes_Agosto_2023.xlsx'\n",
    "  \n",
    "# saving the excel\n",
    "df_ficha_pac.to_excel(file_name_ficha)"
   ]
  },
  {
   "cell_type": "code",
   "execution_count": 20,
   "metadata": {},
   "outputs": [],
   "source": [
    "# Endereço de Paciente\n",
    "\n",
    "# determining the name of the file\n",
    "file_name_endereco = r'G:\\OneDrive - Default Directory\\OneDrive - rede.sp\\WorkSpace_PS\\Relatorio_Agosto_2023\\EnderecosDePacientes_Agosto_2023.xlsx'\n",
    "  \n",
    "# saving the excel\n",
    "df_ender_pac.to_excel(file_name_endereco)"
   ]
  },
  {
   "cell_type": "code",
   "execution_count": 21,
   "metadata": {},
   "outputs": [],
   "source": [
    "# Paciente\n",
    "\n",
    "# determining the name of the file\n",
    "file_name_paciente = r'G:\\OneDrive - Default Directory\\OneDrive - rede.sp\\WorkSpace_PS\\Relatorio_Agosto_2023\\Pacientes_Agosto_2023.xlsx'\n",
    "  \n",
    "# saving the excel\n",
    "df_pac.to_excel(file_name_paciente)"
   ]
  },
  {
   "cell_type": "code",
   "execution_count": 24,
   "metadata": {},
   "outputs": [],
   "source": [
    "# Baixa de Paciente\n",
    "\n",
    "# determining the name of the file\n",
    "file_baixa_paciente = r'G:\\OneDrive - Default Directory\\OneDrive - rede.sp\\WorkSpace_PS\\Relatorio_Agosto_2023\\BaixaPacientes_Agosto_2023.xlsx'\n",
    "  \n",
    "# saving the excel\n",
    "df_baixa_pac.to_excel(file_baixa_paciente)"
   ]
  },
  {
   "cell_type": "code",
   "execution_count": 23,
   "metadata": {},
   "outputs": [],
   "source": [
    "# Profissional \n",
    "\n",
    "# determining the name of the file\n",
    "file_baixa_paciente = r'G:\\OneDrive - Default Directory\\OneDrive - rede.sp\\WorkSpace_PS\\Relatorio_Agosto_2023\\Profissional_Agosto_2023.xlsx'\n",
    "  \n",
    "# saving the excel\n",
    "df_prof.to_excel(file_baixa_paciente)"
   ]
  },
  {
   "cell_type": "code",
   "execution_count": 25,
   "metadata": {},
   "outputs": [],
   "source": [
    "# Relatório de produtividade - alteração realizada para medir a produtividade por hora "
   ]
  },
  {
   "cell_type": "code",
   "execution_count": 26,
   "metadata": {},
   "outputs": [
    {
     "name": "stdout",
     "output_type": "stream",
     "text": [
      "<class 'pandas.core.frame.DataFrame'>\n",
      "RangeIndex: 6067 entries, 0 to 6066\n",
      "Data columns (total 9 columns):\n",
      " #   Column         Non-Null Count  Dtype \n",
      "---  ------         --------------  ----- \n",
      " 0   prontuario     6067 non-null   int64 \n",
      " 1   con_numero     6067 non-null   int64 \n",
      " 2   trg_seq        6067 non-null   int64 \n",
      " 3   seqp           6067 non-null   int64 \n",
      " 4   data_consulta  6067 non-null   object\n",
      " 5   cod_status     6067 non-null   int64 \n",
      " 6   status_ficha   6067 non-null   object\n",
      " 7   usuario        6067 non-null   object\n",
      " 8   data_mvto      6067 non-null   object\n",
      "dtypes: int64(5), object(4)\n",
      "memory usage: 426.7+ KB\n"
     ]
    }
   ],
   "source": [
    "# Informações do data_frame, verificando campos nulos\n",
    "df_baixa_pac.info()"
   ]
  },
  {
   "cell_type": "code",
   "execution_count": 35,
   "metadata": {},
   "outputs": [],
   "source": [
    "# Mudança do tipo do campo \"data_acolhimento\" para datetime\n",
    "from datetime import datetime\n",
    "\n",
    "df_baixa_pac[\"data_mvto\"] = pd.to_datetime(df_baixa_pac[\"data_mvto\"], format='mixed')"
   ]
  },
  {
   "cell_type": "code",
   "execution_count": 36,
   "metadata": {},
   "outputs": [
    {
     "name": "stdout",
     "output_type": "stream",
     "text": [
      "<class 'pandas.core.frame.DataFrame'>\n",
      "RangeIndex: 6067 entries, 0 to 6066\n",
      "Data columns (total 9 columns):\n",
      " #   Column         Non-Null Count  Dtype         \n",
      "---  ------         --------------  -----         \n",
      " 0   prontuario     6067 non-null   int64         \n",
      " 1   con_numero     6067 non-null   int64         \n",
      " 2   trg_seq        6067 non-null   int64         \n",
      " 3   seqp           6067 non-null   int64         \n",
      " 4   data_consulta  6067 non-null   object        \n",
      " 5   cod_status     6067 non-null   int64         \n",
      " 6   status_ficha   6067 non-null   object        \n",
      " 7   usuario        6067 non-null   object        \n",
      " 8   data_mvto      6067 non-null   datetime64[ns]\n",
      "dtypes: datetime64[ns](1), int64(5), object(3)\n",
      "memory usage: 426.7+ KB\n"
     ]
    }
   ],
   "source": [
    "# Visualização das informações atualizadas\n",
    "df_baixa_pac.info()"
   ]
  },
  {
   "cell_type": "code",
   "execution_count": 37,
   "metadata": {},
   "outputs": [
    {
     "data": {
      "text/html": [
       "<div>\n",
       "<style scoped>\n",
       "    .dataframe tbody tr th:only-of-type {\n",
       "        vertical-align: middle;\n",
       "    }\n",
       "\n",
       "    .dataframe tbody tr th {\n",
       "        vertical-align: top;\n",
       "    }\n",
       "\n",
       "    .dataframe thead th {\n",
       "        text-align: right;\n",
       "    }\n",
       "</style>\n",
       "<table border=\"1\" class=\"dataframe\">\n",
       "  <thead>\n",
       "    <tr style=\"text-align: right;\">\n",
       "      <th></th>\n",
       "      <th>prontuario</th>\n",
       "      <th>con_numero</th>\n",
       "      <th>trg_seq</th>\n",
       "      <th>seqp</th>\n",
       "      <th>data_consulta</th>\n",
       "      <th>cod_status</th>\n",
       "      <th>status_ficha</th>\n",
       "      <th>usuario</th>\n",
       "      <th>data_mvto</th>\n",
       "    </tr>\n",
       "  </thead>\n",
       "  <tbody>\n",
       "    <tr>\n",
       "      <th>0</th>\n",
       "      <td>12222253</td>\n",
       "      <td>4503408</td>\n",
       "      <td>102974</td>\n",
       "      <td>5</td>\n",
       "      <td>2023-08-31 22:53:24.805</td>\n",
       "      <td>6</td>\n",
       "      <td>ALTA MEDICA</td>\n",
       "      <td>R919304</td>\n",
       "      <td>2023-08-31 23:00:30.846</td>\n",
       "    </tr>\n",
       "    <tr>\n",
       "      <th>1</th>\n",
       "      <td>11549904</td>\n",
       "      <td>4503404</td>\n",
       "      <td>102970</td>\n",
       "      <td>5</td>\n",
       "      <td>2023-08-31 22:27:01.406</td>\n",
       "      <td>6</td>\n",
       "      <td>ALTA MEDICA</td>\n",
       "      <td>R919304</td>\n",
       "      <td>2023-08-31 22:43:17.540</td>\n",
       "    </tr>\n",
       "    <tr>\n",
       "      <th>2</th>\n",
       "      <td>90037417</td>\n",
       "      <td>4503402</td>\n",
       "      <td>102968</td>\n",
       "      <td>5</td>\n",
       "      <td>2023-08-31 22:21:23.387</td>\n",
       "      <td>6</td>\n",
       "      <td>ALTA MEDICA</td>\n",
       "      <td>X591630</td>\n",
       "      <td>2023-08-31 22:40:04.403</td>\n",
       "    </tr>\n",
       "    <tr>\n",
       "      <th>3</th>\n",
       "      <td>10643963</td>\n",
       "      <td>4503399</td>\n",
       "      <td>102965</td>\n",
       "      <td>5</td>\n",
       "      <td>2023-08-31 22:06:33.283</td>\n",
       "      <td>6</td>\n",
       "      <td>ALTA MEDICA</td>\n",
       "      <td>X591630</td>\n",
       "      <td>2023-08-31 22:22:29.049</td>\n",
       "    </tr>\n",
       "    <tr>\n",
       "      <th>4</th>\n",
       "      <td>10643971</td>\n",
       "      <td>4503398</td>\n",
       "      <td>102964</td>\n",
       "      <td>5</td>\n",
       "      <td>2023-08-31 22:05:49.79</td>\n",
       "      <td>6</td>\n",
       "      <td>ALTA MEDICA</td>\n",
       "      <td>X591630</td>\n",
       "      <td>2023-08-31 22:17:56.191</td>\n",
       "    </tr>\n",
       "  </tbody>\n",
       "</table>\n",
       "</div>"
      ],
      "text/plain": [
       "   prontuario  con_numero  trg_seq  seqp            data_consulta  cod_status  \\\n",
       "0    12222253     4503408   102974     5  2023-08-31 22:53:24.805           6   \n",
       "1    11549904     4503404   102970     5  2023-08-31 22:27:01.406           6   \n",
       "2    90037417     4503402   102968     5  2023-08-31 22:21:23.387           6   \n",
       "3    10643963     4503399   102965     5  2023-08-31 22:06:33.283           6   \n",
       "4    10643971     4503398   102964     5   2023-08-31 22:05:49.79           6   \n",
       "\n",
       "  status_ficha  usuario               data_mvto  \n",
       "0  ALTA MEDICA  R919304 2023-08-31 23:00:30.846  \n",
       "1  ALTA MEDICA  R919304 2023-08-31 22:43:17.540  \n",
       "2  ALTA MEDICA  X591630 2023-08-31 22:40:04.403  \n",
       "3  ALTA MEDICA  X591630 2023-08-31 22:22:29.049  \n",
       "4  ALTA MEDICA  X591630 2023-08-31 22:17:56.191  "
      ]
     },
     "execution_count": 37,
     "metadata": {},
     "output_type": "execute_result"
    }
   ],
   "source": [
    "# Valores do data_frame \n",
    "df_baixa_pac.head()"
   ]
  },
  {
   "cell_type": "code",
   "execution_count": 38,
   "metadata": {},
   "outputs": [],
   "source": [
    "# Contagem de produtividade por fichas abertas por hora\n",
    "dc_contagem_por_hora = df_baixa_pac.resample('H', on='data_mvto').prontuario.count()"
   ]
  },
  {
   "cell_type": "code",
   "execution_count": 39,
   "metadata": {},
   "outputs": [],
   "source": [
    "# Dataframe de produtividade por fichas abertas por hora \n",
    "df_contagem_por_hora = dc_contagem_por_hora.to_frame()"
   ]
  },
  {
   "cell_type": "code",
   "execution_count": 40,
   "metadata": {},
   "outputs": [],
   "source": [
    "# Acrescentando os campos data e hora separadamente no dataframe de produtividade\n",
    "df_contagem_por_hora['data'] = [d.date() for d in df_contagem_por_hora.index]\n",
    "df_contagem_por_hora['hora'] = [d.time() for d in df_contagem_por_hora.index]"
   ]
  },
  {
   "cell_type": "code",
   "execution_count": 41,
   "metadata": {},
   "outputs": [
    {
     "data": {
      "text/html": [
       "<div>\n",
       "<style scoped>\n",
       "    .dataframe tbody tr th:only-of-type {\n",
       "        vertical-align: middle;\n",
       "    }\n",
       "\n",
       "    .dataframe tbody tr th {\n",
       "        vertical-align: top;\n",
       "    }\n",
       "\n",
       "    .dataframe thead th {\n",
       "        text-align: right;\n",
       "    }\n",
       "</style>\n",
       "<table border=\"1\" class=\"dataframe\">\n",
       "  <thead>\n",
       "    <tr style=\"text-align: right;\">\n",
       "      <th></th>\n",
       "      <th>prontuario</th>\n",
       "      <th>data</th>\n",
       "      <th>hora</th>\n",
       "    </tr>\n",
       "    <tr>\n",
       "      <th>data_mvto</th>\n",
       "      <th></th>\n",
       "      <th></th>\n",
       "      <th></th>\n",
       "    </tr>\n",
       "  </thead>\n",
       "  <tbody>\n",
       "    <tr>\n",
       "      <th>2023-08-01 00:00:00</th>\n",
       "      <td>2</td>\n",
       "      <td>2023-08-01</td>\n",
       "      <td>00:00:00</td>\n",
       "    </tr>\n",
       "    <tr>\n",
       "      <th>2023-08-01 01:00:00</th>\n",
       "      <td>2</td>\n",
       "      <td>2023-08-01</td>\n",
       "      <td>01:00:00</td>\n",
       "    </tr>\n",
       "    <tr>\n",
       "      <th>2023-08-01 02:00:00</th>\n",
       "      <td>2</td>\n",
       "      <td>2023-08-01</td>\n",
       "      <td>02:00:00</td>\n",
       "    </tr>\n",
       "    <tr>\n",
       "      <th>2023-08-01 03:00:00</th>\n",
       "      <td>1</td>\n",
       "      <td>2023-08-01</td>\n",
       "      <td>03:00:00</td>\n",
       "    </tr>\n",
       "    <tr>\n",
       "      <th>2023-08-01 04:00:00</th>\n",
       "      <td>1</td>\n",
       "      <td>2023-08-01</td>\n",
       "      <td>04:00:00</td>\n",
       "    </tr>\n",
       "    <tr>\n",
       "      <th>2023-08-01 05:00:00</th>\n",
       "      <td>1</td>\n",
       "      <td>2023-08-01</td>\n",
       "      <td>05:00:00</td>\n",
       "    </tr>\n",
       "    <tr>\n",
       "      <th>2023-08-01 06:00:00</th>\n",
       "      <td>3</td>\n",
       "      <td>2023-08-01</td>\n",
       "      <td>06:00:00</td>\n",
       "    </tr>\n",
       "    <tr>\n",
       "      <th>2023-08-01 07:00:00</th>\n",
       "      <td>4</td>\n",
       "      <td>2023-08-01</td>\n",
       "      <td>07:00:00</td>\n",
       "    </tr>\n",
       "    <tr>\n",
       "      <th>2023-08-01 08:00:00</th>\n",
       "      <td>5</td>\n",
       "      <td>2023-08-01</td>\n",
       "      <td>08:00:00</td>\n",
       "    </tr>\n",
       "    <tr>\n",
       "      <th>2023-08-01 09:00:00</th>\n",
       "      <td>19</td>\n",
       "      <td>2023-08-01</td>\n",
       "      <td>09:00:00</td>\n",
       "    </tr>\n",
       "    <tr>\n",
       "      <th>2023-08-01 10:00:00</th>\n",
       "      <td>15</td>\n",
       "      <td>2023-08-01</td>\n",
       "      <td>10:00:00</td>\n",
       "    </tr>\n",
       "    <tr>\n",
       "      <th>2023-08-01 11:00:00</th>\n",
       "      <td>18</td>\n",
       "      <td>2023-08-01</td>\n",
       "      <td>11:00:00</td>\n",
       "    </tr>\n",
       "    <tr>\n",
       "      <th>2023-08-01 12:00:00</th>\n",
       "      <td>15</td>\n",
       "      <td>2023-08-01</td>\n",
       "      <td>12:00:00</td>\n",
       "    </tr>\n",
       "    <tr>\n",
       "      <th>2023-08-01 13:00:00</th>\n",
       "      <td>13</td>\n",
       "      <td>2023-08-01</td>\n",
       "      <td>13:00:00</td>\n",
       "    </tr>\n",
       "    <tr>\n",
       "      <th>2023-08-01 14:00:00</th>\n",
       "      <td>9</td>\n",
       "      <td>2023-08-01</td>\n",
       "      <td>14:00:00</td>\n",
       "    </tr>\n",
       "    <tr>\n",
       "      <th>2023-08-01 15:00:00</th>\n",
       "      <td>7</td>\n",
       "      <td>2023-08-01</td>\n",
       "      <td>15:00:00</td>\n",
       "    </tr>\n",
       "    <tr>\n",
       "      <th>2023-08-01 16:00:00</th>\n",
       "      <td>14</td>\n",
       "      <td>2023-08-01</td>\n",
       "      <td>16:00:00</td>\n",
       "    </tr>\n",
       "    <tr>\n",
       "      <th>2023-08-01 17:00:00</th>\n",
       "      <td>18</td>\n",
       "      <td>2023-08-01</td>\n",
       "      <td>17:00:00</td>\n",
       "    </tr>\n",
       "    <tr>\n",
       "      <th>2023-08-01 18:00:00</th>\n",
       "      <td>20</td>\n",
       "      <td>2023-08-01</td>\n",
       "      <td>18:00:00</td>\n",
       "    </tr>\n",
       "    <tr>\n",
       "      <th>2023-08-01 19:00:00</th>\n",
       "      <td>10</td>\n",
       "      <td>2023-08-01</td>\n",
       "      <td>19:00:00</td>\n",
       "    </tr>\n",
       "    <tr>\n",
       "      <th>2023-08-01 20:00:00</th>\n",
       "      <td>17</td>\n",
       "      <td>2023-08-01</td>\n",
       "      <td>20:00:00</td>\n",
       "    </tr>\n",
       "    <tr>\n",
       "      <th>2023-08-01 21:00:00</th>\n",
       "      <td>8</td>\n",
       "      <td>2023-08-01</td>\n",
       "      <td>21:00:00</td>\n",
       "    </tr>\n",
       "    <tr>\n",
       "      <th>2023-08-01 22:00:00</th>\n",
       "      <td>5</td>\n",
       "      <td>2023-08-01</td>\n",
       "      <td>22:00:00</td>\n",
       "    </tr>\n",
       "    <tr>\n",
       "      <th>2023-08-01 23:00:00</th>\n",
       "      <td>5</td>\n",
       "      <td>2023-08-01</td>\n",
       "      <td>23:00:00</td>\n",
       "    </tr>\n",
       "  </tbody>\n",
       "</table>\n",
       "</div>"
      ],
      "text/plain": [
       "                     prontuario        data      hora\n",
       "data_mvto                                            \n",
       "2023-08-01 00:00:00           2  2023-08-01  00:00:00\n",
       "2023-08-01 01:00:00           2  2023-08-01  01:00:00\n",
       "2023-08-01 02:00:00           2  2023-08-01  02:00:00\n",
       "2023-08-01 03:00:00           1  2023-08-01  03:00:00\n",
       "2023-08-01 04:00:00           1  2023-08-01  04:00:00\n",
       "2023-08-01 05:00:00           1  2023-08-01  05:00:00\n",
       "2023-08-01 06:00:00           3  2023-08-01  06:00:00\n",
       "2023-08-01 07:00:00           4  2023-08-01  07:00:00\n",
       "2023-08-01 08:00:00           5  2023-08-01  08:00:00\n",
       "2023-08-01 09:00:00          19  2023-08-01  09:00:00\n",
       "2023-08-01 10:00:00          15  2023-08-01  10:00:00\n",
       "2023-08-01 11:00:00          18  2023-08-01  11:00:00\n",
       "2023-08-01 12:00:00          15  2023-08-01  12:00:00\n",
       "2023-08-01 13:00:00          13  2023-08-01  13:00:00\n",
       "2023-08-01 14:00:00           9  2023-08-01  14:00:00\n",
       "2023-08-01 15:00:00           7  2023-08-01  15:00:00\n",
       "2023-08-01 16:00:00          14  2023-08-01  16:00:00\n",
       "2023-08-01 17:00:00          18  2023-08-01  17:00:00\n",
       "2023-08-01 18:00:00          20  2023-08-01  18:00:00\n",
       "2023-08-01 19:00:00          10  2023-08-01  19:00:00\n",
       "2023-08-01 20:00:00          17  2023-08-01  20:00:00\n",
       "2023-08-01 21:00:00           8  2023-08-01  21:00:00\n",
       "2023-08-01 22:00:00           5  2023-08-01  22:00:00\n",
       "2023-08-01 23:00:00           5  2023-08-01  23:00:00"
      ]
     },
     "execution_count": 41,
     "metadata": {},
     "output_type": "execute_result"
    }
   ],
   "source": [
    "# Apresentação dos dados das primeiras 24h do dataframe\n",
    "df_contagem_por_hora.head(24)"
   ]
  },
  {
   "cell_type": "code",
   "execution_count": 42,
   "metadata": {},
   "outputs": [],
   "source": [
    "#Determinando o nome do arquivo\n",
    "file_name_ficha = r'G:\\OneDrive - Default Directory\\OneDrive - rede.sp\\WorkSpace_PS\\Relatorio_Agosto_2023\\FichaPacientesBaixa_Produtividade_Agosto_2023.xlsx'\n",
    "  \n",
    "# Salvando o excel\n",
    "df_contagem_por_hora.to_excel(file_name_ficha)"
   ]
  },
  {
   "cell_type": "code",
   "execution_count": null,
   "metadata": {},
   "outputs": [],
   "source": []
  },
  {
   "cell_type": "code",
   "execution_count": null,
   "metadata": {},
   "outputs": [],
   "source": []
  },
  {
   "cell_type": "code",
   "execution_count": null,
   "metadata": {},
   "outputs": [],
   "source": []
  },
  {
   "cell_type": "code",
   "execution_count": null,
   "metadata": {},
   "outputs": [],
   "source": []
  },
  {
   "cell_type": "code",
   "execution_count": null,
   "metadata": {},
   "outputs": [],
   "source": []
  },
  {
   "cell_type": "code",
   "execution_count": null,
   "metadata": {},
   "outputs": [],
   "source": []
  },
  {
   "cell_type": "code",
   "execution_count": null,
   "metadata": {},
   "outputs": [],
   "source": []
  },
  {
   "cell_type": "code",
   "execution_count": null,
   "metadata": {},
   "outputs": [],
   "source": []
  },
  {
   "cell_type": "code",
   "execution_count": null,
   "metadata": {},
   "outputs": [],
   "source": []
  },
  {
   "cell_type": "code",
   "execution_count": null,
   "metadata": {},
   "outputs": [],
   "source": []
  },
  {
   "cell_type": "code",
   "execution_count": null,
   "metadata": {},
   "outputs": [],
   "source": []
  },
  {
   "cell_type": "code",
   "execution_count": null,
   "metadata": {},
   "outputs": [],
   "source": []
  },
  {
   "cell_type": "code",
   "execution_count": null,
   "metadata": {},
   "outputs": [],
   "source": []
  },
  {
   "cell_type": "code",
   "execution_count": null,
   "metadata": {},
   "outputs": [],
   "source": []
  },
  {
   "cell_type": "code",
   "execution_count": null,
   "metadata": {},
   "outputs": [],
   "source": []
  },
  {
   "cell_type": "code",
   "execution_count": null,
   "metadata": {},
   "outputs": [],
   "source": []
  },
  {
   "cell_type": "code",
   "execution_count": null,
   "metadata": {},
   "outputs": [],
   "source": []
  },
  {
   "cell_type": "code",
   "execution_count": null,
   "metadata": {},
   "outputs": [],
   "source": []
  },
  {
   "cell_type": "code",
   "execution_count": null,
   "metadata": {},
   "outputs": [],
   "source": []
  },
  {
   "cell_type": "code",
   "execution_count": null,
   "metadata": {},
   "outputs": [],
   "source": []
  },
  {
   "cell_type": "code",
   "execution_count": null,
   "metadata": {},
   "outputs": [],
   "source": []
  },
  {
   "cell_type": "code",
   "execution_count": null,
   "metadata": {},
   "outputs": [],
   "source": []
  },
  {
   "cell_type": "code",
   "execution_count": null,
   "metadata": {},
   "outputs": [],
   "source": []
  },
  {
   "cell_type": "code",
   "execution_count": null,
   "metadata": {},
   "outputs": [],
   "source": []
  },
  {
   "cell_type": "code",
   "execution_count": null,
   "metadata": {},
   "outputs": [],
   "source": []
  },
  {
   "cell_type": "code",
   "execution_count": null,
   "metadata": {},
   "outputs": [],
   "source": []
  },
  {
   "cell_type": "code",
   "execution_count": null,
   "metadata": {},
   "outputs": [],
   "source": []
  },
  {
   "cell_type": "code",
   "execution_count": null,
   "metadata": {},
   "outputs": [],
   "source": []
  },
  {
   "cell_type": "code",
   "execution_count": null,
   "metadata": {},
   "outputs": [],
   "source": []
  },
  {
   "cell_type": "code",
   "execution_count": null,
   "metadata": {},
   "outputs": [],
   "source": []
  },
  {
   "cell_type": "code",
   "execution_count": null,
   "metadata": {},
   "outputs": [],
   "source": []
  }
 ],
 "metadata": {
  "kernelspec": {
   "display_name": "Python 3",
   "language": "python",
   "name": "python3"
  },
  "language_info": {
   "codemirror_mode": {
    "name": "ipython",
    "version": 3
   },
   "file_extension": ".py",
   "mimetype": "text/x-python",
   "name": "python",
   "nbconvert_exporter": "python",
   "pygments_lexer": "ipython3",
   "version": "3.8.3"
  }
 },
 "nbformat": 4,
 "nbformat_minor": 4
}
