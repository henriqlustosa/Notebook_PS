{
 "cells": [
  {
   "cell_type": "code",
   "execution_count": 3,
   "metadata": {},
   "outputs": [],
   "source": [
    "# Relatório de Atendimento Médico\n",
    "\n",
    "# Buscar os arquivos\n",
    "\n",
    "import pandas as pd\n",
    "df_profissionais = pd.read_excel('G:\\OneDrive - Default Directory\\OneDrive - rede.sp\\WorkSpace_PS\\Relatorio_Setembro_2024\\Profissionais_Setembro_2024.xlsx') \n",
    "df_baixa_paciente = pd.read_excel('G:\\OneDrive - Default Directory\\OneDrive - rede.sp\\WorkSpace_PS\\Relatorio_Setembro_2024\\BaixaPacientes_Setembro_2024.xlsx') \n"
   ]
  },
  {
   "cell_type": "code",
   "execution_count": 1,
   "metadata": {},
   "outputs": [],
   "source": [
    "## Importação das Bibliotecas utilizadas neste Fonte\n",
    "import requests\n",
    "import json \n",
    "import pandas as pd"
   ]
  },
  {
   "cell_type": "code",
   "execution_count": 14,
   "metadata": {},
   "outputs": [],
   "source": [
    "#Baixa realizadas Pacientes\n",
    "rel_pac_baixa = requests.get('http://intranethspm:5009/hspmsgh-api/relatorio/baixapacientes/2024-09-01/2024-09-30')\n",
    "response_baixa_pac = json.loads(rel_pac_baixa.text)\n",
    "df_baixa_paciente =  pd.DataFrame.from_dict(response_baixa_pac )"
   ]
  },
  {
   "cell_type": "code",
   "execution_count": 15,
   "metadata": {},
   "outputs": [],
   "source": [
    "#Profissionais\n",
    "profissionais = requests.get('http://intranethspm:5009/hspmsgh-api/relatorio/profissionais/2024-09-01/2024-09-30')\n",
    "\n",
    "profissionais = json.loads(profissionais.text)\n",
    "df_profissionais =  pd.DataFrame.from_dict(profissionais )"
   ]
  },
  {
   "cell_type": "code",
   "execution_count": 16,
   "metadata": {},
   "outputs": [
    {
     "data": {
      "text/plain": [
       "67221"
      ]
     },
     "execution_count": 16,
     "metadata": {},
     "output_type": "execute_result"
    }
   ],
   "source": [
    "df_baixa_paciente.size"
   ]
  },
  {
   "cell_type": "code",
   "execution_count": 17,
   "metadata": {},
   "outputs": [],
   "source": [
    "result = pd.merge(df_profissionais, df_baixa_paciente, on=\"usuario\")"
   ]
  },
  {
   "cell_type": "code",
   "execution_count": 18,
   "metadata": {},
   "outputs": [
    {
     "data": {
      "text/plain": [
       "82159"
      ]
     },
     "execution_count": 18,
     "metadata": {},
     "output_type": "execute_result"
    }
   ],
   "source": [
    "result.size\n"
   ]
  },
  {
   "cell_type": "code",
   "execution_count": 19,
   "metadata": {},
   "outputs": [
    {
     "data": {
      "text/html": [
       "<div>\n",
       "<style scoped>\n",
       "    .dataframe tbody tr th:only-of-type {\n",
       "        vertical-align: middle;\n",
       "    }\n",
       "\n",
       "    .dataframe tbody tr th {\n",
       "        vertical-align: top;\n",
       "    }\n",
       "\n",
       "    .dataframe thead th {\n",
       "        text-align: right;\n",
       "    }\n",
       "</style>\n",
       "<table border=\"1\" class=\"dataframe\">\n",
       "  <thead>\n",
       "    <tr style=\"text-align: right;\">\n",
       "      <th></th>\n",
       "      <th>rf_profissional</th>\n",
       "      <th>nome_profissional</th>\n",
       "      <th>usuario</th>\n",
       "    </tr>\n",
       "  </thead>\n",
       "  <tbody>\n",
       "    <tr>\n",
       "      <th>0</th>\n",
       "      <td>31043</td>\n",
       "      <td>FLAYLSON MOURA BARROS</td>\n",
       "      <td>X045282</td>\n",
       "    </tr>\n",
       "    <tr>\n",
       "      <th>1</th>\n",
       "      <td>34177</td>\n",
       "      <td>TYANNA MARIA BONFIM DE MORAES</td>\n",
       "      <td>X055670</td>\n",
       "    </tr>\n",
       "    <tr>\n",
       "      <th>2</th>\n",
       "      <td>119451</td>\n",
       "      <td>DAVILA ALVES ROCHA</td>\n",
       "      <td>X119451</td>\n",
       "    </tr>\n",
       "    <tr>\n",
       "      <th>3</th>\n",
       "      <td>151747</td>\n",
       "      <td>PEDRO HENRIQUE PEREIRA INGLEZ</td>\n",
       "      <td>X151747</td>\n",
       "    </tr>\n",
       "    <tr>\n",
       "      <th>4</th>\n",
       "      <td>189554</td>\n",
       "      <td>GIOVANNA CRUVINEL PAGLIARO</td>\n",
       "      <td>X112652</td>\n",
       "    </tr>\n",
       "  </tbody>\n",
       "</table>\n",
       "</div>"
      ],
      "text/plain": [
       "   rf_profissional              nome_profissional  usuario\n",
       "0            31043          FLAYLSON MOURA BARROS  X045282\n",
       "1            34177  TYANNA MARIA BONFIM DE MORAES  X055670\n",
       "2           119451             DAVILA ALVES ROCHA  X119451\n",
       "3           151747  PEDRO HENRIQUE PEREIRA INGLEZ  X151747\n",
       "4           189554     GIOVANNA CRUVINEL PAGLIARO  X112652"
      ]
     },
     "execution_count": 19,
     "metadata": {},
     "output_type": "execute_result"
    }
   ],
   "source": [
    "df_profissionais.head()"
   ]
  },
  {
   "cell_type": "code",
   "execution_count": 20,
   "metadata": {},
   "outputs": [
    {
     "data": {
      "text/html": [
       "<div>\n",
       "<style scoped>\n",
       "    .dataframe tbody tr th:only-of-type {\n",
       "        vertical-align: middle;\n",
       "    }\n",
       "\n",
       "    .dataframe tbody tr th {\n",
       "        vertical-align: top;\n",
       "    }\n",
       "\n",
       "    .dataframe thead th {\n",
       "        text-align: right;\n",
       "    }\n",
       "</style>\n",
       "<table border=\"1\" class=\"dataframe\">\n",
       "  <thead>\n",
       "    <tr style=\"text-align: right;\">\n",
       "      <th></th>\n",
       "      <th>rf_profissional</th>\n",
       "      <th>nome_profissional</th>\n",
       "      <th>usuario</th>\n",
       "      <th>prontuario</th>\n",
       "      <th>con_numero</th>\n",
       "      <th>trg_seq</th>\n",
       "      <th>seqp</th>\n",
       "      <th>data_consulta</th>\n",
       "      <th>cod_status</th>\n",
       "      <th>status_ficha</th>\n",
       "      <th>data_mvto</th>\n",
       "    </tr>\n",
       "  </thead>\n",
       "  <tbody>\n",
       "    <tr>\n",
       "      <th>0</th>\n",
       "      <td>31043</td>\n",
       "      <td>FLAYLSON MOURA BARROS</td>\n",
       "      <td>X045282</td>\n",
       "      <td>11819588</td>\n",
       "      <td>5818332</td>\n",
       "      <td>234279</td>\n",
       "      <td>5</td>\n",
       "      <td>2024-09-27 11:43:19.623</td>\n",
       "      <td>6</td>\n",
       "      <td>ALTA MEDICA</td>\n",
       "      <td>2024-09-27 12:13:13.252</td>\n",
       "    </tr>\n",
       "    <tr>\n",
       "      <th>1</th>\n",
       "      <td>34177</td>\n",
       "      <td>TYANNA MARIA BONFIM DE MORAES</td>\n",
       "      <td>X055670</td>\n",
       "      <td>12466728</td>\n",
       "      <td>5819880</td>\n",
       "      <td>235020</td>\n",
       "      <td>5</td>\n",
       "      <td>2024-09-29 23:09:58.792</td>\n",
       "      <td>6</td>\n",
       "      <td>ALTA MEDICA</td>\n",
       "      <td>2024-09-29 23:37:23.427</td>\n",
       "    </tr>\n",
       "    <tr>\n",
       "      <th>2</th>\n",
       "      <td>34177</td>\n",
       "      <td>TYANNA MARIA BONFIM DE MORAES</td>\n",
       "      <td>X055670</td>\n",
       "      <td>12191482</td>\n",
       "      <td>5819872</td>\n",
       "      <td>235010</td>\n",
       "      <td>6</td>\n",
       "      <td>2024-09-29 22:03:01.778</td>\n",
       "      <td>6</td>\n",
       "      <td>ALTA MEDICA</td>\n",
       "      <td>2024-09-30 01:33:56.27</td>\n",
       "    </tr>\n",
       "    <tr>\n",
       "      <th>3</th>\n",
       "      <td>34177</td>\n",
       "      <td>TYANNA MARIA BONFIM DE MORAES</td>\n",
       "      <td>X055670</td>\n",
       "      <td>12431755</td>\n",
       "      <td>5819868</td>\n",
       "      <td>235008</td>\n",
       "      <td>5</td>\n",
       "      <td>2024-09-29 21:49:05.491</td>\n",
       "      <td>6</td>\n",
       "      <td>ALTA MEDICA</td>\n",
       "      <td>2024-09-29 22:11:13.573</td>\n",
       "    </tr>\n",
       "    <tr>\n",
       "      <th>4</th>\n",
       "      <td>34177</td>\n",
       "      <td>TYANNA MARIA BONFIM DE MORAES</td>\n",
       "      <td>X055670</td>\n",
       "      <td>12230827</td>\n",
       "      <td>5819860</td>\n",
       "      <td>234998</td>\n",
       "      <td>6</td>\n",
       "      <td>2024-09-29 21:19:44.632</td>\n",
       "      <td>6</td>\n",
       "      <td>ALTA MEDICA</td>\n",
       "      <td>2024-09-30 00:43:47.361</td>\n",
       "    </tr>\n",
       "  </tbody>\n",
       "</table>\n",
       "</div>"
      ],
      "text/plain": [
       "   rf_profissional              nome_profissional  usuario  prontuario  \\\n",
       "0            31043          FLAYLSON MOURA BARROS  X045282    11819588   \n",
       "1            34177  TYANNA MARIA BONFIM DE MORAES  X055670    12466728   \n",
       "2            34177  TYANNA MARIA BONFIM DE MORAES  X055670    12191482   \n",
       "3            34177  TYANNA MARIA BONFIM DE MORAES  X055670    12431755   \n",
       "4            34177  TYANNA MARIA BONFIM DE MORAES  X055670    12230827   \n",
       "\n",
       "   con_numero  trg_seq  seqp            data_consulta  cod_status  \\\n",
       "0     5818332   234279     5  2024-09-27 11:43:19.623           6   \n",
       "1     5819880   235020     5  2024-09-29 23:09:58.792           6   \n",
       "2     5819872   235010     6  2024-09-29 22:03:01.778           6   \n",
       "3     5819868   235008     5  2024-09-29 21:49:05.491           6   \n",
       "4     5819860   234998     6  2024-09-29 21:19:44.632           6   \n",
       "\n",
       "  status_ficha                data_mvto  \n",
       "0  ALTA MEDICA  2024-09-27 12:13:13.252  \n",
       "1  ALTA MEDICA  2024-09-29 23:37:23.427  \n",
       "2  ALTA MEDICA   2024-09-30 01:33:56.27  \n",
       "3  ALTA MEDICA  2024-09-29 22:11:13.573  \n",
       "4  ALTA MEDICA  2024-09-30 00:43:47.361  "
      ]
     },
     "execution_count": 20,
     "metadata": {},
     "output_type": "execute_result"
    }
   ],
   "source": [
    "result.head()"
   ]
  },
  {
   "cell_type": "code",
   "execution_count": 21,
   "metadata": {},
   "outputs": [
    {
     "ename": "ValueError",
     "evalue": "You are trying to merge on object and int64 columns. If you wish to proceed you should use pd.concat",
     "output_type": "error",
     "traceback": [
      "\u001b[1;31m---------------------------------------------------------------------------\u001b[0m",
      "\u001b[1;31mValueError\u001b[0m                                Traceback (most recent call last)",
      "\u001b[1;32m<ipython-input-21-323efb3f4f7a>\u001b[0m in \u001b[0;36m<module>\u001b[1;34m\u001b[0m\n\u001b[1;32m----> 1\u001b[1;33m \u001b[0mdf_baixa_paciente\u001b[0m\u001b[1;33m.\u001b[0m\u001b[0mjoin\u001b[0m\u001b[1;33m(\u001b[0m\u001b[0mdf_profissionais\u001b[0m\u001b[1;33m,\u001b[0m \u001b[0mon\u001b[0m\u001b[1;33m=\u001b[0m\u001b[1;34m'usuario'\u001b[0m\u001b[1;33m,\u001b[0m \u001b[0mhow\u001b[0m\u001b[1;33m=\u001b[0m\u001b[1;34m\"inner\"\u001b[0m\u001b[1;33m)\u001b[0m\u001b[1;33m\u001b[0m\u001b[1;33m\u001b[0m\u001b[0m\n\u001b[0m",
      "\u001b[1;32m~\\Anaconda3\\lib\\site-packages\\pandas\\core\\frame.py\u001b[0m in \u001b[0;36mjoin\u001b[1;34m(self, other, on, how, lsuffix, rsuffix, sort, validate)\u001b[0m\n\u001b[0;32m   9727\u001b[0m         \u001b[1;36m5\u001b[0m  \u001b[0mK1\u001b[0m  \u001b[0mA5\u001b[0m   \u001b[0mB1\u001b[0m\u001b[1;33m\u001b[0m\u001b[1;33m\u001b[0m\u001b[0m\n\u001b[0;32m   9728\u001b[0m         \"\"\"\n\u001b[1;32m-> 9729\u001b[1;33m         return self._join_compat(\n\u001b[0m\u001b[0;32m   9730\u001b[0m             \u001b[0mother\u001b[0m\u001b[1;33m,\u001b[0m\u001b[1;33m\u001b[0m\u001b[1;33m\u001b[0m\u001b[0m\n\u001b[0;32m   9731\u001b[0m             \u001b[0mon\u001b[0m\u001b[1;33m=\u001b[0m\u001b[0mon\u001b[0m\u001b[1;33m,\u001b[0m\u001b[1;33m\u001b[0m\u001b[1;33m\u001b[0m\u001b[0m\n",
      "\u001b[1;32m~\\Anaconda3\\lib\\site-packages\\pandas\\core\\frame.py\u001b[0m in \u001b[0;36m_join_compat\u001b[1;34m(self, other, on, how, lsuffix, rsuffix, sort, validate)\u001b[0m\n\u001b[0;32m   9766\u001b[0m                     \u001b[0mvalidate\u001b[0m\u001b[1;33m=\u001b[0m\u001b[0mvalidate\u001b[0m\u001b[1;33m,\u001b[0m\u001b[1;33m\u001b[0m\u001b[1;33m\u001b[0m\u001b[0m\n\u001b[0;32m   9767\u001b[0m                 )\n\u001b[1;32m-> 9768\u001b[1;33m             return merge(\n\u001b[0m\u001b[0;32m   9769\u001b[0m                 \u001b[0mself\u001b[0m\u001b[1;33m,\u001b[0m\u001b[1;33m\u001b[0m\u001b[1;33m\u001b[0m\u001b[0m\n\u001b[0;32m   9770\u001b[0m                 \u001b[0mother\u001b[0m\u001b[1;33m,\u001b[0m\u001b[1;33m\u001b[0m\u001b[1;33m\u001b[0m\u001b[0m\n",
      "\u001b[1;32m~\\Anaconda3\\lib\\site-packages\\pandas\\core\\reshape\\merge.py\u001b[0m in \u001b[0;36mmerge\u001b[1;34m(left, right, how, on, left_on, right_on, left_index, right_index, sort, suffixes, copy, indicator, validate)\u001b[0m\n\u001b[0;32m    146\u001b[0m     \u001b[0mvalidate\u001b[0m\u001b[1;33m:\u001b[0m \u001b[0mstr\u001b[0m \u001b[1;33m|\u001b[0m \u001b[1;32mNone\u001b[0m \u001b[1;33m=\u001b[0m \u001b[1;32mNone\u001b[0m\u001b[1;33m,\u001b[0m\u001b[1;33m\u001b[0m\u001b[1;33m\u001b[0m\u001b[0m\n\u001b[0;32m    147\u001b[0m ) -> DataFrame:\n\u001b[1;32m--> 148\u001b[1;33m     op = _MergeOperation(\n\u001b[0m\u001b[0;32m    149\u001b[0m         \u001b[0mleft\u001b[0m\u001b[1;33m,\u001b[0m\u001b[1;33m\u001b[0m\u001b[1;33m\u001b[0m\u001b[0m\n\u001b[0;32m    150\u001b[0m         \u001b[0mright\u001b[0m\u001b[1;33m,\u001b[0m\u001b[1;33m\u001b[0m\u001b[1;33m\u001b[0m\u001b[0m\n",
      "\u001b[1;32m~\\Anaconda3\\lib\\site-packages\\pandas\\core\\reshape\\merge.py\u001b[0m in \u001b[0;36m__init__\u001b[1;34m(self, left, right, how, on, left_on, right_on, axis, left_index, right_index, sort, suffixes, indicator, validate)\u001b[0m\n\u001b[0;32m    739\u001b[0m         \u001b[1;31m# validate the merge keys dtypes. We may need to coerce\u001b[0m\u001b[1;33m\u001b[0m\u001b[1;33m\u001b[0m\u001b[1;33m\u001b[0m\u001b[0m\n\u001b[0;32m    740\u001b[0m         \u001b[1;31m# to avoid incompatible dtypes\u001b[0m\u001b[1;33m\u001b[0m\u001b[1;33m\u001b[0m\u001b[1;33m\u001b[0m\u001b[0m\n\u001b[1;32m--> 741\u001b[1;33m         \u001b[0mself\u001b[0m\u001b[1;33m.\u001b[0m\u001b[0m_maybe_coerce_merge_keys\u001b[0m\u001b[1;33m(\u001b[0m\u001b[1;33m)\u001b[0m\u001b[1;33m\u001b[0m\u001b[1;33m\u001b[0m\u001b[0m\n\u001b[0m\u001b[0;32m    742\u001b[0m \u001b[1;33m\u001b[0m\u001b[0m\n\u001b[0;32m    743\u001b[0m         \u001b[1;31m# If argument passed to validate,\u001b[0m\u001b[1;33m\u001b[0m\u001b[1;33m\u001b[0m\u001b[1;33m\u001b[0m\u001b[0m\n",
      "\u001b[1;32m~\\Anaconda3\\lib\\site-packages\\pandas\\core\\reshape\\merge.py\u001b[0m in \u001b[0;36m_maybe_coerce_merge_keys\u001b[1;34m(self)\u001b[0m\n\u001b[0;32m   1399\u001b[0m                     \u001b[0minferred_right\u001b[0m \u001b[1;32min\u001b[0m \u001b[0mstring_types\u001b[0m \u001b[1;32mand\u001b[0m \u001b[0minferred_left\u001b[0m \u001b[1;32mnot\u001b[0m \u001b[1;32min\u001b[0m \u001b[0mstring_types\u001b[0m\u001b[1;33m\u001b[0m\u001b[1;33m\u001b[0m\u001b[0m\n\u001b[0;32m   1400\u001b[0m                 ):\n\u001b[1;32m-> 1401\u001b[1;33m                     \u001b[1;32mraise\u001b[0m \u001b[0mValueError\u001b[0m\u001b[1;33m(\u001b[0m\u001b[0mmsg\u001b[0m\u001b[1;33m)\u001b[0m\u001b[1;33m\u001b[0m\u001b[1;33m\u001b[0m\u001b[0m\n\u001b[0m\u001b[0;32m   1402\u001b[0m \u001b[1;33m\u001b[0m\u001b[0m\n\u001b[0;32m   1403\u001b[0m             \u001b[1;31m# datetimelikes must match exactly\u001b[0m\u001b[1;33m\u001b[0m\u001b[1;33m\u001b[0m\u001b[1;33m\u001b[0m\u001b[0m\n",
      "\u001b[1;31mValueError\u001b[0m: You are trying to merge on object and int64 columns. If you wish to proceed you should use pd.concat"
     ]
    }
   ],
   "source": [
    "df_baixa_paciente.join(df_profissionais, on='usuario', how=\"inner\")"
   ]
  },
  {
   "cell_type": "code",
   "execution_count": 22,
   "metadata": {},
   "outputs": [],
   "source": [
    "result = pd.concat([df_profissionais, df_baixa_paciente], axis=1, join=\"inner\")"
   ]
  },
  {
   "cell_type": "code",
   "execution_count": 23,
   "metadata": {},
   "outputs": [
    {
     "data": {
      "text/plain": [
       "1200"
      ]
     },
     "execution_count": 23,
     "metadata": {},
     "output_type": "execute_result"
    }
   ],
   "source": [
    "result.size\n"
   ]
  },
  {
   "cell_type": "code",
   "execution_count": 24,
   "metadata": {},
   "outputs": [],
   "source": [
    "result = pd.merge(df_profissionais, df_baixa_paciente, how=\"inner\", on=\"usuario\")"
   ]
  },
  {
   "cell_type": "raw",
   "metadata": {},
   "source": []
  },
  {
   "cell_type": "code",
   "execution_count": 25,
   "metadata": {},
   "outputs": [
    {
     "data": {
      "text/html": [
       "<div>\n",
       "<style scoped>\n",
       "    .dataframe tbody tr th:only-of-type {\n",
       "        vertical-align: middle;\n",
       "    }\n",
       "\n",
       "    .dataframe tbody tr th {\n",
       "        vertical-align: top;\n",
       "    }\n",
       "\n",
       "    .dataframe thead th {\n",
       "        text-align: right;\n",
       "    }\n",
       "</style>\n",
       "<table border=\"1\" class=\"dataframe\">\n",
       "  <thead>\n",
       "    <tr style=\"text-align: right;\">\n",
       "      <th></th>\n",
       "      <th>rf_profissional</th>\n",
       "      <th>nome_profissional</th>\n",
       "      <th>usuario</th>\n",
       "      <th>prontuario</th>\n",
       "      <th>con_numero</th>\n",
       "      <th>trg_seq</th>\n",
       "      <th>seqp</th>\n",
       "      <th>data_consulta</th>\n",
       "      <th>cod_status</th>\n",
       "      <th>status_ficha</th>\n",
       "      <th>data_mvto</th>\n",
       "    </tr>\n",
       "  </thead>\n",
       "  <tbody>\n",
       "    <tr>\n",
       "      <th>7369</th>\n",
       "      <td>50752995</td>\n",
       "      <td>GABRIELA GARCIA PERALTA</td>\n",
       "      <td>X456881</td>\n",
       "      <td>4945572</td>\n",
       "      <td>5816142</td>\n",
       "      <td>233860</td>\n",
       "      <td>5</td>\n",
       "      <td>2024-09-26 12:30:28.705</td>\n",
       "      <td>6</td>\n",
       "      <td>ALTA MEDICA</td>\n",
       "      <td>2024-09-26 15:11:29.498</td>\n",
       "    </tr>\n",
       "    <tr>\n",
       "      <th>7370</th>\n",
       "      <td>50752995</td>\n",
       "      <td>GABRIELA GARCIA PERALTA</td>\n",
       "      <td>X456881</td>\n",
       "      <td>11864295</td>\n",
       "      <td>5816116</td>\n",
       "      <td>233851</td>\n",
       "      <td>5</td>\n",
       "      <td>2024-09-26 12:25:57.292</td>\n",
       "      <td>6</td>\n",
       "      <td>ALTA MEDICA</td>\n",
       "      <td>2024-09-26 14:47:33.554</td>\n",
       "    </tr>\n",
       "    <tr>\n",
       "      <th>7371</th>\n",
       "      <td>50752995</td>\n",
       "      <td>GABRIELA GARCIA PERALTA</td>\n",
       "      <td>X456881</td>\n",
       "      <td>11439718</td>\n",
       "      <td>5816078</td>\n",
       "      <td>233848</td>\n",
       "      <td>5</td>\n",
       "      <td>2024-09-26 12:10:27.098</td>\n",
       "      <td>22</td>\n",
       "      <td>ALTA COM ENCAMINHAMENTO</td>\n",
       "      <td>2024-09-26 13:27:35.519</td>\n",
       "    </tr>\n",
       "    <tr>\n",
       "      <th>7372</th>\n",
       "      <td>50752995</td>\n",
       "      <td>GABRIELA GARCIA PERALTA</td>\n",
       "      <td>X456881</td>\n",
       "      <td>90108739</td>\n",
       "      <td>5816047</td>\n",
       "      <td>233844</td>\n",
       "      <td>5</td>\n",
       "      <td>2024-09-26 12:08:17.333</td>\n",
       "      <td>6</td>\n",
       "      <td>ALTA MEDICA</td>\n",
       "      <td>2024-09-26 15:32:48.839</td>\n",
       "    </tr>\n",
       "    <tr>\n",
       "      <th>7373</th>\n",
       "      <td>50752995</td>\n",
       "      <td>GABRIELA GARCIA PERALTA</td>\n",
       "      <td>X456881</td>\n",
       "      <td>90107368</td>\n",
       "      <td>5816044</td>\n",
       "      <td>233827</td>\n",
       "      <td>5</td>\n",
       "      <td>2024-09-26 11:53:14.415</td>\n",
       "      <td>6</td>\n",
       "      <td>ALTA MEDICA</td>\n",
       "      <td>2024-09-26 13:39:42.507</td>\n",
       "    </tr>\n",
       "    <tr>\n",
       "      <th>...</th>\n",
       "      <td>...</td>\n",
       "      <td>...</td>\n",
       "      <td>...</td>\n",
       "      <td>...</td>\n",
       "      <td>...</td>\n",
       "      <td>...</td>\n",
       "      <td>...</td>\n",
       "      <td>...</td>\n",
       "      <td>...</td>\n",
       "      <td>...</td>\n",
       "      <td>...</td>\n",
       "    </tr>\n",
       "    <tr>\n",
       "      <th>7464</th>\n",
       "      <td>66145394</td>\n",
       "      <td>MARCELA DA SILVEIRA ROCHA</td>\n",
       "      <td>X097274</td>\n",
       "      <td>819391</td>\n",
       "      <td>5789047</td>\n",
       "      <td>229731</td>\n",
       "      <td>5</td>\n",
       "      <td>2024-09-16 10:36:01.002</td>\n",
       "      <td>6</td>\n",
       "      <td>ALTA MEDICA</td>\n",
       "      <td>2024-09-16 12:36:23.531</td>\n",
       "    </tr>\n",
       "    <tr>\n",
       "      <th>7465</th>\n",
       "      <td>66145394</td>\n",
       "      <td>MARCELA DA SILVEIRA ROCHA</td>\n",
       "      <td>X097274</td>\n",
       "      <td>10197762</td>\n",
       "      <td>5789023</td>\n",
       "      <td>229705</td>\n",
       "      <td>5</td>\n",
       "      <td>2024-09-16 10:37:10.171</td>\n",
       "      <td>6</td>\n",
       "      <td>ALTA MEDICA</td>\n",
       "      <td>2024-09-16 11:37:54.945</td>\n",
       "    </tr>\n",
       "    <tr>\n",
       "      <th>7466</th>\n",
       "      <td>66145394</td>\n",
       "      <td>MARCELA DA SILVEIRA ROCHA</td>\n",
       "      <td>X097274</td>\n",
       "      <td>10553170</td>\n",
       "      <td>5789010</td>\n",
       "      <td>229722</td>\n",
       "      <td>5</td>\n",
       "      <td>2024-09-16 10:09:31.443</td>\n",
       "      <td>6</td>\n",
       "      <td>ALTA MEDICA</td>\n",
       "      <td>2024-09-16 10:51:35.168</td>\n",
       "    </tr>\n",
       "    <tr>\n",
       "      <th>7467</th>\n",
       "      <td>66145394</td>\n",
       "      <td>MARCELA DA SILVEIRA ROCHA</td>\n",
       "      <td>X097274</td>\n",
       "      <td>4704326</td>\n",
       "      <td>5788996</td>\n",
       "      <td>229716</td>\n",
       "      <td>5</td>\n",
       "      <td>2024-09-16 10:03:43.073</td>\n",
       "      <td>6</td>\n",
       "      <td>ALTA MEDICA</td>\n",
       "      <td>2024-09-16 10:41:23.422</td>\n",
       "    </tr>\n",
       "    <tr>\n",
       "      <th>7468</th>\n",
       "      <td>66145394</td>\n",
       "      <td>MARCELA DA SILVEIRA ROCHA</td>\n",
       "      <td>X097274</td>\n",
       "      <td>11603925</td>\n",
       "      <td>5788951</td>\n",
       "      <td>229702</td>\n",
       "      <td>5</td>\n",
       "      <td>2024-09-16 09:43:03.052</td>\n",
       "      <td>6</td>\n",
       "      <td>ALTA MEDICA</td>\n",
       "      <td>2024-09-16 09:58:16.107</td>\n",
       "    </tr>\n",
       "  </tbody>\n",
       "</table>\n",
       "<p>100 rows × 11 columns</p>\n",
       "</div>"
      ],
      "text/plain": [
       "      rf_profissional          nome_profissional  usuario  prontuario  \\\n",
       "7369         50752995    GABRIELA GARCIA PERALTA  X456881     4945572   \n",
       "7370         50752995    GABRIELA GARCIA PERALTA  X456881    11864295   \n",
       "7371         50752995    GABRIELA GARCIA PERALTA  X456881    11439718   \n",
       "7372         50752995    GABRIELA GARCIA PERALTA  X456881    90108739   \n",
       "7373         50752995    GABRIELA GARCIA PERALTA  X456881    90107368   \n",
       "...               ...                        ...      ...         ...   \n",
       "7464         66145394  MARCELA DA SILVEIRA ROCHA  X097274      819391   \n",
       "7465         66145394  MARCELA DA SILVEIRA ROCHA  X097274    10197762   \n",
       "7466         66145394  MARCELA DA SILVEIRA ROCHA  X097274    10553170   \n",
       "7467         66145394  MARCELA DA SILVEIRA ROCHA  X097274     4704326   \n",
       "7468         66145394  MARCELA DA SILVEIRA ROCHA  X097274    11603925   \n",
       "\n",
       "      con_numero  trg_seq  seqp            data_consulta  cod_status  \\\n",
       "7369     5816142   233860     5  2024-09-26 12:30:28.705           6   \n",
       "7370     5816116   233851     5  2024-09-26 12:25:57.292           6   \n",
       "7371     5816078   233848     5  2024-09-26 12:10:27.098          22   \n",
       "7372     5816047   233844     5  2024-09-26 12:08:17.333           6   \n",
       "7373     5816044   233827     5  2024-09-26 11:53:14.415           6   \n",
       "...          ...      ...   ...                      ...         ...   \n",
       "7464     5789047   229731     5  2024-09-16 10:36:01.002           6   \n",
       "7465     5789023   229705     5  2024-09-16 10:37:10.171           6   \n",
       "7466     5789010   229722     5  2024-09-16 10:09:31.443           6   \n",
       "7467     5788996   229716     5  2024-09-16 10:03:43.073           6   \n",
       "7468     5788951   229702     5  2024-09-16 09:43:03.052           6   \n",
       "\n",
       "                 status_ficha                data_mvto  \n",
       "7369              ALTA MEDICA  2024-09-26 15:11:29.498  \n",
       "7370              ALTA MEDICA  2024-09-26 14:47:33.554  \n",
       "7371  ALTA COM ENCAMINHAMENTO  2024-09-26 13:27:35.519  \n",
       "7372              ALTA MEDICA  2024-09-26 15:32:48.839  \n",
       "7373              ALTA MEDICA  2024-09-26 13:39:42.507  \n",
       "...                       ...                      ...  \n",
       "7464              ALTA MEDICA  2024-09-16 12:36:23.531  \n",
       "7465              ALTA MEDICA  2024-09-16 11:37:54.945  \n",
       "7466              ALTA MEDICA  2024-09-16 10:51:35.168  \n",
       "7467              ALTA MEDICA  2024-09-16 10:41:23.422  \n",
       "7468              ALTA MEDICA  2024-09-16 09:58:16.107  \n",
       "\n",
       "[100 rows x 11 columns]"
      ]
     },
     "execution_count": 25,
     "metadata": {},
     "output_type": "execute_result"
    }
   ],
   "source": [
    "result.tail(100)"
   ]
  },
  {
   "cell_type": "code",
   "execution_count": 26,
   "metadata": {},
   "outputs": [
    {
     "data": {
      "text/plain": [
       "(7469, 11)"
      ]
     },
     "execution_count": 26,
     "metadata": {},
     "output_type": "execute_result"
    }
   ],
   "source": [
    "result.shape"
   ]
  },
  {
   "cell_type": "code",
   "execution_count": 27,
   "metadata": {},
   "outputs": [
    {
     "data": {
      "text/plain": [
       "(7469, 9)"
      ]
     },
     "execution_count": 27,
     "metadata": {},
     "output_type": "execute_result"
    }
   ],
   "source": [
    "df_baixa_paciente.shape\n"
   ]
  },
  {
   "cell_type": "code",
   "execution_count": 28,
   "metadata": {},
   "outputs": [
    {
     "data": {
      "text/html": [
       "<div>\n",
       "<style scoped>\n",
       "    .dataframe tbody tr th:only-of-type {\n",
       "        vertical-align: middle;\n",
       "    }\n",
       "\n",
       "    .dataframe tbody tr th {\n",
       "        vertical-align: top;\n",
       "    }\n",
       "\n",
       "    .dataframe thead th {\n",
       "        text-align: right;\n",
       "    }\n",
       "</style>\n",
       "<table border=\"1\" class=\"dataframe\">\n",
       "  <thead>\n",
       "    <tr style=\"text-align: right;\">\n",
       "      <th></th>\n",
       "      <th>rf_profissional</th>\n",
       "      <th>nome_profissional</th>\n",
       "      <th>usuario</th>\n",
       "      <th>prontuario</th>\n",
       "      <th>con_numero</th>\n",
       "      <th>trg_seq</th>\n",
       "      <th>seqp</th>\n",
       "      <th>data_consulta</th>\n",
       "      <th>cod_status</th>\n",
       "      <th>status_ficha</th>\n",
       "      <th>data_mvto</th>\n",
       "    </tr>\n",
       "  </thead>\n",
       "  <tbody>\n",
       "    <tr>\n",
       "      <th>0</th>\n",
       "      <td>31043</td>\n",
       "      <td>FLAYLSON MOURA BARROS</td>\n",
       "      <td>X045282</td>\n",
       "      <td>11819588</td>\n",
       "      <td>5818332</td>\n",
       "      <td>234279</td>\n",
       "      <td>5</td>\n",
       "      <td>2024-09-27 11:43:19.623</td>\n",
       "      <td>6</td>\n",
       "      <td>ALTA MEDICA</td>\n",
       "      <td>2024-09-27 12:13:13.252</td>\n",
       "    </tr>\n",
       "    <tr>\n",
       "      <th>1</th>\n",
       "      <td>34177</td>\n",
       "      <td>TYANNA MARIA BONFIM DE MORAES</td>\n",
       "      <td>X055670</td>\n",
       "      <td>12466728</td>\n",
       "      <td>5819880</td>\n",
       "      <td>235020</td>\n",
       "      <td>5</td>\n",
       "      <td>2024-09-29 23:09:58.792</td>\n",
       "      <td>6</td>\n",
       "      <td>ALTA MEDICA</td>\n",
       "      <td>2024-09-29 23:37:23.427</td>\n",
       "    </tr>\n",
       "    <tr>\n",
       "      <th>2</th>\n",
       "      <td>34177</td>\n",
       "      <td>TYANNA MARIA BONFIM DE MORAES</td>\n",
       "      <td>X055670</td>\n",
       "      <td>12191482</td>\n",
       "      <td>5819872</td>\n",
       "      <td>235010</td>\n",
       "      <td>6</td>\n",
       "      <td>2024-09-29 22:03:01.778</td>\n",
       "      <td>6</td>\n",
       "      <td>ALTA MEDICA</td>\n",
       "      <td>2024-09-30 01:33:56.27</td>\n",
       "    </tr>\n",
       "    <tr>\n",
       "      <th>3</th>\n",
       "      <td>34177</td>\n",
       "      <td>TYANNA MARIA BONFIM DE MORAES</td>\n",
       "      <td>X055670</td>\n",
       "      <td>12431755</td>\n",
       "      <td>5819868</td>\n",
       "      <td>235008</td>\n",
       "      <td>5</td>\n",
       "      <td>2024-09-29 21:49:05.491</td>\n",
       "      <td>6</td>\n",
       "      <td>ALTA MEDICA</td>\n",
       "      <td>2024-09-29 22:11:13.573</td>\n",
       "    </tr>\n",
       "    <tr>\n",
       "      <th>4</th>\n",
       "      <td>34177</td>\n",
       "      <td>TYANNA MARIA BONFIM DE MORAES</td>\n",
       "      <td>X055670</td>\n",
       "      <td>12230827</td>\n",
       "      <td>5819860</td>\n",
       "      <td>234998</td>\n",
       "      <td>6</td>\n",
       "      <td>2024-09-29 21:19:44.632</td>\n",
       "      <td>6</td>\n",
       "      <td>ALTA MEDICA</td>\n",
       "      <td>2024-09-30 00:43:47.361</td>\n",
       "    </tr>\n",
       "  </tbody>\n",
       "</table>\n",
       "</div>"
      ],
      "text/plain": [
       "   rf_profissional              nome_profissional  usuario  prontuario  \\\n",
       "0            31043          FLAYLSON MOURA BARROS  X045282    11819588   \n",
       "1            34177  TYANNA MARIA BONFIM DE MORAES  X055670    12466728   \n",
       "2            34177  TYANNA MARIA BONFIM DE MORAES  X055670    12191482   \n",
       "3            34177  TYANNA MARIA BONFIM DE MORAES  X055670    12431755   \n",
       "4            34177  TYANNA MARIA BONFIM DE MORAES  X055670    12230827   \n",
       "\n",
       "   con_numero  trg_seq  seqp            data_consulta  cod_status  \\\n",
       "0     5818332   234279     5  2024-09-27 11:43:19.623           6   \n",
       "1     5819880   235020     5  2024-09-29 23:09:58.792           6   \n",
       "2     5819872   235010     6  2024-09-29 22:03:01.778           6   \n",
       "3     5819868   235008     5  2024-09-29 21:49:05.491           6   \n",
       "4     5819860   234998     6  2024-09-29 21:19:44.632           6   \n",
       "\n",
       "  status_ficha                data_mvto  \n",
       "0  ALTA MEDICA  2024-09-27 12:13:13.252  \n",
       "1  ALTA MEDICA  2024-09-29 23:37:23.427  \n",
       "2  ALTA MEDICA   2024-09-30 01:33:56.27  \n",
       "3  ALTA MEDICA  2024-09-29 22:11:13.573  \n",
       "4  ALTA MEDICA  2024-09-30 00:43:47.361  "
      ]
     },
     "execution_count": 28,
     "metadata": {},
     "output_type": "execute_result"
    }
   ],
   "source": [
    "result.head()"
   ]
  },
  {
   "cell_type": "code",
   "execution_count": 29,
   "metadata": {},
   "outputs": [],
   "source": [
    "df = result.groupby(['nome_profissional']).count().usuario"
   ]
  },
  {
   "cell_type": "code",
   "execution_count": 30,
   "metadata": {},
   "outputs": [
    {
     "data": {
      "text/plain": [
       "nome_profissional\n",
       "AGHU                                    2\n",
       "ALAN BOLONHA FIUZA DE MELLO            14\n",
       "ALEXANDRE VIEIRA DE MOURA CASTRO       41\n",
       "ANA CAROLINA ALVES DE ANDRADE SILVA     3\n",
       "ANA CAROLINA BARBOSA FURTADO           24\n",
       "Name: usuario, dtype: int64"
      ]
     },
     "execution_count": 30,
     "metadata": {},
     "output_type": "execute_result"
    }
   ],
   "source": [
    "df.head()"
   ]
  },
  {
   "cell_type": "code",
   "execution_count": 31,
   "metadata": {},
   "outputs": [],
   "source": [
    "#Determinando o nome do arquivo\n",
    "file_name_ficha = r'G:\\OneDrive - Default Directory\\OneDrive - rede.sp\\WorkSpace_PS\\Relatorio_Setembro_2024\\Atendimento_Medico_Setembro_2024.xlsx'\n",
    "  \n",
    "# Salvando o excel\n",
    "df.to_excel(file_name_ficha)"
   ]
  },
  {
   "cell_type": "code",
   "execution_count": 32,
   "metadata": {},
   "outputs": [],
   "source": [
    "result['data_mvto'] = pd.to_datetime(result['data_mvto'],format='mixed') #if not already as datetime object\n"
   ]
  },
  {
   "cell_type": "code",
   "execution_count": 33,
   "metadata": {},
   "outputs": [],
   "source": [
    "dfResult = result.groupby([ 'nome_profissional',pd.Grouper(key='data_mvto', freq='12h', origin='2023-05-01 07:00:00')]).usuario.count()"
   ]
  },
  {
   "cell_type": "code",
   "execution_count": 34,
   "metadata": {},
   "outputs": [
    {
     "data": {
      "text/plain": [
       "nome_profissional                 data_mvto          \n",
       "AGHU                              2024-09-16 07:00:00     1\n",
       "                                  2024-09-21 07:00:00     1\n",
       "ALAN BOLONHA FIUZA DE MELLO       2024-09-26 07:00:00    13\n",
       "                                  2024-09-26 19:00:00     1\n",
       "ALEXANDRE VIEIRA DE MOURA CASTRO  2024-09-23 07:00:00    16\n",
       "Name: usuario, dtype: int64"
      ]
     },
     "execution_count": 34,
     "metadata": {},
     "output_type": "execute_result"
    }
   ],
   "source": [
    "dfResult.head()"
   ]
  },
  {
   "cell_type": "code",
   "execution_count": null,
   "metadata": {},
   "outputs": [],
   "source": []
  },
  {
   "cell_type": "code",
   "execution_count": 35,
   "metadata": {},
   "outputs": [
    {
     "data": {
      "text/plain": [
       "nome_profissional                 data_mvto          \n",
       "AGHU                              2024-09-16 07:00:00     1\n",
       "                                  2024-09-21 07:00:00     1\n",
       "ALAN BOLONHA FIUZA DE MELLO       2024-09-26 07:00:00    13\n",
       "                                  2024-09-26 19:00:00     1\n",
       "ALEXANDRE VIEIRA DE MOURA CASTRO  2024-09-23 07:00:00    16\n",
       "Name: usuario, dtype: int64"
      ]
     },
     "execution_count": 35,
     "metadata": {},
     "output_type": "execute_result"
    }
   ],
   "source": [
    "dfResult.head()"
   ]
  },
  {
   "cell_type": "code",
   "execution_count": 36,
   "metadata": {},
   "outputs": [],
   "source": [
    "#Determinando o nome do arquivo\n",
    "file_name_ficha = r'G:\\OneDrive - Default Directory\\OneDrive - rede.sp\\WorkSpace_PS\\Relatorio_Setembro_2024\\Atendimento_Setembro_Hora_2024.xlsx'\n",
    "  \n",
    "# Salvando o excel\n",
    "dfResult.to_excel(file_name_ficha)"
   ]
  },
  {
   "cell_type": "code",
   "execution_count": 37,
   "metadata": {},
   "outputs": [],
   "source": [
    "dfResult = result.groupby([ 'nome_profissional',pd.Grouper(key='data_mvto', freq='24h')]).usuario.count()"
   ]
  },
  {
   "cell_type": "code",
   "execution_count": 38,
   "metadata": {},
   "outputs": [
    {
     "data": {
      "text/plain": [
       "nome_profissional                    data_mvto \n",
       "AGHU                                 2024-09-16     1\n",
       "                                     2024-09-21     1\n",
       "ALAN BOLONHA FIUZA DE MELLO          2024-09-26    14\n",
       "ALEXANDRE VIEIRA DE MOURA CASTRO     2024-09-23    22\n",
       "                                     2024-09-30    19\n",
       "ANA CAROLINA ALVES DE ANDRADE SILVA  2024-09-28     2\n",
       "                                     2024-09-29     1\n",
       "ANA CAROLINA BARBOSA FURTADO         2024-09-01     4\n",
       "                                     2024-09-06     2\n",
       "                                     2024-09-07     3\n",
       "                                     2024-09-15     2\n",
       "                                     2024-09-16     1\n",
       "                                     2024-09-17     3\n",
       "                                     2024-09-22     6\n",
       "                                     2024-09-28     3\n",
       "ANA CAROLINA SALES ABREU LISBOA      2024-09-10    18\n",
       "ANDRE DA CRUZ BARBOSA NAZZARO        2024-09-07    24\n",
       "                                     2024-09-08     1\n",
       "                                     2024-09-12     7\n",
       "                                     2024-09-18     1\n",
       "                                     2024-09-24     9\n",
       "                                     2024-09-25     1\n",
       "                                     2024-09-27     9\n",
       "                                     2024-09-28     3\n",
       "ANDREA BACELLAR SOARES DE ANDRADE    2024-09-12     6\n",
       "                                     2024-09-19     2\n",
       "                                     2024-09-26     4\n",
       "ANTONIO PEDRO LISBOA DE SOUZA        2024-09-10     8\n",
       "                                     2024-09-11     2\n",
       "                                     2024-09-20     6\n",
       "                                     2024-09-21     2\n",
       "                                     2024-09-28    28\n",
       "                                     2024-09-29     1\n",
       "CAMILA COELHO NOBREGA RIEDEL         2024-09-01     2\n",
       "                                     2024-09-02     1\n",
       "                                     2024-09-04     9\n",
       "                                     2024-09-05     2\n",
       "                                     2024-09-08     6\n",
       "                                     2024-09-09     5\n",
       "CAMILA MENDONCA LOPES                2024-09-24     3\n",
       "CARLOS ALBERTO GRANADILLO FIOL       2024-09-25     7\n",
       "                                     2024-09-26     2\n",
       "CARLOS YISRAEL                       2024-09-09     8\n",
       "                                     2024-09-12    11\n",
       "                                     2024-09-16    13\n",
       "                                     2024-09-19    15\n",
       "                                     2024-09-23    20\n",
       "                                     2024-09-26     8\n",
       "                                     2024-09-30    17\n",
       "CLEIDE MARIA PEREIRA                 2024-09-26    15\n",
       "Name: usuario, dtype: int64"
      ]
     },
     "execution_count": 38,
     "metadata": {},
     "output_type": "execute_result"
    }
   ],
   "source": [
    "dfResult.head(50)"
   ]
  },
  {
   "cell_type": "code",
   "execution_count": 39,
   "metadata": {},
   "outputs": [],
   "source": [
    "#Determinando o nome do arquivo\n",
    "file_name_ficha = r'G:\\OneDrive - Default Directory\\OneDrive - rede.sp\\WorkSpace_PS\\Relatorio_Setembro_2024\\Atendimento_Setembro_Dia_2024.xlsx'\n",
    "  \n",
    "# Salvando o excel\n",
    "dfResult.to_excel(file_name_ficha)\n"
   ]
  },
  {
   "cell_type": "code",
   "execution_count": null,
   "metadata": {},
   "outputs": [],
   "source": []
  },
  {
   "cell_type": "code",
   "execution_count": null,
   "metadata": {},
   "outputs": [],
   "source": []
  },
  {
   "cell_type": "code",
   "execution_count": null,
   "metadata": {},
   "outputs": [],
   "source": []
  },
  {
   "cell_type": "code",
   "execution_count": null,
   "metadata": {},
   "outputs": [],
   "source": []
  },
  {
   "cell_type": "code",
   "execution_count": null,
   "metadata": {},
   "outputs": [],
   "source": []
  },
  {
   "cell_type": "code",
   "execution_count": null,
   "metadata": {},
   "outputs": [],
   "source": []
  },
  {
   "cell_type": "code",
   "execution_count": null,
   "metadata": {},
   "outputs": [],
   "source": []
  },
  {
   "cell_type": "code",
   "execution_count": null,
   "metadata": {},
   "outputs": [],
   "source": []
  },
  {
   "cell_type": "code",
   "execution_count": null,
   "metadata": {},
   "outputs": [],
   "source": []
  },
  {
   "cell_type": "code",
   "execution_count": null,
   "metadata": {},
   "outputs": [],
   "source": []
  },
  {
   "cell_type": "code",
   "execution_count": null,
   "metadata": {},
   "outputs": [],
   "source": []
  },
  {
   "cell_type": "code",
   "execution_count": null,
   "metadata": {},
   "outputs": [],
   "source": []
  }
 ],
 "metadata": {
  "kernelspec": {
   "display_name": "Python 3",
   "language": "python",
   "name": "python3"
  },
  "language_info": {
   "codemirror_mode": {
    "name": "ipython",
    "version": 3
   },
   "file_extension": ".py",
   "mimetype": "text/x-python",
   "name": "python",
   "nbconvert_exporter": "python",
   "pygments_lexer": "ipython3",
   "version": "3.8.3"
  }
 },
 "nbformat": 4,
 "nbformat_minor": 4
}
