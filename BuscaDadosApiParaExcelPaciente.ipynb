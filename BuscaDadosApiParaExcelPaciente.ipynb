{
 "cells": [
  {
   "cell_type": "code",
   "execution_count": 1,
   "metadata": {},
   "outputs": [],
   "source": [
    "## Importação das Bibliotecas utilizadas neste Fonte\n",
    "import requests\n",
    "import json \n",
    "import pandas as pd"
   ]
  },
  {
   "cell_type": "code",
   "execution_count": 2,
   "metadata": {},
   "outputs": [],
   "source": [
    "# Endpoints para o consumo de dados do banco de dados de produção do SGH\n",
    "\n",
    "#Fichas do Histórico do Paciente no PS\n",
    "res_ficha_pac = requests.get('http://intranethspm:5009/hspmsgh-api/relatorio/fichapacientes/2023-03-01/2023-03-31')\n",
    "\n",
    "#Pacientes do histórico de consulta\n",
    "res_pac = requests.get('http://intranethspm:5009/hspmsgh-api/relatorio/pacientes/2023-03-01/2023-03-31')\n",
    "\n",
    "#Profissionais Médicos que deram baixa no SGH\n",
    "res_prof = requests.get('http://intranethspm:5009/hspmsgh-api/relatorio/profissionais/2023-03-01/2023-03-31')\n",
    "\n",
    "#Endereços dos Pacientes do histórico de consulta\n",
    "res_ender_pac = requests.get('http://intranethspm:5009/hspmsgh-api/relatorio/enderecofichapacientes/2023-03-01/2023-03-31')\n",
    "\n",
    "# Baixa de Pacientes\n",
    "res_baixa_pac = requests.get('http://intranethspm:5009/hspmsgh-api/relatorio/baixapacientes/2023-03-01/2023-03-31')"
   ]
  },
  {
   "cell_type": "code",
   "execution_count": 3,
   "metadata": {},
   "outputs": [],
   "source": [
    "# Carregando os dados 'json' para um tipo dicionário\n",
    "\n",
    "#Fichas do Histórico do Paciente no PS\n",
    "response_ficha_pac = json.loads(res_ficha_pac.text)\n",
    "\n",
    "#Pacientes do histórico de consulta\n",
    "response_pac = json.loads(res_pac.text)\n",
    "\n",
    "#Profissionais Médicos que deram baixa no SGH\n",
    "response_prof = json.loads(res_prof.text)\n",
    "\n",
    "#Endereços dos Pacientes do histórico de consulta\n",
    "response_ender = json.loads(res_ender_pac.text)\n",
    "\n",
    "# Baixa de Pacientes\n",
    "response_baixa_pac = json.loads(res_baixa_pac.text)"
   ]
  },
  {
   "cell_type": "code",
   "execution_count": 4,
   "metadata": {},
   "outputs": [],
   "source": [
    "# Criando os DataFrames a partir dos dicionários\n",
    "\n",
    "#Fichas do Histórico do Paciente no PS\n",
    "df_ficha_pac =  pd.DataFrame.from_dict(response_ficha_pac)\n",
    "\n",
    "#Pacientes do histórico de consulta\n",
    "df_pac =  pd.DataFrame.from_dict(response_pac)\n",
    "\n",
    "#Profissionais Médicos que deram baixa no SGH\n",
    "df_prof =  pd.DataFrame.from_dict(response_prof)\n",
    "\n",
    "#Endereços dos Pacientes do histórico de consulta\n",
    "df_ender_pac =  pd.DataFrame.from_dict(response_ender)\n",
    "\n",
    "# Baixa de Pacientes\n",
    "df_baixa_pac =  pd.DataFrame.from_dict(response_baixa_pac)"
   ]
  },
  {
   "cell_type": "code",
   "execution_count": 5,
   "metadata": {},
   "outputs": [],
   "source": [
    "# Relatório - Pacientes \n",
    "# Base de Dados para geração dos arquivos das tabelas dos Pacientes \n"
   ]
  },
  {
   "cell_type": "code",
   "execution_count": 6,
   "metadata": {},
   "outputs": [],
   "source": [
    "# Ficha Pacientes\n",
    "\n",
    "# determining the name of the file\n",
    "file_name_ficha = r'G:\\OneDrive - Default Directory\\OneDrive - rede.sp\\WorkSpace_PS\\Arquivos_Excel\\Pasta\\FichaPacientes_Geral_03_2023.xlsx'\n",
    "  \n",
    "# saving the excel\n",
    "df_ficha_pac.to_excel(file_name_ficha)"
   ]
  },
  {
   "cell_type": "code",
   "execution_count": 7,
   "metadata": {},
   "outputs": [],
   "source": [
    "# Endereço de Paciente\n",
    "\n",
    "# determining the name of the file\n",
    "file_name_endereco = r'G:\\OneDrive - Default Directory\\OneDrive - rede.sp\\WorkSpace_PS\\Arquivos_Excel\\Pasta\\EnderecosDePacientes_Geral_03_2023.xlsx'\n",
    "  \n",
    "# saving the excel\n",
    "df_ender_pac.to_excel(file_name_endereco)"
   ]
  },
  {
   "cell_type": "code",
   "execution_count": 8,
   "metadata": {},
   "outputs": [],
   "source": [
    "# Paciente\n",
    "\n",
    "# determining the name of the file\n",
    "file_name_paciente = r'G:\\OneDrive - Default Directory\\OneDrive - rede.sp\\WorkSpace_PS\\Arquivos_Excel\\Pasta\\Pacientes_Geral_03_2023.xlsx'\n",
    "  \n",
    "# saving the excel\n",
    "df_pac.to_excel(file_name_paciente)"
   ]
  },
  {
   "cell_type": "code",
   "execution_count": 9,
   "metadata": {},
   "outputs": [],
   "source": [
    "# Baixa de Paciente\n",
    "\n",
    "# determining the name of the file\n",
    "file_baixa_paciente = r'G:\\OneDrive - Default Directory\\OneDrive - rede.sp\\WorkSpace_PS\\Arquivos_Excel\\Pasta\\BaixaPacientes_Geral_03_2023.xlsx'\n",
    "  \n",
    "# saving the excel\n",
    "df_baixa_pac.to_excel(file_baixa_paciente)"
   ]
  },
  {
   "cell_type": "code",
   "execution_count": 10,
   "metadata": {},
   "outputs": [],
   "source": [
    "# Profissional \n",
    "\n",
    "# determining the name of the file\n",
    "file_baixa_paciente = r'G:\\OneDrive - Default Directory\\OneDrive - rede.sp\\WorkSpace_PS\\Arquivos_Excel\\Pasta\\Profissional_Geral_03_2023.xlsx'\n",
    "  \n",
    "# saving the excel\n",
    "df_prof.to_excel(file_baixa_paciente)"
   ]
  },
  {
   "cell_type": "code",
   "execution_count": 11,
   "metadata": {},
   "outputs": [],
   "source": [
    "# Relatório de produtividade - alteração realizada para medir a produtividade por hora "
   ]
  },
  {
   "cell_type": "code",
   "execution_count": 12,
   "metadata": {},
   "outputs": [
    {
     "name": "stdout",
     "output_type": "stream",
     "text": [
      "<class 'pandas.core.frame.DataFrame'>\n",
      "RangeIndex: 6475 entries, 0 to 6474\n",
      "Data columns (total 9 columns):\n",
      " #   Column         Non-Null Count  Dtype \n",
      "---  ------         --------------  ----- \n",
      " 0   prontuario     6475 non-null   int64 \n",
      " 1   con_numero     6475 non-null   int64 \n",
      " 2   trg_seq        6475 non-null   int64 \n",
      " 3   seqp           6475 non-null   int64 \n",
      " 4   data_consulta  6474 non-null   object\n",
      " 5   cod_status     6475 non-null   int64 \n",
      " 6   status_ficha   6475 non-null   object\n",
      " 7   usuario        6475 non-null   object\n",
      " 8   data_mvto      6475 non-null   object\n",
      "dtypes: int64(5), object(4)\n",
      "memory usage: 455.4+ KB\n"
     ]
    }
   ],
   "source": [
    "# Informações do data_frame, verificando campos nulos\n",
    "df_baixa_pac.info()"
   ]
  },
  {
   "cell_type": "code",
   "execution_count": 13,
   "metadata": {},
   "outputs": [],
   "source": [
    "# Mudança do tipo do campo \"data_acolhimento\" para datetime\n",
    " \n",
    "df_baixa_pac[\"data_mvto\"] = pd.to_datetime(df_baixa_pac[\"data_mvto\"])"
   ]
  },
  {
   "cell_type": "code",
   "execution_count": 14,
   "metadata": {},
   "outputs": [
    {
     "name": "stdout",
     "output_type": "stream",
     "text": [
      "<class 'pandas.core.frame.DataFrame'>\n",
      "RangeIndex: 6475 entries, 0 to 6474\n",
      "Data columns (total 9 columns):\n",
      " #   Column         Non-Null Count  Dtype         \n",
      "---  ------         --------------  -----         \n",
      " 0   prontuario     6475 non-null   int64         \n",
      " 1   con_numero     6475 non-null   int64         \n",
      " 2   trg_seq        6475 non-null   int64         \n",
      " 3   seqp           6475 non-null   int64         \n",
      " 4   data_consulta  6474 non-null   object        \n",
      " 5   cod_status     6475 non-null   int64         \n",
      " 6   status_ficha   6475 non-null   object        \n",
      " 7   usuario        6475 non-null   object        \n",
      " 8   data_mvto      6475 non-null   datetime64[ns]\n",
      "dtypes: datetime64[ns](1), int64(5), object(3)\n",
      "memory usage: 455.4+ KB\n"
     ]
    }
   ],
   "source": [
    "# Visualização das informações atualizadas\n",
    "df_baixa_pac.info()"
   ]
  },
  {
   "cell_type": "code",
   "execution_count": 15,
   "metadata": {},
   "outputs": [
    {
     "data": {
      "text/html": [
       "<div>\n",
       "<style scoped>\n",
       "    .dataframe tbody tr th:only-of-type {\n",
       "        vertical-align: middle;\n",
       "    }\n",
       "\n",
       "    .dataframe tbody tr th {\n",
       "        vertical-align: top;\n",
       "    }\n",
       "\n",
       "    .dataframe thead th {\n",
       "        text-align: right;\n",
       "    }\n",
       "</style>\n",
       "<table border=\"1\" class=\"dataframe\">\n",
       "  <thead>\n",
       "    <tr style=\"text-align: right;\">\n",
       "      <th></th>\n",
       "      <th>prontuario</th>\n",
       "      <th>con_numero</th>\n",
       "      <th>trg_seq</th>\n",
       "      <th>seqp</th>\n",
       "      <th>data_consulta</th>\n",
       "      <th>cod_status</th>\n",
       "      <th>status_ficha</th>\n",
       "      <th>usuario</th>\n",
       "      <th>data_mvto</th>\n",
       "    </tr>\n",
       "  </thead>\n",
       "  <tbody>\n",
       "    <tr>\n",
       "      <th>0</th>\n",
       "      <td>2097111</td>\n",
       "      <td>3979512</td>\n",
       "      <td>56808</td>\n",
       "      <td>5</td>\n",
       "      <td>2023-03-31 23:07:16.861</td>\n",
       "      <td>22</td>\n",
       "      <td>ALTA COM ENCAMINHAMENTO</td>\n",
       "      <td>R895362</td>\n",
       "      <td>2023-03-31 23:52:28.305</td>\n",
       "    </tr>\n",
       "    <tr>\n",
       "      <th>1</th>\n",
       "      <td>11844610</td>\n",
       "      <td>3979510</td>\n",
       "      <td>56806</td>\n",
       "      <td>5</td>\n",
       "      <td>2023-03-31 22:50:26.029</td>\n",
       "      <td>6</td>\n",
       "      <td>ALTA MEDICA</td>\n",
       "      <td>R919842</td>\n",
       "      <td>2023-03-31 23:44:21.799</td>\n",
       "    </tr>\n",
       "    <tr>\n",
       "      <th>2</th>\n",
       "      <td>12243812</td>\n",
       "      <td>3979506</td>\n",
       "      <td>56800</td>\n",
       "      <td>7</td>\n",
       "      <td>2023-03-31 22:25:55.779</td>\n",
       "      <td>6</td>\n",
       "      <td>ALTA MEDICA</td>\n",
       "      <td>R895539</td>\n",
       "      <td>2023-03-31 23:54:09.626</td>\n",
       "    </tr>\n",
       "    <tr>\n",
       "      <th>3</th>\n",
       "      <td>10705275</td>\n",
       "      <td>3979504</td>\n",
       "      <td>56802</td>\n",
       "      <td>5</td>\n",
       "      <td>2023-03-31 22:24:44.644</td>\n",
       "      <td>6</td>\n",
       "      <td>ALTA MEDICA</td>\n",
       "      <td>X036242</td>\n",
       "      <td>2023-03-31 22:48:14.188</td>\n",
       "    </tr>\n",
       "    <tr>\n",
       "      <th>4</th>\n",
       "      <td>5348628</td>\n",
       "      <td>3979496</td>\n",
       "      <td>56798</td>\n",
       "      <td>5</td>\n",
       "      <td>2023-03-31 21:49:27.027</td>\n",
       "      <td>6</td>\n",
       "      <td>ALTA MEDICA</td>\n",
       "      <td>X036242</td>\n",
       "      <td>2023-03-31 22:42:04.958</td>\n",
       "    </tr>\n",
       "  </tbody>\n",
       "</table>\n",
       "</div>"
      ],
      "text/plain": [
       "   prontuario  con_numero  trg_seq  seqp            data_consulta  cod_status  \\\n",
       "0     2097111     3979512    56808     5  2023-03-31 23:07:16.861          22   \n",
       "1    11844610     3979510    56806     5  2023-03-31 22:50:26.029           6   \n",
       "2    12243812     3979506    56800     7  2023-03-31 22:25:55.779           6   \n",
       "3    10705275     3979504    56802     5  2023-03-31 22:24:44.644           6   \n",
       "4     5348628     3979496    56798     5  2023-03-31 21:49:27.027           6   \n",
       "\n",
       "              status_ficha  usuario               data_mvto  \n",
       "0  ALTA COM ENCAMINHAMENTO  R895362 2023-03-31 23:52:28.305  \n",
       "1              ALTA MEDICA  R919842 2023-03-31 23:44:21.799  \n",
       "2              ALTA MEDICA  R895539 2023-03-31 23:54:09.626  \n",
       "3              ALTA MEDICA  X036242 2023-03-31 22:48:14.188  \n",
       "4              ALTA MEDICA  X036242 2023-03-31 22:42:04.958  "
      ]
     },
     "execution_count": 15,
     "metadata": {},
     "output_type": "execute_result"
    }
   ],
   "source": [
    "# Valores do data_frame \n",
    "df_baixa_pac.head()"
   ]
  },
  {
   "cell_type": "code",
   "execution_count": 16,
   "metadata": {},
   "outputs": [],
   "source": [
    "# Contagem de produtividade por fichas abertas por hora\n",
    "dc_contagem_por_hora = df_baixa_pac.resample('H', on='data_mvto').prontuario.count()"
   ]
  },
  {
   "cell_type": "code",
   "execution_count": 17,
   "metadata": {},
   "outputs": [],
   "source": [
    "# Dataframe de produtividade por fichas abertas por hora \n",
    "df_contagem_por_hora = dc_contagem_por_hora.to_frame()"
   ]
  },
  {
   "cell_type": "code",
   "execution_count": 18,
   "metadata": {},
   "outputs": [],
   "source": [
    "# Acrescentando os campos data e hora separadamente no dataframe de produtividade\n",
    "df_contagem_por_hora['data'] = [d.date() for d in df_contagem_por_hora.index]\n",
    "df_contagem_por_hora['hora'] = [d.time() for d in df_contagem_por_hora.index]"
   ]
  },
  {
   "cell_type": "code",
   "execution_count": 19,
   "metadata": {},
   "outputs": [
    {
     "data": {
      "text/html": [
       "<div>\n",
       "<style scoped>\n",
       "    .dataframe tbody tr th:only-of-type {\n",
       "        vertical-align: middle;\n",
       "    }\n",
       "\n",
       "    .dataframe tbody tr th {\n",
       "        vertical-align: top;\n",
       "    }\n",
       "\n",
       "    .dataframe thead th {\n",
       "        text-align: right;\n",
       "    }\n",
       "</style>\n",
       "<table border=\"1\" class=\"dataframe\">\n",
       "  <thead>\n",
       "    <tr style=\"text-align: right;\">\n",
       "      <th></th>\n",
       "      <th>prontuario</th>\n",
       "      <th>data</th>\n",
       "      <th>hora</th>\n",
       "    </tr>\n",
       "    <tr>\n",
       "      <th>data_mvto</th>\n",
       "      <th></th>\n",
       "      <th></th>\n",
       "      <th></th>\n",
       "    </tr>\n",
       "  </thead>\n",
       "  <tbody>\n",
       "    <tr>\n",
       "      <th>2023-03-01 00:00:00</th>\n",
       "      <td>2</td>\n",
       "      <td>2023-03-01</td>\n",
       "      <td>00:00:00</td>\n",
       "    </tr>\n",
       "    <tr>\n",
       "      <th>2023-03-01 01:00:00</th>\n",
       "      <td>1</td>\n",
       "      <td>2023-03-01</td>\n",
       "      <td>01:00:00</td>\n",
       "    </tr>\n",
       "    <tr>\n",
       "      <th>2023-03-01 02:00:00</th>\n",
       "      <td>0</td>\n",
       "      <td>2023-03-01</td>\n",
       "      <td>02:00:00</td>\n",
       "    </tr>\n",
       "    <tr>\n",
       "      <th>2023-03-01 03:00:00</th>\n",
       "      <td>1</td>\n",
       "      <td>2023-03-01</td>\n",
       "      <td>03:00:00</td>\n",
       "    </tr>\n",
       "    <tr>\n",
       "      <th>2023-03-01 04:00:00</th>\n",
       "      <td>2</td>\n",
       "      <td>2023-03-01</td>\n",
       "      <td>04:00:00</td>\n",
       "    </tr>\n",
       "    <tr>\n",
       "      <th>2023-03-01 05:00:00</th>\n",
       "      <td>0</td>\n",
       "      <td>2023-03-01</td>\n",
       "      <td>05:00:00</td>\n",
       "    </tr>\n",
       "    <tr>\n",
       "      <th>2023-03-01 06:00:00</th>\n",
       "      <td>6</td>\n",
       "      <td>2023-03-01</td>\n",
       "      <td>06:00:00</td>\n",
       "    </tr>\n",
       "    <tr>\n",
       "      <th>2023-03-01 07:00:00</th>\n",
       "      <td>15</td>\n",
       "      <td>2023-03-01</td>\n",
       "      <td>07:00:00</td>\n",
       "    </tr>\n",
       "    <tr>\n",
       "      <th>2023-03-01 08:00:00</th>\n",
       "      <td>12</td>\n",
       "      <td>2023-03-01</td>\n",
       "      <td>08:00:00</td>\n",
       "    </tr>\n",
       "    <tr>\n",
       "      <th>2023-03-01 09:00:00</th>\n",
       "      <td>19</td>\n",
       "      <td>2023-03-01</td>\n",
       "      <td>09:00:00</td>\n",
       "    </tr>\n",
       "    <tr>\n",
       "      <th>2023-03-01 10:00:00</th>\n",
       "      <td>21</td>\n",
       "      <td>2023-03-01</td>\n",
       "      <td>10:00:00</td>\n",
       "    </tr>\n",
       "    <tr>\n",
       "      <th>2023-03-01 11:00:00</th>\n",
       "      <td>29</td>\n",
       "      <td>2023-03-01</td>\n",
       "      <td>11:00:00</td>\n",
       "    </tr>\n",
       "    <tr>\n",
       "      <th>2023-03-01 12:00:00</th>\n",
       "      <td>30</td>\n",
       "      <td>2023-03-01</td>\n",
       "      <td>12:00:00</td>\n",
       "    </tr>\n",
       "    <tr>\n",
       "      <th>2023-03-01 13:00:00</th>\n",
       "      <td>28</td>\n",
       "      <td>2023-03-01</td>\n",
       "      <td>13:00:00</td>\n",
       "    </tr>\n",
       "    <tr>\n",
       "      <th>2023-03-01 14:00:00</th>\n",
       "      <td>16</td>\n",
       "      <td>2023-03-01</td>\n",
       "      <td>14:00:00</td>\n",
       "    </tr>\n",
       "    <tr>\n",
       "      <th>2023-03-01 15:00:00</th>\n",
       "      <td>13</td>\n",
       "      <td>2023-03-01</td>\n",
       "      <td>15:00:00</td>\n",
       "    </tr>\n",
       "    <tr>\n",
       "      <th>2023-03-01 16:00:00</th>\n",
       "      <td>16</td>\n",
       "      <td>2023-03-01</td>\n",
       "      <td>16:00:00</td>\n",
       "    </tr>\n",
       "    <tr>\n",
       "      <th>2023-03-01 17:00:00</th>\n",
       "      <td>12</td>\n",
       "      <td>2023-03-01</td>\n",
       "      <td>17:00:00</td>\n",
       "    </tr>\n",
       "    <tr>\n",
       "      <th>2023-03-01 18:00:00</th>\n",
       "      <td>16</td>\n",
       "      <td>2023-03-01</td>\n",
       "      <td>18:00:00</td>\n",
       "    </tr>\n",
       "    <tr>\n",
       "      <th>2023-03-01 19:00:00</th>\n",
       "      <td>9</td>\n",
       "      <td>2023-03-01</td>\n",
       "      <td>19:00:00</td>\n",
       "    </tr>\n",
       "    <tr>\n",
       "      <th>2023-03-01 20:00:00</th>\n",
       "      <td>3</td>\n",
       "      <td>2023-03-01</td>\n",
       "      <td>20:00:00</td>\n",
       "    </tr>\n",
       "    <tr>\n",
       "      <th>2023-03-01 21:00:00</th>\n",
       "      <td>9</td>\n",
       "      <td>2023-03-01</td>\n",
       "      <td>21:00:00</td>\n",
       "    </tr>\n",
       "    <tr>\n",
       "      <th>2023-03-01 22:00:00</th>\n",
       "      <td>8</td>\n",
       "      <td>2023-03-01</td>\n",
       "      <td>22:00:00</td>\n",
       "    </tr>\n",
       "    <tr>\n",
       "      <th>2023-03-01 23:00:00</th>\n",
       "      <td>7</td>\n",
       "      <td>2023-03-01</td>\n",
       "      <td>23:00:00</td>\n",
       "    </tr>\n",
       "  </tbody>\n",
       "</table>\n",
       "</div>"
      ],
      "text/plain": [
       "                     prontuario        data      hora\n",
       "data_mvto                                            \n",
       "2023-03-01 00:00:00           2  2023-03-01  00:00:00\n",
       "2023-03-01 01:00:00           1  2023-03-01  01:00:00\n",
       "2023-03-01 02:00:00           0  2023-03-01  02:00:00\n",
       "2023-03-01 03:00:00           1  2023-03-01  03:00:00\n",
       "2023-03-01 04:00:00           2  2023-03-01  04:00:00\n",
       "2023-03-01 05:00:00           0  2023-03-01  05:00:00\n",
       "2023-03-01 06:00:00           6  2023-03-01  06:00:00\n",
       "2023-03-01 07:00:00          15  2023-03-01  07:00:00\n",
       "2023-03-01 08:00:00          12  2023-03-01  08:00:00\n",
       "2023-03-01 09:00:00          19  2023-03-01  09:00:00\n",
       "2023-03-01 10:00:00          21  2023-03-01  10:00:00\n",
       "2023-03-01 11:00:00          29  2023-03-01  11:00:00\n",
       "2023-03-01 12:00:00          30  2023-03-01  12:00:00\n",
       "2023-03-01 13:00:00          28  2023-03-01  13:00:00\n",
       "2023-03-01 14:00:00          16  2023-03-01  14:00:00\n",
       "2023-03-01 15:00:00          13  2023-03-01  15:00:00\n",
       "2023-03-01 16:00:00          16  2023-03-01  16:00:00\n",
       "2023-03-01 17:00:00          12  2023-03-01  17:00:00\n",
       "2023-03-01 18:00:00          16  2023-03-01  18:00:00\n",
       "2023-03-01 19:00:00           9  2023-03-01  19:00:00\n",
       "2023-03-01 20:00:00           3  2023-03-01  20:00:00\n",
       "2023-03-01 21:00:00           9  2023-03-01  21:00:00\n",
       "2023-03-01 22:00:00           8  2023-03-01  22:00:00\n",
       "2023-03-01 23:00:00           7  2023-03-01  23:00:00"
      ]
     },
     "execution_count": 19,
     "metadata": {},
     "output_type": "execute_result"
    }
   ],
   "source": [
    "# Apresentação dos dados das primeiras 24h do dataframe\n",
    "df_contagem_por_hora.head(24)"
   ]
  },
  {
   "cell_type": "code",
   "execution_count": 20,
   "metadata": {},
   "outputs": [],
   "source": [
    "#Determinando o nome do arquivo\n",
    "file_name_ficha = r'G:\\OneDrive - Default Directory\\OneDrive - rede.sp\\WorkSpace_PS\\Arquivos_Excel\\Pasta\\FichaPacientesBaixa_Produtividade_Geral_03_2023.xlsx'\n",
    "  \n",
    "# Salvando o excel\n",
    "df_contagem_por_hora.to_excel(file_name_ficha)"
   ]
  },
  {
   "cell_type": "code",
   "execution_count": null,
   "metadata": {},
   "outputs": [],
   "source": []
  },
  {
   "cell_type": "code",
   "execution_count": null,
   "metadata": {},
   "outputs": [],
   "source": []
  },
  {
   "cell_type": "code",
   "execution_count": null,
   "metadata": {},
   "outputs": [],
   "source": []
  },
  {
   "cell_type": "code",
   "execution_count": null,
   "metadata": {},
   "outputs": [],
   "source": []
  },
  {
   "cell_type": "code",
   "execution_count": null,
   "metadata": {},
   "outputs": [],
   "source": []
  },
  {
   "cell_type": "code",
   "execution_count": null,
   "metadata": {},
   "outputs": [],
   "source": []
  },
  {
   "cell_type": "code",
   "execution_count": null,
   "metadata": {},
   "outputs": [],
   "source": []
  },
  {
   "cell_type": "code",
   "execution_count": null,
   "metadata": {},
   "outputs": [],
   "source": []
  },
  {
   "cell_type": "code",
   "execution_count": null,
   "metadata": {},
   "outputs": [],
   "source": []
  },
  {
   "cell_type": "code",
   "execution_count": null,
   "metadata": {},
   "outputs": [],
   "source": []
  },
  {
   "cell_type": "code",
   "execution_count": null,
   "metadata": {},
   "outputs": [],
   "source": []
  },
  {
   "cell_type": "code",
   "execution_count": null,
   "metadata": {},
   "outputs": [],
   "source": []
  },
  {
   "cell_type": "code",
   "execution_count": null,
   "metadata": {},
   "outputs": [],
   "source": []
  },
  {
   "cell_type": "code",
   "execution_count": null,
   "metadata": {},
   "outputs": [],
   "source": []
  },
  {
   "cell_type": "code",
   "execution_count": null,
   "metadata": {},
   "outputs": [],
   "source": []
  },
  {
   "cell_type": "code",
   "execution_count": null,
   "metadata": {},
   "outputs": [],
   "source": []
  },
  {
   "cell_type": "code",
   "execution_count": null,
   "metadata": {},
   "outputs": [],
   "source": []
  },
  {
   "cell_type": "code",
   "execution_count": null,
   "metadata": {},
   "outputs": [],
   "source": []
  },
  {
   "cell_type": "code",
   "execution_count": null,
   "metadata": {},
   "outputs": [],
   "source": []
  },
  {
   "cell_type": "code",
   "execution_count": null,
   "metadata": {},
   "outputs": [],
   "source": []
  },
  {
   "cell_type": "code",
   "execution_count": null,
   "metadata": {},
   "outputs": [],
   "source": []
  },
  {
   "cell_type": "code",
   "execution_count": null,
   "metadata": {},
   "outputs": [],
   "source": []
  },
  {
   "cell_type": "code",
   "execution_count": null,
   "metadata": {},
   "outputs": [],
   "source": []
  },
  {
   "cell_type": "code",
   "execution_count": null,
   "metadata": {},
   "outputs": [],
   "source": []
  },
  {
   "cell_type": "code",
   "execution_count": null,
   "metadata": {},
   "outputs": [],
   "source": []
  },
  {
   "cell_type": "code",
   "execution_count": null,
   "metadata": {},
   "outputs": [],
   "source": []
  },
  {
   "cell_type": "code",
   "execution_count": null,
   "metadata": {},
   "outputs": [],
   "source": []
  },
  {
   "cell_type": "code",
   "execution_count": null,
   "metadata": {},
   "outputs": [],
   "source": []
  },
  {
   "cell_type": "code",
   "execution_count": null,
   "metadata": {},
   "outputs": [],
   "source": []
  },
  {
   "cell_type": "code",
   "execution_count": null,
   "metadata": {},
   "outputs": [],
   "source": []
  },
  {
   "cell_type": "code",
   "execution_count": null,
   "metadata": {},
   "outputs": [],
   "source": []
  }
 ],
 "metadata": {
  "kernelspec": {
   "display_name": "Python 3",
   "language": "python",
   "name": "python3"
  },
  "language_info": {
   "codemirror_mode": {
    "name": "ipython",
    "version": 3
   },
   "file_extension": ".py",
   "mimetype": "text/x-python",
   "name": "python",
   "nbconvert_exporter": "python",
   "pygments_lexer": "ipython3",
   "version": "3.8.3"
  }
 },
 "nbformat": 4,
 "nbformat_minor": 4
}
