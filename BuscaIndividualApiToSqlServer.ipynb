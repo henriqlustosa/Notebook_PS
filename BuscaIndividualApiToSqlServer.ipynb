{
 "cells": [
  {
   "cell_type": "code",
   "execution_count": 53,
   "metadata": {},
   "outputs": [],
   "source": [
    "## Importação das bibliotecas utilizadas no código fonte\n",
    "import requests\n",
    "import json\n",
    "import pandas as pd"
   ]
  },
  {
   "cell_type": "code",
   "execution_count": 54,
   "metadata": {},
   "outputs": [],
   "source": [
    "# Endpoints produção do SGH\n",
    "\n",
    "#Profissionais Médicos que deram baixa no SGH\n",
    "res_prof = requests.get('http://intranethspm:5009/hspmsgh-api/relatorio/profissionais/2022-12-01/2023-03-31')"
   ]
  },
  {
   "cell_type": "code",
   "execution_count": 55,
   "metadata": {},
   "outputs": [],
   "source": [
    "# Carregando os dados 'json' para um tipo dicionário\n",
    "\n",
    "#Profissionais Médicos que deram baixa no SGH\n",
    "response_prof = json.loads(res_pac.text)"
   ]
  },
  {
   "cell_type": "code",
   "execution_count": 56,
   "metadata": {},
   "outputs": [],
   "source": [
    "# Criando os DataFrames a partir dos dicionários\n",
    "\n",
    "#Profissionais Médicos que deram baixa no SGH\n",
    "df_prof =  pd.DataFrame.from_dict(response_pac)"
   ]
  },
  {
   "cell_type": "code",
   "execution_count": 57,
   "metadata": {},
   "outputs": [],
   "source": [
    "\n",
    "df_prof.at[45,'usuario']='X151747'"
   ]
  },
  {
   "cell_type": "code",
   "execution_count": 60,
   "metadata": {},
   "outputs": [
    {
     "data": {
      "text/plain": [
       "rf_profissional                            8869481\n",
       "nome_profissional    PEDRO HENRIQUE PEREIRA INGLEZ\n",
       "usuario                                    X151747\n",
       "Name: 45, dtype: object"
      ]
     },
     "execution_count": 60,
     "metadata": {},
     "output_type": "execute_result"
    }
   ],
   "source": [
    "df_prof.loc[45]"
   ]
  },
  {
   "cell_type": "code",
   "execution_count": 61,
   "metadata": {},
   "outputs": [
    {
     "name": "stdout",
     "output_type": "stream",
     "text": [
      "The sql extension is already loaded. To reload it, use:\n",
      "  %reload_ext sql\n"
     ]
    }
   ],
   "source": [
    "# importacao de bibliotecas\n",
    "import pandas as pd\n",
    "from unidecode import unidecode\n",
    "\n",
    "%load_ext sql"
   ]
  },
  {
   "cell_type": "code",
   "execution_count": 62,
   "metadata": {},
   "outputs": [],
   "source": [
    "# Importacao da biblioteca sqlalchemy\n",
    "from sqlalchemy import create_engine"
   ]
  },
  {
   "cell_type": "code",
   "execution_count": 63,
   "metadata": {},
   "outputs": [],
   "source": [
    "## Conexão com a base de dados postgree\n",
    "\n",
    "import pyodbc as podbc\n",
    "\n",
    "cnxn = podbc.connect(\"Driver={SQL Server Native Client 11.0};Server=hspmins18;Database=Isolamento_Versao_2;uid=hspmApp;pwd=SoundG@rden=1\")"
   ]
  },
  {
   "cell_type": "code",
   "execution_count": 68,
   "metadata": {},
   "outputs": [],
   "source": [
    "## Acesso a base de dados\n",
    "\n",
    "sql = \"SELECT * FROM [hspmRelatorioPs].[dbo].[Profissionais] \"\n",
    "data_sql_server = pd.read_sql(sql,cnxn)"
   ]
  },
  {
   "cell_type": "code",
   "execution_count": 69,
   "metadata": {},
   "outputs": [
    {
     "data": {
      "text/html": [
       "<div>\n",
       "<style scoped>\n",
       "    .dataframe tbody tr th:only-of-type {\n",
       "        vertical-align: middle;\n",
       "    }\n",
       "\n",
       "    .dataframe tbody tr th {\n",
       "        vertical-align: top;\n",
       "    }\n",
       "\n",
       "    .dataframe thead th {\n",
       "        text-align: right;\n",
       "    }\n",
       "</style>\n",
       "<table border=\"1\" class=\"dataframe\">\n",
       "  <thead>\n",
       "    <tr style=\"text-align: right;\">\n",
       "      <th></th>\n",
       "      <th>rf_profissional</th>\n",
       "      <th>nome_profissional</th>\n",
       "      <th>usuario</th>\n",
       "    </tr>\n",
       "  </thead>\n",
       "  <tbody>\n",
       "    <tr>\n",
       "      <th>0</th>\n",
       "      <td>24504</td>\n",
       "      <td>ANTONIO ALFREDO DA CRUZ NETO</td>\n",
       "      <td>X024504</td>\n",
       "    </tr>\n",
       "    <tr>\n",
       "      <th>1</th>\n",
       "      <td>34177</td>\n",
       "      <td>TYANNA MARIA BONFIM DE MORAES</td>\n",
       "      <td>X055670</td>\n",
       "    </tr>\n",
       "    <tr>\n",
       "      <th>2</th>\n",
       "      <td>108425</td>\n",
       "      <td>FILIPE DE CAMPOS GOLART</td>\n",
       "      <td>X024905</td>\n",
       "    </tr>\n",
       "    <tr>\n",
       "      <th>3</th>\n",
       "      <td>110024</td>\n",
       "      <td>FERNANDA DE BORBA RAMOS</td>\n",
       "      <td>X110024</td>\n",
       "    </tr>\n",
       "    <tr>\n",
       "      <th>4</th>\n",
       "      <td>177926</td>\n",
       "      <td>JULINEZ E SILVA LIMA</td>\n",
       "      <td>X112461</td>\n",
       "    </tr>\n",
       "    <tr>\n",
       "      <th>...</th>\n",
       "      <td>...</td>\n",
       "      <td>...</td>\n",
       "      <td>...</td>\n",
       "    </tr>\n",
       "    <tr>\n",
       "      <th>67</th>\n",
       "      <td>12596491</td>\n",
       "      <td>EDUARDO DE FREITAS GUIMARAES</td>\n",
       "      <td>X125964</td>\n",
       "    </tr>\n",
       "    <tr>\n",
       "      <th>68</th>\n",
       "      <td>28379572</td>\n",
       "      <td>ANA CAROLINA SALES ABREU LISBOA</td>\n",
       "      <td>X028379</td>\n",
       "    </tr>\n",
       "    <tr>\n",
       "      <th>69</th>\n",
       "      <td>36796557</td>\n",
       "      <td>BEATRIZ OLIVEIRA DE PAULA</td>\n",
       "      <td>X409625</td>\n",
       "    </tr>\n",
       "    <tr>\n",
       "      <th>70</th>\n",
       "      <td>49467504</td>\n",
       "      <td>FILIPE AUGUSTO DA SILVA</td>\n",
       "      <td>X494675</td>\n",
       "    </tr>\n",
       "    <tr>\n",
       "      <th>71</th>\n",
       "      <td>96671777</td>\n",
       "      <td>LEONARDO SOUZA ALMEIDA</td>\n",
       "      <td>X674720</td>\n",
       "    </tr>\n",
       "  </tbody>\n",
       "</table>\n",
       "<p>72 rows × 3 columns</p>\n",
       "</div>"
      ],
      "text/plain": [
       "   rf_profissional                nome_profissional  usuario\n",
       "0            24504     ANTONIO ALFREDO DA CRUZ NETO  X024504\n",
       "1            34177    TYANNA MARIA BONFIM DE MORAES  X055670\n",
       "2           108425          FILIPE DE CAMPOS GOLART  X024905\n",
       "3           110024          FERNANDA DE BORBA RAMOS  X110024\n",
       "4           177926             JULINEZ E SILVA LIMA  X112461\n",
       "..             ...                              ...      ...\n",
       "67        12596491     EDUARDO DE FREITAS GUIMARAES  X125964\n",
       "68        28379572  ANA CAROLINA SALES ABREU LISBOA  X028379\n",
       "69        36796557        BEATRIZ OLIVEIRA DE PAULA  X409625\n",
       "70        49467504          FILIPE AUGUSTO DA SILVA  X494675\n",
       "71        96671777           LEONARDO SOUZA ALMEIDA  X674720\n",
       "\n",
       "[72 rows x 3 columns]"
      ]
     },
     "execution_count": 69,
     "metadata": {},
     "output_type": "execute_result"
    }
   ],
   "source": [
    "data_sql_server.head(100)"
   ]
  },
  {
   "cell_type": "code",
   "execution_count": 66,
   "metadata": {},
   "outputs": [],
   "source": [
    "cursor = cnxn.cursor()\n",
    "# Insert Dataframe into SQL Server:\n",
    "for index, row in df_prof.iterrows():\n",
    "     cursor.execute(\"INSERT INTO [hspmRelatorioPs].[dbo].[Profissionais] (rf_profissional,nome_profissional,usuario) values(?,?,?)\", row.rf_profissional, row.nome_profissional, row.usuario)\n",
    "cnxn.commit()\n",
    "cursor.close()"
   ]
  },
  {
   "cell_type": "code",
   "execution_count": null,
   "metadata": {},
   "outputs": [],
   "source": []
  }
 ],
 "metadata": {
  "kernelspec": {
   "display_name": "Python 3",
   "language": "python",
   "name": "python3"
  },
  "language_info": {
   "codemirror_mode": {
    "name": "ipython",
    "version": 3
   },
   "file_extension": ".py",
   "mimetype": "text/x-python",
   "name": "python",
   "nbconvert_exporter": "python",
   "pygments_lexer": "ipython3",
   "version": "3.8.3"
  }
 },
 "nbformat": 4,
 "nbformat_minor": 4
}
