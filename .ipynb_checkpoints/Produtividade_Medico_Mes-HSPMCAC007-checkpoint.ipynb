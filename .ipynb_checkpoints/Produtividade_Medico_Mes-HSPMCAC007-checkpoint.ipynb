{
 "cells": [
  {
   "cell_type": "code",
   "execution_count": 33,
   "metadata": {},
   "outputs": [],
   "source": [
    "# Relatório de Atendimento Médico\n",
    "\n",
    "# Buscar os arquivos\n",
    "\n",
    "import pandas as pd\n",
    "df_profissionais = pd.read_excel('G:\\OneDrive - Default Directory\\OneDrive - rede.sp\\WorkSpace_PS\\Relatorio_Abril_2024\\Profissionais_Marco_2024.xlsx') \n",
    "df_baixa_paciente = pd.read_excel('G:\\OneDrive - Default Directory\\OneDrive - rede.sp\\WorkSpace_PS\\Relatorio_Abril_2024\\BaixaPacientes_Marco_2024.xlsx') \n"
   ]
  },
  {
   "cell_type": "code",
   "execution_count": 34,
   "metadata": {},
   "outputs": [
    {
     "data": {
      "text/plain": [
       "66879"
      ]
     },
     "execution_count": 34,
     "metadata": {},
     "output_type": "execute_result"
    }
   ],
   "source": [
    "df_baixa_paciente.size"
   ]
  },
  {
   "cell_type": "code",
   "execution_count": 35,
   "metadata": {},
   "outputs": [],
   "source": [
    "result = pd.merge(df_profissionais, df_baixa_paciente, on=\"usuario\")"
   ]
  },
  {
   "cell_type": "code",
   "execution_count": 36,
   "metadata": {},
   "outputs": [
    {
     "data": {
      "text/plain": [
       "81741"
      ]
     },
     "execution_count": 36,
     "metadata": {},
     "output_type": "execute_result"
    }
   ],
   "source": [
    "result.size\n"
   ]
  },
  {
   "cell_type": "code",
   "execution_count": 37,
   "metadata": {},
   "outputs": [
    {
     "data": {
      "text/html": [
       "<div>\n",
       "<style scoped>\n",
       "    .dataframe tbody tr th:only-of-type {\n",
       "        vertical-align: middle;\n",
       "    }\n",
       "\n",
       "    .dataframe tbody tr th {\n",
       "        vertical-align: top;\n",
       "    }\n",
       "\n",
       "    .dataframe thead th {\n",
       "        text-align: right;\n",
       "    }\n",
       "</style>\n",
       "<table border=\"1\" class=\"dataframe\">\n",
       "  <thead>\n",
       "    <tr style=\"text-align: right;\">\n",
       "      <th></th>\n",
       "      <th>rf_profissional</th>\n",
       "      <th>nome_profissional</th>\n",
       "      <th>usuario</th>\n",
       "    </tr>\n",
       "  </thead>\n",
       "  <tbody>\n",
       "    <tr>\n",
       "      <th>0</th>\n",
       "      <td>34177</td>\n",
       "      <td>TYANNA MARIA BONFIM DE MORAES</td>\n",
       "      <td>X055670</td>\n",
       "    </tr>\n",
       "    <tr>\n",
       "      <th>1</th>\n",
       "      <td>110024</td>\n",
       "      <td>FERNANDA DE BORBA RAMOS</td>\n",
       "      <td>X110024</td>\n",
       "    </tr>\n",
       "    <tr>\n",
       "      <th>2</th>\n",
       "      <td>151747</td>\n",
       "      <td>PEDRO HENRIQUE PEREIRA INGLEZ</td>\n",
       "      <td>X151747</td>\n",
       "    </tr>\n",
       "    <tr>\n",
       "      <th>3</th>\n",
       "      <td>264523</td>\n",
       "      <td>JOSE MIGUEL SALVATIERRA ANEZ</td>\n",
       "      <td>X014135</td>\n",
       "    </tr>\n",
       "    <tr>\n",
       "      <th>4</th>\n",
       "      <td>329228</td>\n",
       "      <td>YAMILE ASBUN TELLEZ</td>\n",
       "      <td>X820120</td>\n",
       "    </tr>\n",
       "  </tbody>\n",
       "</table>\n",
       "</div>"
      ],
      "text/plain": [
       "   rf_profissional              nome_profissional  usuario\n",
       "0            34177  TYANNA MARIA BONFIM DE MORAES  X055670\n",
       "1           110024        FERNANDA DE BORBA RAMOS  X110024\n",
       "2           151747  PEDRO HENRIQUE PEREIRA INGLEZ  X151747\n",
       "3           264523   JOSE MIGUEL SALVATIERRA ANEZ  X014135\n",
       "4           329228            YAMILE ASBUN TELLEZ  X820120"
      ]
     },
     "execution_count": 37,
     "metadata": {},
     "output_type": "execute_result"
    }
   ],
   "source": [
    "df_profissionais.head()"
   ]
  },
  {
   "cell_type": "code",
   "execution_count": 38,
   "metadata": {},
   "outputs": [
    {
     "data": {
      "text/html": [
       "<div>\n",
       "<style scoped>\n",
       "    .dataframe tbody tr th:only-of-type {\n",
       "        vertical-align: middle;\n",
       "    }\n",
       "\n",
       "    .dataframe tbody tr th {\n",
       "        vertical-align: top;\n",
       "    }\n",
       "\n",
       "    .dataframe thead th {\n",
       "        text-align: right;\n",
       "    }\n",
       "</style>\n",
       "<table border=\"1\" class=\"dataframe\">\n",
       "  <thead>\n",
       "    <tr style=\"text-align: right;\">\n",
       "      <th></th>\n",
       "      <th>rf_profissional</th>\n",
       "      <th>nome_profissional</th>\n",
       "      <th>usuario</th>\n",
       "      <th>prontuario</th>\n",
       "      <th>con_numero</th>\n",
       "      <th>trg_seq</th>\n",
       "      <th>seqp</th>\n",
       "      <th>data_consulta</th>\n",
       "      <th>cod_status</th>\n",
       "      <th>status_ficha</th>\n",
       "      <th>data_mvto</th>\n",
       "    </tr>\n",
       "  </thead>\n",
       "  <tbody>\n",
       "    <tr>\n",
       "      <th>0</th>\n",
       "      <td>34177</td>\n",
       "      <td>TYANNA MARIA BONFIM DE MORAES</td>\n",
       "      <td>X055670</td>\n",
       "      <td>4806261</td>\n",
       "      <td>5174453</td>\n",
       "      <td>168328</td>\n",
       "      <td>5</td>\n",
       "      <td>2024-03-29 17:16:15.438</td>\n",
       "      <td>6</td>\n",
       "      <td>ALTA MEDICA</td>\n",
       "      <td>2024-03-29 18:11:44.765</td>\n",
       "    </tr>\n",
       "    <tr>\n",
       "      <th>1</th>\n",
       "      <td>34177</td>\n",
       "      <td>TYANNA MARIA BONFIM DE MORAES</td>\n",
       "      <td>X055670</td>\n",
       "      <td>11383379</td>\n",
       "      <td>5174395</td>\n",
       "      <td>168277</td>\n",
       "      <td>6</td>\n",
       "      <td>2024-03-29 13:53:15.903</td>\n",
       "      <td>6</td>\n",
       "      <td>ALTA MEDICA</td>\n",
       "      <td>2024-03-29 18:52:06.441</td>\n",
       "    </tr>\n",
       "    <tr>\n",
       "      <th>2</th>\n",
       "      <td>34177</td>\n",
       "      <td>TYANNA MARIA BONFIM DE MORAES</td>\n",
       "      <td>X055670</td>\n",
       "      <td>3473501</td>\n",
       "      <td>5174393</td>\n",
       "      <td>168275</td>\n",
       "      <td>6</td>\n",
       "      <td>2024-03-29 13:44:37.007</td>\n",
       "      <td>6</td>\n",
       "      <td>ALTA MEDICA</td>\n",
       "      <td>2024-03-29 18:49:13.246</td>\n",
       "    </tr>\n",
       "    <tr>\n",
       "      <th>3</th>\n",
       "      <td>34177</td>\n",
       "      <td>TYANNA MARIA BONFIM DE MORAES</td>\n",
       "      <td>X055670</td>\n",
       "      <td>11571817</td>\n",
       "      <td>5174392</td>\n",
       "      <td>168274</td>\n",
       "      <td>5</td>\n",
       "      <td>2024-03-29 13:39:40.317</td>\n",
       "      <td>6</td>\n",
       "      <td>ALTA MEDICA</td>\n",
       "      <td>2024-03-29 14:05:01.673</td>\n",
       "    </tr>\n",
       "    <tr>\n",
       "      <th>4</th>\n",
       "      <td>34177</td>\n",
       "      <td>TYANNA MARIA BONFIM DE MORAES</td>\n",
       "      <td>X055670</td>\n",
       "      <td>90028622</td>\n",
       "      <td>5174384</td>\n",
       "      <td>168264</td>\n",
       "      <td>5</td>\n",
       "      <td>2024-03-29 13:05:53.386</td>\n",
       "      <td>6</td>\n",
       "      <td>ALTA MEDICA</td>\n",
       "      <td>2024-03-29 13:48:32.033</td>\n",
       "    </tr>\n",
       "  </tbody>\n",
       "</table>\n",
       "</div>"
      ],
      "text/plain": [
       "   rf_profissional              nome_profissional  usuario  prontuario  \\\n",
       "0            34177  TYANNA MARIA BONFIM DE MORAES  X055670     4806261   \n",
       "1            34177  TYANNA MARIA BONFIM DE MORAES  X055670    11383379   \n",
       "2            34177  TYANNA MARIA BONFIM DE MORAES  X055670     3473501   \n",
       "3            34177  TYANNA MARIA BONFIM DE MORAES  X055670    11571817   \n",
       "4            34177  TYANNA MARIA BONFIM DE MORAES  X055670    90028622   \n",
       "\n",
       "   con_numero  trg_seq  seqp            data_consulta  cod_status  \\\n",
       "0     5174453   168328     5  2024-03-29 17:16:15.438           6   \n",
       "1     5174395   168277     6  2024-03-29 13:53:15.903           6   \n",
       "2     5174393   168275     6  2024-03-29 13:44:37.007           6   \n",
       "3     5174392   168274     5  2024-03-29 13:39:40.317           6   \n",
       "4     5174384   168264     5  2024-03-29 13:05:53.386           6   \n",
       "\n",
       "  status_ficha                data_mvto  \n",
       "0  ALTA MEDICA  2024-03-29 18:11:44.765  \n",
       "1  ALTA MEDICA  2024-03-29 18:52:06.441  \n",
       "2  ALTA MEDICA  2024-03-29 18:49:13.246  \n",
       "3  ALTA MEDICA  2024-03-29 14:05:01.673  \n",
       "4  ALTA MEDICA  2024-03-29 13:48:32.033  "
      ]
     },
     "execution_count": 38,
     "metadata": {},
     "output_type": "execute_result"
    }
   ],
   "source": [
    "result.head()"
   ]
  },
  {
   "cell_type": "code",
   "execution_count": 39,
   "metadata": {},
   "outputs": [
    {
     "ename": "ValueError",
     "evalue": "You are trying to merge on object and int64 columns. If you wish to proceed you should use pd.concat",
     "output_type": "error",
     "traceback": [
      "\u001b[1;31m---------------------------------------------------------------------------\u001b[0m",
      "\u001b[1;31mValueError\u001b[0m                                Traceback (most recent call last)",
      "\u001b[1;32m<ipython-input-39-323efb3f4f7a>\u001b[0m in \u001b[0;36m<module>\u001b[1;34m\u001b[0m\n\u001b[1;32m----> 1\u001b[1;33m \u001b[0mdf_baixa_paciente\u001b[0m\u001b[1;33m.\u001b[0m\u001b[0mjoin\u001b[0m\u001b[1;33m(\u001b[0m\u001b[0mdf_profissionais\u001b[0m\u001b[1;33m,\u001b[0m \u001b[0mon\u001b[0m\u001b[1;33m=\u001b[0m\u001b[1;34m'usuario'\u001b[0m\u001b[1;33m,\u001b[0m \u001b[0mhow\u001b[0m\u001b[1;33m=\u001b[0m\u001b[1;34m\"inner\"\u001b[0m\u001b[1;33m)\u001b[0m\u001b[1;33m\u001b[0m\u001b[1;33m\u001b[0m\u001b[0m\n\u001b[0m",
      "\u001b[1;32m~\\Anaconda3\\lib\\site-packages\\pandas\\core\\frame.py\u001b[0m in \u001b[0;36mjoin\u001b[1;34m(self, other, on, how, lsuffix, rsuffix, sort, validate)\u001b[0m\n\u001b[0;32m   9727\u001b[0m         \u001b[1;36m5\u001b[0m  \u001b[0mK1\u001b[0m  \u001b[0mA5\u001b[0m   \u001b[0mB1\u001b[0m\u001b[1;33m\u001b[0m\u001b[1;33m\u001b[0m\u001b[0m\n\u001b[0;32m   9728\u001b[0m         \"\"\"\n\u001b[1;32m-> 9729\u001b[1;33m         return self._join_compat(\n\u001b[0m\u001b[0;32m   9730\u001b[0m             \u001b[0mother\u001b[0m\u001b[1;33m,\u001b[0m\u001b[1;33m\u001b[0m\u001b[1;33m\u001b[0m\u001b[0m\n\u001b[0;32m   9731\u001b[0m             \u001b[0mon\u001b[0m\u001b[1;33m=\u001b[0m\u001b[0mon\u001b[0m\u001b[1;33m,\u001b[0m\u001b[1;33m\u001b[0m\u001b[1;33m\u001b[0m\u001b[0m\n",
      "\u001b[1;32m~\\Anaconda3\\lib\\site-packages\\pandas\\core\\frame.py\u001b[0m in \u001b[0;36m_join_compat\u001b[1;34m(self, other, on, how, lsuffix, rsuffix, sort, validate)\u001b[0m\n\u001b[0;32m   9766\u001b[0m                     \u001b[0mvalidate\u001b[0m\u001b[1;33m=\u001b[0m\u001b[0mvalidate\u001b[0m\u001b[1;33m,\u001b[0m\u001b[1;33m\u001b[0m\u001b[1;33m\u001b[0m\u001b[0m\n\u001b[0;32m   9767\u001b[0m                 )\n\u001b[1;32m-> 9768\u001b[1;33m             return merge(\n\u001b[0m\u001b[0;32m   9769\u001b[0m                 \u001b[0mself\u001b[0m\u001b[1;33m,\u001b[0m\u001b[1;33m\u001b[0m\u001b[1;33m\u001b[0m\u001b[0m\n\u001b[0;32m   9770\u001b[0m                 \u001b[0mother\u001b[0m\u001b[1;33m,\u001b[0m\u001b[1;33m\u001b[0m\u001b[1;33m\u001b[0m\u001b[0m\n",
      "\u001b[1;32m~\\Anaconda3\\lib\\site-packages\\pandas\\core\\reshape\\merge.py\u001b[0m in \u001b[0;36mmerge\u001b[1;34m(left, right, how, on, left_on, right_on, left_index, right_index, sort, suffixes, copy, indicator, validate)\u001b[0m\n\u001b[0;32m    146\u001b[0m     \u001b[0mvalidate\u001b[0m\u001b[1;33m:\u001b[0m \u001b[0mstr\u001b[0m \u001b[1;33m|\u001b[0m \u001b[1;32mNone\u001b[0m \u001b[1;33m=\u001b[0m \u001b[1;32mNone\u001b[0m\u001b[1;33m,\u001b[0m\u001b[1;33m\u001b[0m\u001b[1;33m\u001b[0m\u001b[0m\n\u001b[0;32m    147\u001b[0m ) -> DataFrame:\n\u001b[1;32m--> 148\u001b[1;33m     op = _MergeOperation(\n\u001b[0m\u001b[0;32m    149\u001b[0m         \u001b[0mleft\u001b[0m\u001b[1;33m,\u001b[0m\u001b[1;33m\u001b[0m\u001b[1;33m\u001b[0m\u001b[0m\n\u001b[0;32m    150\u001b[0m         \u001b[0mright\u001b[0m\u001b[1;33m,\u001b[0m\u001b[1;33m\u001b[0m\u001b[1;33m\u001b[0m\u001b[0m\n",
      "\u001b[1;32m~\\Anaconda3\\lib\\site-packages\\pandas\\core\\reshape\\merge.py\u001b[0m in \u001b[0;36m__init__\u001b[1;34m(self, left, right, how, on, left_on, right_on, axis, left_index, right_index, sort, suffixes, indicator, validate)\u001b[0m\n\u001b[0;32m    739\u001b[0m         \u001b[1;31m# validate the merge keys dtypes. We may need to coerce\u001b[0m\u001b[1;33m\u001b[0m\u001b[1;33m\u001b[0m\u001b[1;33m\u001b[0m\u001b[0m\n\u001b[0;32m    740\u001b[0m         \u001b[1;31m# to avoid incompatible dtypes\u001b[0m\u001b[1;33m\u001b[0m\u001b[1;33m\u001b[0m\u001b[1;33m\u001b[0m\u001b[0m\n\u001b[1;32m--> 741\u001b[1;33m         \u001b[0mself\u001b[0m\u001b[1;33m.\u001b[0m\u001b[0m_maybe_coerce_merge_keys\u001b[0m\u001b[1;33m(\u001b[0m\u001b[1;33m)\u001b[0m\u001b[1;33m\u001b[0m\u001b[1;33m\u001b[0m\u001b[0m\n\u001b[0m\u001b[0;32m    742\u001b[0m \u001b[1;33m\u001b[0m\u001b[0m\n\u001b[0;32m    743\u001b[0m         \u001b[1;31m# If argument passed to validate,\u001b[0m\u001b[1;33m\u001b[0m\u001b[1;33m\u001b[0m\u001b[1;33m\u001b[0m\u001b[0m\n",
      "\u001b[1;32m~\\Anaconda3\\lib\\site-packages\\pandas\\core\\reshape\\merge.py\u001b[0m in \u001b[0;36m_maybe_coerce_merge_keys\u001b[1;34m(self)\u001b[0m\n\u001b[0;32m   1399\u001b[0m                     \u001b[0minferred_right\u001b[0m \u001b[1;32min\u001b[0m \u001b[0mstring_types\u001b[0m \u001b[1;32mand\u001b[0m \u001b[0minferred_left\u001b[0m \u001b[1;32mnot\u001b[0m \u001b[1;32min\u001b[0m \u001b[0mstring_types\u001b[0m\u001b[1;33m\u001b[0m\u001b[1;33m\u001b[0m\u001b[0m\n\u001b[0;32m   1400\u001b[0m                 ):\n\u001b[1;32m-> 1401\u001b[1;33m                     \u001b[1;32mraise\u001b[0m \u001b[0mValueError\u001b[0m\u001b[1;33m(\u001b[0m\u001b[0mmsg\u001b[0m\u001b[1;33m)\u001b[0m\u001b[1;33m\u001b[0m\u001b[1;33m\u001b[0m\u001b[0m\n\u001b[0m\u001b[0;32m   1402\u001b[0m \u001b[1;33m\u001b[0m\u001b[0m\n\u001b[0;32m   1403\u001b[0m             \u001b[1;31m# datetimelikes must match exactly\u001b[0m\u001b[1;33m\u001b[0m\u001b[1;33m\u001b[0m\u001b[1;33m\u001b[0m\u001b[0m\n",
      "\u001b[1;31mValueError\u001b[0m: You are trying to merge on object and int64 columns. If you wish to proceed you should use pd.concat"
     ]
    }
   ],
   "source": [
    "df_baixa_paciente.join(df_profissionais, on='usuario', how=\"inner\")"
   ]
  },
  {
   "cell_type": "code",
   "execution_count": null,
   "metadata": {},
   "outputs": [],
   "source": [
    "result = pd.concat([df_profissionais, df_baixa_paciente], axis=1, join=\"inner\")"
   ]
  },
  {
   "cell_type": "code",
   "execution_count": 40,
   "metadata": {},
   "outputs": [
    {
     "data": {
      "text/plain": [
       "81741"
      ]
     },
     "execution_count": 40,
     "metadata": {},
     "output_type": "execute_result"
    }
   ],
   "source": [
    "result.size\n"
   ]
  },
  {
   "cell_type": "code",
   "execution_count": 41,
   "metadata": {},
   "outputs": [],
   "source": [
    "result = pd.merge(df_profissionais, df_baixa_paciente, how=\"inner\", on=\"usuario\")"
   ]
  },
  {
   "cell_type": "raw",
   "metadata": {},
   "source": []
  },
  {
   "cell_type": "code",
   "execution_count": 42,
   "metadata": {},
   "outputs": [
    {
     "data": {
      "text/html": [
       "<div>\n",
       "<style scoped>\n",
       "    .dataframe tbody tr th:only-of-type {\n",
       "        vertical-align: middle;\n",
       "    }\n",
       "\n",
       "    .dataframe tbody tr th {\n",
       "        vertical-align: top;\n",
       "    }\n",
       "\n",
       "    .dataframe thead th {\n",
       "        text-align: right;\n",
       "    }\n",
       "</style>\n",
       "<table border=\"1\" class=\"dataframe\">\n",
       "  <thead>\n",
       "    <tr style=\"text-align: right;\">\n",
       "      <th></th>\n",
       "      <th>rf_profissional</th>\n",
       "      <th>nome_profissional</th>\n",
       "      <th>usuario</th>\n",
       "      <th>prontuario</th>\n",
       "      <th>con_numero</th>\n",
       "      <th>trg_seq</th>\n",
       "      <th>seqp</th>\n",
       "      <th>data_consulta</th>\n",
       "      <th>cod_status</th>\n",
       "      <th>status_ficha</th>\n",
       "      <th>data_mvto</th>\n",
       "    </tr>\n",
       "  </thead>\n",
       "  <tbody>\n",
       "    <tr>\n",
       "      <th>7331</th>\n",
       "      <td>49467504</td>\n",
       "      <td>FILIPE AUGUSTO DA SILVA</td>\n",
       "      <td>X494675</td>\n",
       "      <td>10143824</td>\n",
       "      <td>5117198</td>\n",
       "      <td>158330</td>\n",
       "      <td>6</td>\n",
       "      <td>2024-03-03 20:43:31.945</td>\n",
       "      <td>6</td>\n",
       "      <td>ALTA MEDICA</td>\n",
       "      <td>2024-03-03 22:48:46.693</td>\n",
       "    </tr>\n",
       "    <tr>\n",
       "      <th>7332</th>\n",
       "      <td>49467504</td>\n",
       "      <td>FILIPE AUGUSTO DA SILVA</td>\n",
       "      <td>X494675</td>\n",
       "      <td>11415486</td>\n",
       "      <td>5117192</td>\n",
       "      <td>158324</td>\n",
       "      <td>6</td>\n",
       "      <td>2024-03-03 20:36:43.711</td>\n",
       "      <td>6</td>\n",
       "      <td>ALTA MEDICA</td>\n",
       "      <td>2024-03-03 23:20:47.046</td>\n",
       "    </tr>\n",
       "    <tr>\n",
       "      <th>7333</th>\n",
       "      <td>49467504</td>\n",
       "      <td>FILIPE AUGUSTO DA SILVA</td>\n",
       "      <td>X494675</td>\n",
       "      <td>54973</td>\n",
       "      <td>5117190</td>\n",
       "      <td>158322</td>\n",
       "      <td>6</td>\n",
       "      <td>2024-03-03 19:56:54.643</td>\n",
       "      <td>6</td>\n",
       "      <td>ALTA MEDICA</td>\n",
       "      <td>2024-03-03 23:30:38.772</td>\n",
       "    </tr>\n",
       "    <tr>\n",
       "      <th>7334</th>\n",
       "      <td>49467504</td>\n",
       "      <td>FILIPE AUGUSTO DA SILVA</td>\n",
       "      <td>X494675</td>\n",
       "      <td>11346129</td>\n",
       "      <td>5117186</td>\n",
       "      <td>158316</td>\n",
       "      <td>5</td>\n",
       "      <td>2024-03-03 19:44:06.084</td>\n",
       "      <td>6</td>\n",
       "      <td>ALTA MEDICA</td>\n",
       "      <td>2024-03-03 20:45:51.423</td>\n",
       "    </tr>\n",
       "    <tr>\n",
       "      <th>7335</th>\n",
       "      <td>49467504</td>\n",
       "      <td>FILIPE AUGUSTO DA SILVA</td>\n",
       "      <td>X494675</td>\n",
       "      <td>11048436</td>\n",
       "      <td>5117184</td>\n",
       "      <td>158314</td>\n",
       "      <td>6</td>\n",
       "      <td>2024-03-03 19:43:18.389</td>\n",
       "      <td>6</td>\n",
       "      <td>ALTA MEDICA</td>\n",
       "      <td>2024-03-03 23:46:43.752</td>\n",
       "    </tr>\n",
       "    <tr>\n",
       "      <th>...</th>\n",
       "      <td>...</td>\n",
       "      <td>...</td>\n",
       "      <td>...</td>\n",
       "      <td>...</td>\n",
       "      <td>...</td>\n",
       "      <td>...</td>\n",
       "      <td>...</td>\n",
       "      <td>...</td>\n",
       "      <td>...</td>\n",
       "      <td>...</td>\n",
       "      <td>...</td>\n",
       "    </tr>\n",
       "    <tr>\n",
       "      <th>7426</th>\n",
       "      <td>96671777</td>\n",
       "      <td>LEONARDO SOUZA ALMEIDA</td>\n",
       "      <td>X674720</td>\n",
       "      <td>90069089</td>\n",
       "      <td>5140218</td>\n",
       "      <td>162508</td>\n",
       "      <td>5</td>\n",
       "      <td>2024-03-14 09:32:35.911</td>\n",
       "      <td>6</td>\n",
       "      <td>ALTA MEDICA</td>\n",
       "      <td>2024-03-14 10:29:59.89</td>\n",
       "    </tr>\n",
       "    <tr>\n",
       "      <th>7427</th>\n",
       "      <td>96671777</td>\n",
       "      <td>LEONARDO SOUZA ALMEIDA</td>\n",
       "      <td>X674720</td>\n",
       "      <td>12197075</td>\n",
       "      <td>5139777</td>\n",
       "      <td>162509</td>\n",
       "      <td>5</td>\n",
       "      <td>2024-03-14 09:39:34.952</td>\n",
       "      <td>6</td>\n",
       "      <td>ALTA MEDICA</td>\n",
       "      <td>2024-03-14 10:17:55.287</td>\n",
       "    </tr>\n",
       "    <tr>\n",
       "      <th>7428</th>\n",
       "      <td>96671777</td>\n",
       "      <td>LEONARDO SOUZA ALMEIDA</td>\n",
       "      <td>X674720</td>\n",
       "      <td>90023953</td>\n",
       "      <td>5139488</td>\n",
       "      <td>162489</td>\n",
       "      <td>5</td>\n",
       "      <td>2024-03-14 08:59:27.784</td>\n",
       "      <td>6</td>\n",
       "      <td>ALTA MEDICA</td>\n",
       "      <td>2024-03-14 10:39:36.812</td>\n",
       "    </tr>\n",
       "    <tr>\n",
       "      <th>7429</th>\n",
       "      <td>96671777</td>\n",
       "      <td>LEONARDO SOUZA ALMEIDA</td>\n",
       "      <td>X674720</td>\n",
       "      <td>8504490</td>\n",
       "      <td>5139482</td>\n",
       "      <td>162492</td>\n",
       "      <td>6</td>\n",
       "      <td>2024-03-14 08:54:41.932</td>\n",
       "      <td>6</td>\n",
       "      <td>ALTA MEDICA</td>\n",
       "      <td>2024-03-14 10:47:02.241</td>\n",
       "    </tr>\n",
       "    <tr>\n",
       "      <th>7430</th>\n",
       "      <td>96671777</td>\n",
       "      <td>LEONARDO SOUZA ALMEIDA</td>\n",
       "      <td>X674720</td>\n",
       "      <td>90067893</td>\n",
       "      <td>5139313</td>\n",
       "      <td>162428</td>\n",
       "      <td>6</td>\n",
       "      <td>2024-03-14 05:38:00.821</td>\n",
       "      <td>6</td>\n",
       "      <td>ALTA MEDICA</td>\n",
       "      <td>2024-03-14 11:05:59.852</td>\n",
       "    </tr>\n",
       "  </tbody>\n",
       "</table>\n",
       "<p>100 rows × 11 columns</p>\n",
       "</div>"
      ],
      "text/plain": [
       "      rf_profissional        nome_profissional  usuario  prontuario  \\\n",
       "7331         49467504  FILIPE AUGUSTO DA SILVA  X494675    10143824   \n",
       "7332         49467504  FILIPE AUGUSTO DA SILVA  X494675    11415486   \n",
       "7333         49467504  FILIPE AUGUSTO DA SILVA  X494675       54973   \n",
       "7334         49467504  FILIPE AUGUSTO DA SILVA  X494675    11346129   \n",
       "7335         49467504  FILIPE AUGUSTO DA SILVA  X494675    11048436   \n",
       "...               ...                      ...      ...         ...   \n",
       "7426         96671777   LEONARDO SOUZA ALMEIDA  X674720    90069089   \n",
       "7427         96671777   LEONARDO SOUZA ALMEIDA  X674720    12197075   \n",
       "7428         96671777   LEONARDO SOUZA ALMEIDA  X674720    90023953   \n",
       "7429         96671777   LEONARDO SOUZA ALMEIDA  X674720     8504490   \n",
       "7430         96671777   LEONARDO SOUZA ALMEIDA  X674720    90067893   \n",
       "\n",
       "      con_numero  trg_seq  seqp            data_consulta  cod_status  \\\n",
       "7331     5117198   158330     6  2024-03-03 20:43:31.945           6   \n",
       "7332     5117192   158324     6  2024-03-03 20:36:43.711           6   \n",
       "7333     5117190   158322     6  2024-03-03 19:56:54.643           6   \n",
       "7334     5117186   158316     5  2024-03-03 19:44:06.084           6   \n",
       "7335     5117184   158314     6  2024-03-03 19:43:18.389           6   \n",
       "...          ...      ...   ...                      ...         ...   \n",
       "7426     5140218   162508     5  2024-03-14 09:32:35.911           6   \n",
       "7427     5139777   162509     5  2024-03-14 09:39:34.952           6   \n",
       "7428     5139488   162489     5  2024-03-14 08:59:27.784           6   \n",
       "7429     5139482   162492     6  2024-03-14 08:54:41.932           6   \n",
       "7430     5139313   162428     6  2024-03-14 05:38:00.821           6   \n",
       "\n",
       "     status_ficha                data_mvto  \n",
       "7331  ALTA MEDICA  2024-03-03 22:48:46.693  \n",
       "7332  ALTA MEDICA  2024-03-03 23:20:47.046  \n",
       "7333  ALTA MEDICA  2024-03-03 23:30:38.772  \n",
       "7334  ALTA MEDICA  2024-03-03 20:45:51.423  \n",
       "7335  ALTA MEDICA  2024-03-03 23:46:43.752  \n",
       "...           ...                      ...  \n",
       "7426  ALTA MEDICA   2024-03-14 10:29:59.89  \n",
       "7427  ALTA MEDICA  2024-03-14 10:17:55.287  \n",
       "7428  ALTA MEDICA  2024-03-14 10:39:36.812  \n",
       "7429  ALTA MEDICA  2024-03-14 10:47:02.241  \n",
       "7430  ALTA MEDICA  2024-03-14 11:05:59.852  \n",
       "\n",
       "[100 rows x 11 columns]"
      ]
     },
     "execution_count": 42,
     "metadata": {},
     "output_type": "execute_result"
    }
   ],
   "source": [
    "result.tail(100)"
   ]
  },
  {
   "cell_type": "code",
   "execution_count": 43,
   "metadata": {},
   "outputs": [
    {
     "data": {
      "text/plain": [
       "(7431, 11)"
      ]
     },
     "execution_count": 43,
     "metadata": {},
     "output_type": "execute_result"
    }
   ],
   "source": [
    "result.shape"
   ]
  },
  {
   "cell_type": "code",
   "execution_count": 44,
   "metadata": {},
   "outputs": [
    {
     "data": {
      "text/plain": [
       "(7431, 9)"
      ]
     },
     "execution_count": 44,
     "metadata": {},
     "output_type": "execute_result"
    }
   ],
   "source": [
    "df_baixa_paciente.shape\n"
   ]
  },
  {
   "cell_type": "code",
   "execution_count": 45,
   "metadata": {},
   "outputs": [
    {
     "data": {
      "text/html": [
       "<div>\n",
       "<style scoped>\n",
       "    .dataframe tbody tr th:only-of-type {\n",
       "        vertical-align: middle;\n",
       "    }\n",
       "\n",
       "    .dataframe tbody tr th {\n",
       "        vertical-align: top;\n",
       "    }\n",
       "\n",
       "    .dataframe thead th {\n",
       "        text-align: right;\n",
       "    }\n",
       "</style>\n",
       "<table border=\"1\" class=\"dataframe\">\n",
       "  <thead>\n",
       "    <tr style=\"text-align: right;\">\n",
       "      <th></th>\n",
       "      <th>rf_profissional</th>\n",
       "      <th>nome_profissional</th>\n",
       "      <th>usuario</th>\n",
       "      <th>prontuario</th>\n",
       "      <th>con_numero</th>\n",
       "      <th>trg_seq</th>\n",
       "      <th>seqp</th>\n",
       "      <th>data_consulta</th>\n",
       "      <th>cod_status</th>\n",
       "      <th>status_ficha</th>\n",
       "      <th>data_mvto</th>\n",
       "    </tr>\n",
       "  </thead>\n",
       "  <tbody>\n",
       "    <tr>\n",
       "      <th>0</th>\n",
       "      <td>34177</td>\n",
       "      <td>TYANNA MARIA BONFIM DE MORAES</td>\n",
       "      <td>X055670</td>\n",
       "      <td>4806261</td>\n",
       "      <td>5174453</td>\n",
       "      <td>168328</td>\n",
       "      <td>5</td>\n",
       "      <td>2024-03-29 17:16:15.438</td>\n",
       "      <td>6</td>\n",
       "      <td>ALTA MEDICA</td>\n",
       "      <td>2024-03-29 18:11:44.765</td>\n",
       "    </tr>\n",
       "    <tr>\n",
       "      <th>1</th>\n",
       "      <td>34177</td>\n",
       "      <td>TYANNA MARIA BONFIM DE MORAES</td>\n",
       "      <td>X055670</td>\n",
       "      <td>11383379</td>\n",
       "      <td>5174395</td>\n",
       "      <td>168277</td>\n",
       "      <td>6</td>\n",
       "      <td>2024-03-29 13:53:15.903</td>\n",
       "      <td>6</td>\n",
       "      <td>ALTA MEDICA</td>\n",
       "      <td>2024-03-29 18:52:06.441</td>\n",
       "    </tr>\n",
       "    <tr>\n",
       "      <th>2</th>\n",
       "      <td>34177</td>\n",
       "      <td>TYANNA MARIA BONFIM DE MORAES</td>\n",
       "      <td>X055670</td>\n",
       "      <td>3473501</td>\n",
       "      <td>5174393</td>\n",
       "      <td>168275</td>\n",
       "      <td>6</td>\n",
       "      <td>2024-03-29 13:44:37.007</td>\n",
       "      <td>6</td>\n",
       "      <td>ALTA MEDICA</td>\n",
       "      <td>2024-03-29 18:49:13.246</td>\n",
       "    </tr>\n",
       "    <tr>\n",
       "      <th>3</th>\n",
       "      <td>34177</td>\n",
       "      <td>TYANNA MARIA BONFIM DE MORAES</td>\n",
       "      <td>X055670</td>\n",
       "      <td>11571817</td>\n",
       "      <td>5174392</td>\n",
       "      <td>168274</td>\n",
       "      <td>5</td>\n",
       "      <td>2024-03-29 13:39:40.317</td>\n",
       "      <td>6</td>\n",
       "      <td>ALTA MEDICA</td>\n",
       "      <td>2024-03-29 14:05:01.673</td>\n",
       "    </tr>\n",
       "    <tr>\n",
       "      <th>4</th>\n",
       "      <td>34177</td>\n",
       "      <td>TYANNA MARIA BONFIM DE MORAES</td>\n",
       "      <td>X055670</td>\n",
       "      <td>90028622</td>\n",
       "      <td>5174384</td>\n",
       "      <td>168264</td>\n",
       "      <td>5</td>\n",
       "      <td>2024-03-29 13:05:53.386</td>\n",
       "      <td>6</td>\n",
       "      <td>ALTA MEDICA</td>\n",
       "      <td>2024-03-29 13:48:32.033</td>\n",
       "    </tr>\n",
       "  </tbody>\n",
       "</table>\n",
       "</div>"
      ],
      "text/plain": [
       "   rf_profissional              nome_profissional  usuario  prontuario  \\\n",
       "0            34177  TYANNA MARIA BONFIM DE MORAES  X055670     4806261   \n",
       "1            34177  TYANNA MARIA BONFIM DE MORAES  X055670    11383379   \n",
       "2            34177  TYANNA MARIA BONFIM DE MORAES  X055670     3473501   \n",
       "3            34177  TYANNA MARIA BONFIM DE MORAES  X055670    11571817   \n",
       "4            34177  TYANNA MARIA BONFIM DE MORAES  X055670    90028622   \n",
       "\n",
       "   con_numero  trg_seq  seqp            data_consulta  cod_status  \\\n",
       "0     5174453   168328     5  2024-03-29 17:16:15.438           6   \n",
       "1     5174395   168277     6  2024-03-29 13:53:15.903           6   \n",
       "2     5174393   168275     6  2024-03-29 13:44:37.007           6   \n",
       "3     5174392   168274     5  2024-03-29 13:39:40.317           6   \n",
       "4     5174384   168264     5  2024-03-29 13:05:53.386           6   \n",
       "\n",
       "  status_ficha                data_mvto  \n",
       "0  ALTA MEDICA  2024-03-29 18:11:44.765  \n",
       "1  ALTA MEDICA  2024-03-29 18:52:06.441  \n",
       "2  ALTA MEDICA  2024-03-29 18:49:13.246  \n",
       "3  ALTA MEDICA  2024-03-29 14:05:01.673  \n",
       "4  ALTA MEDICA  2024-03-29 13:48:32.033  "
      ]
     },
     "execution_count": 45,
     "metadata": {},
     "output_type": "execute_result"
    }
   ],
   "source": [
    "result.head()"
   ]
  },
  {
   "cell_type": "code",
   "execution_count": 46,
   "metadata": {},
   "outputs": [],
   "source": [
    "df = result.groupby(['nome_profissional']).count().usuario"
   ]
  },
  {
   "cell_type": "code",
   "execution_count": 47,
   "metadata": {},
   "outputs": [
    {
     "data": {
      "text/plain": [
       "nome_profissional\n",
       "ALEX VITORIO AMADIO                    2\n",
       "ALUISIO LEMOS DUARTE                   2\n",
       "AMANDA SANCHES TSUJIOKA                9\n",
       "ANA CAROLINA SALES ABREU LISBOA      132\n",
       "ANDREA BACELLAR SOARES DE ANDRADE      7\n",
       "Name: usuario, dtype: int64"
      ]
     },
     "execution_count": 47,
     "metadata": {},
     "output_type": "execute_result"
    }
   ],
   "source": [
    "df.head()"
   ]
  },
  {
   "cell_type": "code",
   "execution_count": 48,
   "metadata": {},
   "outputs": [],
   "source": [
    "#Determinando o nome do arquivo\n",
    "file_name_ficha = r'G:\\OneDrive - Default Directory\\OneDrive - rede.sp\\WorkSpace_PS\\Relatorio_Marco_2024\\Atendimento_Medico_Marco_2024.xlsx'\n",
    "  \n",
    "# Salvando o excel\n",
    "df.to_excel(file_name_ficha)"
   ]
  },
  {
   "cell_type": "code",
   "execution_count": 49,
   "metadata": {},
   "outputs": [],
   "source": [
    "result['data_mvto'] = pd.to_datetime(result['data_mvto'],format='mixed') #if not already as datetime object\n"
   ]
  },
  {
   "cell_type": "code",
   "execution_count": 50,
   "metadata": {},
   "outputs": [],
   "source": [
    "dfResult = result.groupby([ 'nome_profissional',pd.Grouper(key='data_mvto', freq='12h', origin='2023-05-01 07:00:00')]).usuario.count()"
   ]
  },
  {
   "cell_type": "code",
   "execution_count": 51,
   "metadata": {},
   "outputs": [
    {
     "data": {
      "text/plain": [
       "nome_profissional                data_mvto          \n",
       "ALEX VITORIO AMADIO              2024-03-30 07:00:00     1\n",
       "                                 2024-03-31 07:00:00     1\n",
       "ALUISIO LEMOS DUARTE             2024-03-31 19:00:00     2\n",
       "AMANDA SANCHES TSUJIOKA          2024-03-30 07:00:00     9\n",
       "ANA CAROLINA SALES ABREU LISBOA  2024-03-05 19:00:00    22\n",
       "Name: usuario, dtype: int64"
      ]
     },
     "execution_count": 51,
     "metadata": {},
     "output_type": "execute_result"
    }
   ],
   "source": [
    "dfResult.head()"
   ]
  },
  {
   "cell_type": "code",
   "execution_count": null,
   "metadata": {},
   "outputs": [],
   "source": []
  },
  {
   "cell_type": "code",
   "execution_count": 52,
   "metadata": {},
   "outputs": [
    {
     "data": {
      "text/plain": [
       "nome_profissional                data_mvto          \n",
       "ALEX VITORIO AMADIO              2024-03-30 07:00:00     1\n",
       "                                 2024-03-31 07:00:00     1\n",
       "ALUISIO LEMOS DUARTE             2024-03-31 19:00:00     2\n",
       "AMANDA SANCHES TSUJIOKA          2024-03-30 07:00:00     9\n",
       "ANA CAROLINA SALES ABREU LISBOA  2024-03-05 19:00:00    22\n",
       "Name: usuario, dtype: int64"
      ]
     },
     "execution_count": 52,
     "metadata": {},
     "output_type": "execute_result"
    }
   ],
   "source": [
    "dfResult.head()"
   ]
  },
  {
   "cell_type": "code",
   "execution_count": 53,
   "metadata": {},
   "outputs": [],
   "source": [
    "#Determinando o nome do arquivo\n",
    "file_name_ficha = r'G:\\OneDrive - Default Directory\\OneDrive - rede.sp\\WorkSpace_PS\\Relatorio_Marco_2024\\Atendimento_Marco_Hora_2024.xlsx'\n",
    "  \n",
    "# Salvando o excel\n",
    "dfResult.to_excel(file_name_ficha)"
   ]
  },
  {
   "cell_type": "code",
   "execution_count": 54,
   "metadata": {},
   "outputs": [],
   "source": [
    "dfResult = result.groupby([ 'nome_profissional',pd.Grouper(key='data_mvto', freq='24h')]).usuario.count()"
   ]
  },
  {
   "cell_type": "code",
   "execution_count": 55,
   "metadata": {},
   "outputs": [
    {
     "data": {
      "text/plain": [
       "nome_profissional                  data_mvto \n",
       "ALEX VITORIO AMADIO                2024-03-30     1\n",
       "                                   2024-03-31     1\n",
       "ALUISIO LEMOS DUARTE               2024-03-31     2\n",
       "AMANDA SANCHES TSUJIOKA            2024-03-30     9\n",
       "ANA CAROLINA SALES ABREU LISBOA    2024-03-05    16\n",
       "                                   2024-03-06     6\n",
       "                                   2024-03-09    24\n",
       "                                   2024-03-16    17\n",
       "                                   2024-03-19     8\n",
       "                                   2024-03-20    13\n",
       "                                   2024-03-23    27\n",
       "                                   2024-03-27    10\n",
       "                                   2024-03-28     6\n",
       "                                   2024-03-29     4\n",
       "                                   2024-03-30     1\n",
       "ANDREA BACELLAR SOARES DE ANDRADE  2024-03-07     2\n",
       "                                   2024-03-28     5\n",
       "ARIEL GUTIERREZ DELGADILLO         2024-03-07     3\n",
       "BEATRIZ DE AUGUSTO ISIHI           2024-03-02    17\n",
       "                                   2024-03-04    32\n",
       "                                   2024-03-06    23\n",
       "                                   2024-03-11    28\n",
       "                                   2024-03-12    22\n",
       "                                   2024-03-13    44\n",
       "                                   2024-03-14    10\n",
       "                                   2024-03-18    25\n",
       "                                   2024-03-20    22\n",
       "                                   2024-03-23     6\n",
       "                                   2024-03-24     6\n",
       "                                   2024-03-25    20\n",
       "                                   2024-03-27    23\n",
       "                                   2024-03-30    22\n",
       "                                   2024-03-31     8\n",
       "BEATRIZ OLIVEIRA DE PAULA          2024-03-02    24\n",
       "                                   2024-03-11    24\n",
       "                                   2024-03-12    23\n",
       "                                   2024-03-28    17\n",
       "                                   2024-03-29     7\n",
       "BRUNA ANDRADE BELLO                2024-03-04     9\n",
       "                                   2024-03-06    23\n",
       "                                   2024-03-07     5\n",
       "                                   2024-03-11    16\n",
       "                                   2024-03-12     1\n",
       "                                   2024-03-14     1\n",
       "CARLOS EDUARDO ABULARACH BANEGAS   2024-03-05    27\n",
       "                                   2024-03-06    25\n",
       "                                   2024-03-12    22\n",
       "                                   2024-03-13    11\n",
       "                                   2024-03-16     5\n",
       "                                   2024-03-17     6\n",
       "Name: usuario, dtype: int64"
      ]
     },
     "execution_count": 55,
     "metadata": {},
     "output_type": "execute_result"
    }
   ],
   "source": [
    "dfResult.head(50)"
   ]
  },
  {
   "cell_type": "code",
   "execution_count": 56,
   "metadata": {},
   "outputs": [],
   "source": [
    "#Determinando o nome do arquivo\n",
    "file_name_ficha = r'G:\\OneDrive - Default Directory\\OneDrive - rede.sp\\WorkSpace_PS\\Relatorio_Marco_2024\\Atendimento_Marco_Dia_2024.xlsx'\n",
    "  \n",
    "# Salvando o excel\n",
    "dfResult.to_excel(file_name_ficha)\n"
   ]
  },
  {
   "cell_type": "code",
   "execution_count": null,
   "metadata": {},
   "outputs": [],
   "source": []
  },
  {
   "cell_type": "code",
   "execution_count": null,
   "metadata": {},
   "outputs": [],
   "source": []
  },
  {
   "cell_type": "code",
   "execution_count": null,
   "metadata": {},
   "outputs": [],
   "source": []
  },
  {
   "cell_type": "code",
   "execution_count": null,
   "metadata": {},
   "outputs": [],
   "source": []
  },
  {
   "cell_type": "code",
   "execution_count": null,
   "metadata": {},
   "outputs": [],
   "source": []
  },
  {
   "cell_type": "code",
   "execution_count": null,
   "metadata": {},
   "outputs": [],
   "source": []
  },
  {
   "cell_type": "code",
   "execution_count": null,
   "metadata": {},
   "outputs": [],
   "source": []
  },
  {
   "cell_type": "code",
   "execution_count": null,
   "metadata": {},
   "outputs": [],
   "source": []
  },
  {
   "cell_type": "code",
   "execution_count": null,
   "metadata": {},
   "outputs": [],
   "source": []
  },
  {
   "cell_type": "code",
   "execution_count": null,
   "metadata": {},
   "outputs": [],
   "source": []
  },
  {
   "cell_type": "code",
   "execution_count": null,
   "metadata": {},
   "outputs": [],
   "source": []
  },
  {
   "cell_type": "code",
   "execution_count": null,
   "metadata": {},
   "outputs": [],
   "source": []
  }
 ],
 "metadata": {
  "kernelspec": {
   "display_name": "Python 3",
   "language": "python",
   "name": "python3"
  },
  "language_info": {
   "codemirror_mode": {
    "name": "ipython",
    "version": 3
   },
   "file_extension": ".py",
   "mimetype": "text/x-python",
   "name": "python",
   "nbconvert_exporter": "python",
   "pygments_lexer": "ipython3",
   "version": "3.8.3"
  }
 },
 "nbformat": 4,
 "nbformat_minor": 4
}
