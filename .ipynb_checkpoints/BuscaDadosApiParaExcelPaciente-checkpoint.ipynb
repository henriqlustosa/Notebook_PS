{
 "cells": [
  {
   "cell_type": "code",
   "execution_count": 1,
   "metadata": {},
   "outputs": [],
   "source": [
    "## Importação das Bibliotecas utilizadas neste Fonte\n",
    "import requests\n",
    "import json \n",
    "import pandas as pd"
   ]
  },
  {
   "cell_type": "code",
   "execution_count": 2,
   "metadata": {},
   "outputs": [],
   "source": [
    "# Endpoints para o consumo de dados do banco de dados de produção do SGH\n",
    "\n",
    "#Fichas do Histórico do Paciente no PS\n",
    "res_ficha_pac = requests.get('http://intranethspm:5009/hspmsgh-api/relatorio/fichapacientes/2022-12-01/2022-12-31')\n",
    "\n",
    "#Pacientes do histórico de consulta\n",
    "res_pac = requests.get('http://intranethspm:5009/hspmsgh-api/relatorio/pacientes/2022-12-01/2022-12-31')\n",
    "\n",
    "#Profissionais Médicos que deram baixa no SGH\n",
    "res_prof = requests.get('http://intranethspm:5009/hspmsgh-api/relatorio/profissionais/2022-12-01/2022-12-31')\n",
    "\n",
    "#Endereços dos Pacientes do histórico de consulta\n",
    "res_ender_pac = requests.get('http://intranethspm:5009/hspmsgh-api/relatorio/enderecofichapacientes/2022-12-01/2022-12-31')\n",
    "\n",
    "# Baixa de Pacientes\n",
    "res_baixa_pac = requests.get('http://intranethspm:5009/hspmsgh-api/relatorio/baixapacientes/2022-12-01/2022-12-31')"
   ]
  },
  {
   "cell_type": "code",
   "execution_count": null,
   "metadata": {},
   "outputs": [],
   "source": [
    "# Carregando os dados 'json' para um tipo dicionário\n",
    "\n",
    "#Fichas do Histórico do Paciente no PS\n",
    "response_ficha_pac = json.loads(res_ficha_pac.text)\n",
    "\n",
    "#Pacientes do histórico de consulta\n",
    "response_pac = json.loads(res_pac.text)\n",
    "\n",
    "#Profissionais Médicos que deram baixa no SGH\n",
    "response_prof = json.loads(res_prof.text)\n",
    "\n",
    "#Endereços dos Pacientes do histórico de consulta\n",
    "response_ender = json.loads(res_ender_pac.text)\n",
    "\n",
    "# Baixa de Pacientes\n",
    "response_baixa_pac = json.loads(res_baixa_pac.text)"
   ]
  },
  {
   "cell_type": "code",
   "execution_count": null,
   "metadata": {},
   "outputs": [],
   "source": [
    "# Criando os DataFrames a partir dos dicionários\n",
    "\n",
    "#Fichas do Histórico do Paciente no PS\n",
    "df_ficha_pac =  pd.DataFrame.from_dict(response_ficha_pac)\n",
    "\n",
    "#Pacientes do histórico de consulta\n",
    "df_pac =  pd.DataFrame.from_dict(response_pac)\n",
    "\n",
    "#Profissionais Médicos que deram baixa no SGH\n",
    "df_prof =  pd.DataFrame.from_dict(response_prof)\n",
    "\n",
    "#Endereços dos Pacientes do histórico de consulta\n",
    "df_ender_pac =  pd.DataFrame.from_dict(response_ender)\n",
    "\n",
    "# Baixa de Pacientes\n",
    "df_baixa_pac =  pd.DataFrame.from_dict(response_baixa_pac)"
   ]
  },
  {
   "cell_type": "code",
   "execution_count": 91,
   "metadata": {},
   "outputs": [],
   "source": [
    "# Relatório - Pacientes \n",
    "# Base de Dados para geração dos arquivos das tabelas dos Pacientes \n"
   ]
  },
  {
   "cell_type": "code",
   "execution_count": null,
   "metadata": {},
   "outputs": [],
   "source": [
    "# Ficha Pacientes\n",
    "\n",
    "# determining the name of the file\n",
    "file_name_ficha = r'G:\\OneDrive - Default Directory\\OneDrive - rede.sp\\WorkSpace_PS\\Arquivos_Excel\\SQL_Server\\Paciente\\FichaPacientes.xlsx'\n",
    "  \n",
    "# saving the excel\n",
    "df_ficha_pac_prof.to_excel(file_name_ficha)"
   ]
  },
  {
   "cell_type": "code",
   "execution_count": 92,
   "metadata": {},
   "outputs": [],
   "source": [
    "# Endereço de Paciente\n",
    "\n",
    "# determining the name of the file\n",
    "file_name_endereco = r'G:\\OneDrive - Default Directory\\OneDrive - rede.sp\\WorkSpace_PS\\Arquivos_Excel\\SQL_Server\\Paciente\\EnderecosDePacientes.xlsx'\n",
    "  \n",
    "# saving the excel\n",
    "df_ender_pac.to_excel(file_name_endereco)"
   ]
  },
  {
   "cell_type": "code",
   "execution_count": 93,
   "metadata": {},
   "outputs": [],
   "source": [
    "# Paciente\n",
    "\n",
    "# determining the name of the file\n",
    "file_name_paciente = r'G:\\OneDrive - Default Directory\\OneDrive - rede.sp\\WorkSpace_PS\\Arquivos_Excel\\SQL_Server\\Paciente\\Pacientes.xlsx'\n",
    "  \n",
    "# saving the excel\n",
    "df_pac.to_excel(file_name_paciente)"
   ]
  },
  {
   "cell_type": "code",
   "execution_count": 96,
   "metadata": {},
   "outputs": [],
   "source": [
    "# Baixa de Paciente\n",
    "\n",
    "# determining the name of the file\n",
    "file_baixa_paciente = r'G:\\OneDrive - Default Directory\\OneDrive - rede.sp\\WorkSpace_PS\\Arquivos_Excel\\SQL_Server\\Paciente\\BaixaPacientes.xlsx'\n",
    "  \n",
    "# saving the excel\n",
    "df_ficha_pac_prof_baixa.to_excel(file_baixa_paciente)"
   ]
  },
  {
   "cell_type": "code",
   "execution_count": null,
   "metadata": {},
   "outputs": [],
   "source": []
  },
  {
   "cell_type": "code",
   "execution_count": null,
   "metadata": {},
   "outputs": [],
   "source": []
  },
  {
   "cell_type": "code",
   "execution_count": null,
   "metadata": {},
   "outputs": [],
   "source": []
  },
  {
   "cell_type": "code",
   "execution_count": null,
   "metadata": {},
   "outputs": [],
   "source": []
  },
  {
   "cell_type": "code",
   "execution_count": null,
   "metadata": {},
   "outputs": [],
   "source": []
  },
  {
   "cell_type": "code",
   "execution_count": null,
   "metadata": {},
   "outputs": [],
   "source": []
  },
  {
   "cell_type": "code",
   "execution_count": null,
   "metadata": {},
   "outputs": [],
   "source": []
  },
  {
   "cell_type": "code",
   "execution_count": null,
   "metadata": {},
   "outputs": [],
   "source": []
  },
  {
   "cell_type": "code",
   "execution_count": null,
   "metadata": {},
   "outputs": [],
   "source": []
  },
  {
   "cell_type": "code",
   "execution_count": null,
   "metadata": {},
   "outputs": [],
   "source": []
  }
 ],
 "metadata": {
  "kernelspec": {
   "display_name": "Python 3",
   "language": "python",
   "name": "python3"
  },
  "language_info": {
   "codemirror_mode": {
    "name": "ipython",
    "version": 3
   },
   "file_extension": ".py",
   "mimetype": "text/x-python",
   "name": "python",
   "nbconvert_exporter": "python",
   "pygments_lexer": "ipython3",
   "version": "3.8.3"
  }
 },
 "nbformat": 4,
 "nbformat_minor": 4
}
