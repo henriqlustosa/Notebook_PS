{
 "cells": [
  {
   "cell_type": "code",
   "execution_count": 15,
   "metadata": {},
   "outputs": [],
   "source": [
    "## Importação das bibliotecas utilizadas no código fonte\n",
    "import requests\n",
    "import json\n",
    "import pandas as pd"
   ]
  },
  {
   "cell_type": "code",
   "execution_count": 10,
   "metadata": {},
   "outputs": [],
   "source": [
    "# Endpoints pordução do SGH\n",
    "\n",
    "#Profissionais Médicos que deram baixa no SGH\n",
    "res_prof = requests.get('http://intranethspm:5009/hspmsgh-api/relatorio/profissionais/2022-12-01/2023-04-06')\n"
   ]
  },
  {
   "cell_type": "code",
   "execution_count": 11,
   "metadata": {},
   "outputs": [],
   "source": [
    "# Carregando os dados 'json' para um tipo dicionário\n",
    "\n",
    "#Profissionais Médicos que deram baixa no SGH\n",
    "response_prof = json.loads(res_prof.text)"
   ]
  },
  {
   "cell_type": "code",
   "execution_count": 12,
   "metadata": {},
   "outputs": [],
   "source": [
    "# Criando os DataFrames a partir dos dicionários\n",
    "\n",
    "#Profissionais Médicos que deram baixa no SGH\n",
    "df_prof =  pd.DataFrame.from_dict(response_prof)"
   ]
  },
  {
   "cell_type": "code",
   "execution_count": 13,
   "metadata": {},
   "outputs": [],
   "source": [
    "# Profissional \n",
    "\n",
    "# determining the name of the file\n",
    "file_baixa_paciente = r'G:\\OneDrive - Default Directory\\OneDrive - rede.sp\\WorkSpace_PS\\Arquivos_Excel\\Pasta\\Profissional_06_04_2023.xlsx'\n",
    "  \n",
    "# saving the excel\n",
    "df_prof.to_excel(file_baixa_paciente)"
   ]
  },
  {
   "cell_type": "code",
   "execution_count": 16,
   "metadata": {},
   "outputs": [],
   "source": [
    "# Endpoints pordução do SGH\n",
    "\n",
    "#Profissionais Médicos que deram baixa no SGH\n",
    "res_prof = requests.get('http://intranethspm:5009/hspmsgh-api/relatorio/profissionais/2022-12-01/2023-04-06')\n"
   ]
  },
  {
   "cell_type": "code",
   "execution_count": 17,
   "metadata": {},
   "outputs": [],
   "source": [
    "# Endpoints produção do SGH\n",
    "\n",
    "#Pacientes atendidos pelo PS\n",
    "res_pac = requests.get('http://intranethspm:5009/hspmsgh-api/relatorio/pacientes/2023-03-01/2023-03-31')\n"
   ]
  },
  {
   "cell_type": "code",
   "execution_count": 18,
   "metadata": {},
   "outputs": [],
   "source": [
    "# Carregando os dados 'json' para um tipo dicionário\n",
    "\n",
    "#Pacientes atendidos pelo PS\n",
    "response_pac = json.loads(res_pac.text)"
   ]
  },
  {
   "cell_type": "code",
   "execution_count": 19,
   "metadata": {},
   "outputs": [],
   "source": [
    "# Criando os DataFrames a partir dos dicionários\n",
    "\n",
    "#Pacientes atendidos pelo PS\n",
    "df_pac =  pd.DataFrame.from_dict(response_pac)"
   ]
  },
  {
   "cell_type": "code",
   "execution_count": 20,
   "metadata": {},
   "outputs": [
    {
     "name": "stdout",
     "output_type": "stream",
     "text": [
      "The sql extension is already loaded. To reload it, use:\n",
      "  %reload_ext sql\n"
     ]
    }
   ],
   "source": [
    "# importacao de bibliotecas\n",
    "import pandas as pd\n",
    "from unidecode import unidecode\n",
    "\n",
    "%load_ext sql"
   ]
  },
  {
   "cell_type": "code",
   "execution_count": 21,
   "metadata": {},
   "outputs": [
    {
     "name": "stdout",
     "output_type": "stream",
     "text": [
      "1.18.5\n"
     ]
    }
   ],
   "source": [
    "import numpy as np\n",
    "print(np.__version__)"
   ]
  },
  {
   "cell_type": "code",
   "execution_count": 22,
   "metadata": {},
   "outputs": [],
   "source": [
    "# Importacao da biblioteca sqlalchemy\n",
    "from sqlalchemy import create_engine"
   ]
  },
  {
   "cell_type": "code",
   "execution_count": 23,
   "metadata": {},
   "outputs": [],
   "source": [
    "## Conexão com a base de dados postgree\n",
    "\n",
    "import pyodbc as podbc\n",
    "\n",
    "cnxn = podbc.connect(\"Driver={SQL Server Native Client 11.0};Server=hspmins18;Database=hspmRelatorioPs;uid=hspmApp;pwd=SoundG@rden=1\")"
   ]
  },
  {
   "cell_type": "code",
   "execution_count": 24,
   "metadata": {},
   "outputs": [],
   "source": [
    "## Acesso a base de dados\n",
    "\n",
    "sql = \"SELECT * FROM [hspmRelatorioPs].[dbo].[Paciente]\"\n",
    "data_sql_server_pac = pd.read_sql(sql,cnxn)"
   ]
  },
  {
   "cell_type": "code",
   "execution_count": 25,
   "metadata": {},
   "outputs": [
    {
     "data": {
      "text/html": [
       "<div>\n",
       "<style scoped>\n",
       "    .dataframe tbody tr th:only-of-type {\n",
       "        vertical-align: middle;\n",
       "    }\n",
       "\n",
       "    .dataframe tbody tr th {\n",
       "        vertical-align: top;\n",
       "    }\n",
       "\n",
       "    .dataframe thead th {\n",
       "        text-align: right;\n",
       "    }\n",
       "</style>\n",
       "<table border=\"1\" class=\"dataframe\">\n",
       "  <thead>\n",
       "    <tr style=\"text-align: right;\">\n",
       "      <th></th>\n",
       "      <th>prontuario</th>\n",
       "      <th>nomePaciente</th>\n",
       "      <th>dataNascimento</th>\n",
       "      <th>cns</th>\n",
       "      <th>rg</th>\n",
       "      <th>cpf</th>\n",
       "      <th>sexo</th>\n",
       "      <th>idade</th>\n",
       "      <th>raca</th>\n",
       "      <th>mae</th>\n",
       "      <th>pai</th>\n",
       "      <th>email</th>\n",
       "      <th>tipoPaciente</th>\n",
       "      <th>rf</th>\n",
       "      <th>ddd_foneResidencial</th>\n",
       "      <th>ddd_foneComercial</th>\n",
       "      <th>ddd_foneRecado</th>\n",
       "      <th>foneResidencial</th>\n",
       "      <th>foneComercial</th>\n",
       "      <th>foneRecado</th>\n",
       "    </tr>\n",
       "  </thead>\n",
       "  <tbody>\n",
       "    <tr>\n",
       "      <th>0</th>\n",
       "      <td>1115</td>\n",
       "      <td>ALCIDES ALLIAGA</td>\n",
       "      <td>1943-06-29</td>\n",
       "      <td>898001447386142</td>\n",
       "      <td>2978827-4</td>\n",
       "      <td>22706976853</td>\n",
       "      <td>M</td>\n",
       "      <td>79</td>\n",
       "      <td>None</td>\n",
       "      <td>MARIA CONCEPCION ALONSO ALLIAG</td>\n",
       "      <td>CRISTOVAM ALLIAGA</td>\n",
       "      <td>None</td>\n",
       "      <td>Servidor</td>\n",
       "      <td>4563476</td>\n",
       "      <td>11.0</td>\n",
       "      <td>NaN</td>\n",
       "      <td>11.0</td>\n",
       "      <td>39210163.0</td>\n",
       "      <td>NaN</td>\n",
       "      <td>998499600.0</td>\n",
       "    </tr>\n",
       "    <tr>\n",
       "      <th>1</th>\n",
       "      <td>2568</td>\n",
       "      <td>SERGIO LUIZ ADRIANO</td>\n",
       "      <td>1942-03-02</td>\n",
       "      <td>0</td>\n",
       "      <td>3065535-3</td>\n",
       "      <td>12139998804</td>\n",
       "      <td>M</td>\n",
       "      <td>81</td>\n",
       "      <td>None</td>\n",
       "      <td>ZILDA OTONI ADRIANO</td>\n",
       "      <td>ANTONIO ADRIANO</td>\n",
       "      <td>None</td>\n",
       "      <td>Servidor</td>\n",
       "      <td>4577051</td>\n",
       "      <td>11.0</td>\n",
       "      <td>NaN</td>\n",
       "      <td>11.0</td>\n",
       "      <td>39613365.0</td>\n",
       "      <td>NaN</td>\n",
       "      <td>993175377.0</td>\n",
       "    </tr>\n",
       "    <tr>\n",
       "      <th>2</th>\n",
       "      <td>3376</td>\n",
       "      <td>LEDA DE OLIVEIRA * *</td>\n",
       "      <td>1962-02-10</td>\n",
       "      <td>0</td>\n",
       "      <td>None</td>\n",
       "      <td>0</td>\n",
       "      <td>F</td>\n",
       "      <td>61</td>\n",
       "      <td>None</td>\n",
       "      <td>MARIA APARECIDA DE OLIVEIRA</td>\n",
       "      <td>A PROPRIA</td>\n",
       "      <td>None</td>\n",
       "      <td>Servidor</td>\n",
       "      <td>0</td>\n",
       "      <td>NaN</td>\n",
       "      <td>NaN</td>\n",
       "      <td>NaN</td>\n",
       "      <td>966159667.0</td>\n",
       "      <td>NaN</td>\n",
       "      <td>NaN</td>\n",
       "    </tr>\n",
       "    <tr>\n",
       "      <th>3</th>\n",
       "      <td>7344</td>\n",
       "      <td>NELSON EMILIO BENDINELLI</td>\n",
       "      <td>1940-04-30</td>\n",
       "      <td>0</td>\n",
       "      <td>45252749</td>\n",
       "      <td>37225979868</td>\n",
       "      <td>M</td>\n",
       "      <td>82</td>\n",
       "      <td>None</td>\n",
       "      <td>LEONOR ZANALDO</td>\n",
       "      <td>SANTO FELIX BENDINELLI</td>\n",
       "      <td>None</td>\n",
       "      <td>Servidor</td>\n",
       "      <td>4688236</td>\n",
       "      <td>11.0</td>\n",
       "      <td>NaN</td>\n",
       "      <td>11.0</td>\n",
       "      <td>36071570.0</td>\n",
       "      <td>NaN</td>\n",
       "      <td>949019340.0</td>\n",
       "    </tr>\n",
       "    <tr>\n",
       "      <th>4</th>\n",
       "      <td>7831</td>\n",
       "      <td>MARIA DA PENHA GOMES DE  LIMA</td>\n",
       "      <td>1941-05-02</td>\n",
       "      <td>0</td>\n",
       "      <td>15590242-8</td>\n",
       "      <td>3926465875</td>\n",
       "      <td>F</td>\n",
       "      <td>81</td>\n",
       "      <td>None</td>\n",
       "      <td>ANTONIA EMILIA GOMES</td>\n",
       "      <td>JOAO BATISTA GOMES</td>\n",
       "      <td>None</td>\n",
       "      <td>Dependente</td>\n",
       "      <td>4464320</td>\n",
       "      <td>11.0</td>\n",
       "      <td>NaN</td>\n",
       "      <td>11.0</td>\n",
       "      <td>36071512.0</td>\n",
       "      <td>NaN</td>\n",
       "      <td>982354876.0</td>\n",
       "    </tr>\n",
       "  </tbody>\n",
       "</table>\n",
       "</div>"
      ],
      "text/plain": [
       "   prontuario                   nomePaciente dataNascimento              cns  \\\n",
       "0        1115                ALCIDES ALLIAGA     1943-06-29  898001447386142   \n",
       "1        2568            SERGIO LUIZ ADRIANO     1942-03-02                0   \n",
       "2        3376           LEDA DE OLIVEIRA * *     1962-02-10                0   \n",
       "3        7344       NELSON EMILIO BENDINELLI     1940-04-30                0   \n",
       "4        7831  MARIA DA PENHA GOMES DE  LIMA     1941-05-02                0   \n",
       "\n",
       "           rg          cpf sexo  idade  raca                             mae  \\\n",
       "0   2978827-4  22706976853    M     79  None  MARIA CONCEPCION ALONSO ALLIAG   \n",
       "1   3065535-3  12139998804    M     81  None             ZILDA OTONI ADRIANO   \n",
       "2        None            0    F     61  None     MARIA APARECIDA DE OLIVEIRA   \n",
       "3    45252749  37225979868    M     82  None                  LEONOR ZANALDO   \n",
       "4  15590242-8   3926465875    F     81  None            ANTONIA EMILIA GOMES   \n",
       "\n",
       "                      pai email tipoPaciente       rf  ddd_foneResidencial  \\\n",
       "0       CRISTOVAM ALLIAGA  None     Servidor  4563476                 11.0   \n",
       "1         ANTONIO ADRIANO  None     Servidor  4577051                 11.0   \n",
       "2               A PROPRIA  None     Servidor        0                  NaN   \n",
       "3  SANTO FELIX BENDINELLI  None     Servidor  4688236                 11.0   \n",
       "4      JOAO BATISTA GOMES  None   Dependente  4464320                 11.0   \n",
       "\n",
       "   ddd_foneComercial  ddd_foneRecado  foneResidencial  foneComercial  \\\n",
       "0                NaN            11.0       39210163.0            NaN   \n",
       "1                NaN            11.0       39613365.0            NaN   \n",
       "2                NaN             NaN      966159667.0            NaN   \n",
       "3                NaN            11.0       36071570.0            NaN   \n",
       "4                NaN            11.0       36071512.0            NaN   \n",
       "\n",
       "    foneRecado  \n",
       "0  998499600.0  \n",
       "1  993175377.0  \n",
       "2          NaN  \n",
       "3  949019340.0  \n",
       "4  982354876.0  "
      ]
     },
     "execution_count": 25,
     "metadata": {},
     "output_type": "execute_result"
    }
   ],
   "source": [
    "data_sql_server_pac.head()"
   ]
  },
  {
   "cell_type": "code",
   "execution_count": 26,
   "metadata": {},
   "outputs": [
    {
     "data": {
      "text/plain": [
       "(11362, 20)"
      ]
     },
     "execution_count": 26,
     "metadata": {},
     "output_type": "execute_result"
    }
   ],
   "source": [
    "data_sql_server_pac.shape"
   ]
  },
  {
   "cell_type": "code",
   "execution_count": 32,
   "metadata": {},
   "outputs": [],
   "source": [
    "result = pd.merge(data_sql_server_pac, df_pac, on=\"prontuario\",how=\"outer\",indicator=True)\n"
   ]
  },
  {
   "cell_type": "code",
   "execution_count": 33,
   "metadata": {},
   "outputs": [
    {
     "data": {
      "text/html": [
       "<div>\n",
       "<style scoped>\n",
       "    .dataframe tbody tr th:only-of-type {\n",
       "        vertical-align: middle;\n",
       "    }\n",
       "\n",
       "    .dataframe tbody tr th {\n",
       "        vertical-align: top;\n",
       "    }\n",
       "\n",
       "    .dataframe thead th {\n",
       "        text-align: right;\n",
       "    }\n",
       "</style>\n",
       "<table border=\"1\" class=\"dataframe\">\n",
       "  <thead>\n",
       "    <tr style=\"text-align: right;\">\n",
       "      <th></th>\n",
       "      <th>prontuario</th>\n",
       "      <th>nomePaciente_x</th>\n",
       "      <th>dataNascimento_x</th>\n",
       "      <th>cns_x</th>\n",
       "      <th>rg_x</th>\n",
       "      <th>cpf_x</th>\n",
       "      <th>sexo_x</th>\n",
       "      <th>idade_x</th>\n",
       "      <th>raca_x</th>\n",
       "      <th>mae_x</th>\n",
       "      <th>...</th>\n",
       "      <th>email_y</th>\n",
       "      <th>tipoPaciente_y</th>\n",
       "      <th>rf_y</th>\n",
       "      <th>ddd_foneResidencial_y</th>\n",
       "      <th>ddd_foneComercial_y</th>\n",
       "      <th>ddd_foneRecado_y</th>\n",
       "      <th>foneResidencial_y</th>\n",
       "      <th>foneComercial_y</th>\n",
       "      <th>foneRecado_y</th>\n",
       "      <th>_merge</th>\n",
       "    </tr>\n",
       "  </thead>\n",
       "  <tbody>\n",
       "    <tr>\n",
       "      <th>0</th>\n",
       "      <td>1115</td>\n",
       "      <td>ALCIDES ALLIAGA</td>\n",
       "      <td>1943-06-29</td>\n",
       "      <td>8.980014e+14</td>\n",
       "      <td>2978827-4</td>\n",
       "      <td>2.270698e+10</td>\n",
       "      <td>M</td>\n",
       "      <td>79.0</td>\n",
       "      <td>None</td>\n",
       "      <td>MARIA CONCEPCION ALONSO ALLIAG</td>\n",
       "      <td>...</td>\n",
       "      <td>NaN</td>\n",
       "      <td>NaN</td>\n",
       "      <td>NaN</td>\n",
       "      <td>NaN</td>\n",
       "      <td>NaN</td>\n",
       "      <td>NaN</td>\n",
       "      <td>NaN</td>\n",
       "      <td>NaN</td>\n",
       "      <td>NaN</td>\n",
       "      <td>left_only</td>\n",
       "    </tr>\n",
       "    <tr>\n",
       "      <th>1</th>\n",
       "      <td>2568</td>\n",
       "      <td>SERGIO LUIZ ADRIANO</td>\n",
       "      <td>1942-03-02</td>\n",
       "      <td>0.000000e+00</td>\n",
       "      <td>3065535-3</td>\n",
       "      <td>1.214000e+10</td>\n",
       "      <td>M</td>\n",
       "      <td>81.0</td>\n",
       "      <td>None</td>\n",
       "      <td>ZILDA OTONI ADRIANO</td>\n",
       "      <td>...</td>\n",
       "      <td>NaN</td>\n",
       "      <td>NaN</td>\n",
       "      <td>NaN</td>\n",
       "      <td>NaN</td>\n",
       "      <td>NaN</td>\n",
       "      <td>NaN</td>\n",
       "      <td>NaN</td>\n",
       "      <td>NaN</td>\n",
       "      <td>NaN</td>\n",
       "      <td>left_only</td>\n",
       "    </tr>\n",
       "    <tr>\n",
       "      <th>2</th>\n",
       "      <td>3376</td>\n",
       "      <td>LEDA DE OLIVEIRA * *</td>\n",
       "      <td>1962-02-10</td>\n",
       "      <td>0.000000e+00</td>\n",
       "      <td>None</td>\n",
       "      <td>0.000000e+00</td>\n",
       "      <td>F</td>\n",
       "      <td>61.0</td>\n",
       "      <td>None</td>\n",
       "      <td>MARIA APARECIDA DE OLIVEIRA</td>\n",
       "      <td>...</td>\n",
       "      <td>NaN</td>\n",
       "      <td>NaN</td>\n",
       "      <td>NaN</td>\n",
       "      <td>NaN</td>\n",
       "      <td>NaN</td>\n",
       "      <td>NaN</td>\n",
       "      <td>NaN</td>\n",
       "      <td>NaN</td>\n",
       "      <td>NaN</td>\n",
       "      <td>left_only</td>\n",
       "    </tr>\n",
       "    <tr>\n",
       "      <th>3</th>\n",
       "      <td>7344</td>\n",
       "      <td>NELSON EMILIO BENDINELLI</td>\n",
       "      <td>1940-04-30</td>\n",
       "      <td>0.000000e+00</td>\n",
       "      <td>45252749</td>\n",
       "      <td>3.722598e+10</td>\n",
       "      <td>M</td>\n",
       "      <td>82.0</td>\n",
       "      <td>None</td>\n",
       "      <td>LEONOR ZANALDO</td>\n",
       "      <td>...</td>\n",
       "      <td>NaN</td>\n",
       "      <td>NaN</td>\n",
       "      <td>NaN</td>\n",
       "      <td>NaN</td>\n",
       "      <td>NaN</td>\n",
       "      <td>NaN</td>\n",
       "      <td>NaN</td>\n",
       "      <td>NaN</td>\n",
       "      <td>NaN</td>\n",
       "      <td>left_only</td>\n",
       "    </tr>\n",
       "    <tr>\n",
       "      <th>4</th>\n",
       "      <td>7831</td>\n",
       "      <td>MARIA DA PENHA GOMES DE  LIMA</td>\n",
       "      <td>1941-05-02</td>\n",
       "      <td>0.000000e+00</td>\n",
       "      <td>15590242-8</td>\n",
       "      <td>3.926466e+09</td>\n",
       "      <td>F</td>\n",
       "      <td>81.0</td>\n",
       "      <td>None</td>\n",
       "      <td>ANTONIA EMILIA GOMES</td>\n",
       "      <td>...</td>\n",
       "      <td>NaN</td>\n",
       "      <td>NaN</td>\n",
       "      <td>NaN</td>\n",
       "      <td>NaN</td>\n",
       "      <td>NaN</td>\n",
       "      <td>NaN</td>\n",
       "      <td>NaN</td>\n",
       "      <td>NaN</td>\n",
       "      <td>NaN</td>\n",
       "      <td>left_only</td>\n",
       "    </tr>\n",
       "  </tbody>\n",
       "</table>\n",
       "<p>5 rows × 41 columns</p>\n",
       "</div>"
      ],
      "text/plain": [
       "   prontuario                 nomePaciente_x dataNascimento_x         cns_x  \\\n",
       "0        1115                ALCIDES ALLIAGA       1943-06-29  8.980014e+14   \n",
       "1        2568            SERGIO LUIZ ADRIANO       1942-03-02  0.000000e+00   \n",
       "2        3376           LEDA DE OLIVEIRA * *       1962-02-10  0.000000e+00   \n",
       "3        7344       NELSON EMILIO BENDINELLI       1940-04-30  0.000000e+00   \n",
       "4        7831  MARIA DA PENHA GOMES DE  LIMA       1941-05-02  0.000000e+00   \n",
       "\n",
       "         rg_x         cpf_x sexo_x  idade_x raca_x  \\\n",
       "0   2978827-4  2.270698e+10      M     79.0   None   \n",
       "1   3065535-3  1.214000e+10      M     81.0   None   \n",
       "2        None  0.000000e+00      F     61.0   None   \n",
       "3    45252749  3.722598e+10      M     82.0   None   \n",
       "4  15590242-8  3.926466e+09      F     81.0   None   \n",
       "\n",
       "                            mae_x  ... email_y tipoPaciente_y rf_y  \\\n",
       "0  MARIA CONCEPCION ALONSO ALLIAG  ...     NaN            NaN  NaN   \n",
       "1             ZILDA OTONI ADRIANO  ...     NaN            NaN  NaN   \n",
       "2     MARIA APARECIDA DE OLIVEIRA  ...     NaN            NaN  NaN   \n",
       "3                  LEONOR ZANALDO  ...     NaN            NaN  NaN   \n",
       "4            ANTONIA EMILIA GOMES  ...     NaN            NaN  NaN   \n",
       "\n",
       "  ddd_foneResidencial_y  ddd_foneComercial_y  ddd_foneRecado_y  \\\n",
       "0                   NaN                  NaN               NaN   \n",
       "1                   NaN                  NaN               NaN   \n",
       "2                   NaN                  NaN               NaN   \n",
       "3                   NaN                  NaN               NaN   \n",
       "4                   NaN                  NaN               NaN   \n",
       "\n",
       "   foneResidencial_y  foneComercial_y  foneRecado_y     _merge  \n",
       "0                NaN              NaN           NaN  left_only  \n",
       "1                NaN              NaN           NaN  left_only  \n",
       "2                NaN              NaN           NaN  left_only  \n",
       "3                NaN              NaN           NaN  left_only  \n",
       "4                NaN              NaN           NaN  left_only  \n",
       "\n",
       "[5 rows x 41 columns]"
      ]
     },
     "execution_count": 33,
     "metadata": {},
     "output_type": "execute_result"
    }
   ],
   "source": [
    "result.head()"
   ]
  },
  {
   "cell_type": "code",
   "execution_count": 34,
   "metadata": {},
   "outputs": [
    {
     "data": {
      "text/plain": [
       "(15809, 41)"
      ]
     },
     "execution_count": 34,
     "metadata": {},
     "output_type": "execute_result"
    }
   ],
   "source": [
    "result.shape"
   ]
  },
  {
   "cell_type": "code",
   "execution_count": 35,
   "metadata": {},
   "outputs": [],
   "source": [
    "result=result[result['_merge']=='left_only']"
   ]
  },
  {
   "cell_type": "raw",
   "metadata": {},
   "source": []
  }
 ],
 "metadata": {
  "kernelspec": {
   "display_name": "Python 3",
   "language": "python",
   "name": "python3"
  },
  "language_info": {
   "codemirror_mode": {
    "name": "ipython",
    "version": 3
   },
   "file_extension": ".py",
   "mimetype": "text/x-python",
   "name": "python",
   "nbconvert_exporter": "python",
   "pygments_lexer": "ipython3",
   "version": "3.8.3"
  }
 },
 "nbformat": 4,
 "nbformat_minor": 4
}
