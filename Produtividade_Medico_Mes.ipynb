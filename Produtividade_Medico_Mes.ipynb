{
 "cells": [
  {
   "cell_type": "code",
   "execution_count": 14,
   "metadata": {},
   "outputs": [],
   "source": [
    "# Relatório de Atendimento Médico\n",
    "\n",
    "# Buscar os arquivos\n",
    "\n",
    "import pandas as pd\n",
    "df_profissionais = pd.read_excel('G:\\OneDrive - Default Directory\\OneDrive - rede.sp\\WorkSpace_PS\\Relatorio_Maio_2023\\Profissional_Maio_2023.xlsx') \n",
    "df_baixa_paciente = pd.read_excel('G:\\OneDrive - Default Directory\\OneDrive - rede.sp\\WorkSpace_PS\\Relatorio_Maio_2023\\BaixaPacientes_Maio_2023.xlsx') \n"
   ]
  },
  {
   "cell_type": "code",
   "execution_count": 10,
   "metadata": {},
   "outputs": [
    {
     "data": {
      "text/plain": [
       "57015"
      ]
     },
     "execution_count": 10,
     "metadata": {},
     "output_type": "execute_result"
    }
   ],
   "source": [
    "df_baixa_paciente.size"
   ]
  },
  {
   "cell_type": "code",
   "execution_count": 7,
   "metadata": {},
   "outputs": [],
   "source": [
    "result = pd.merge(df_profissionais, df_baixa_paciente, on=\"usuario\")"
   ]
  },
  {
   "cell_type": "code",
   "execution_count": 9,
   "metadata": {},
   "outputs": [
    {
     "data": {
      "text/plain": [
       "69674"
      ]
     },
     "execution_count": 9,
     "metadata": {},
     "output_type": "execute_result"
    }
   ],
   "source": [
    "result.size\n"
   ]
  },
  {
   "cell_type": "code",
   "execution_count": 11,
   "metadata": {},
   "outputs": [
    {
     "data": {
      "text/html": [
       "<div>\n",
       "<style scoped>\n",
       "    .dataframe tbody tr th:only-of-type {\n",
       "        vertical-align: middle;\n",
       "    }\n",
       "\n",
       "    .dataframe tbody tr th {\n",
       "        vertical-align: top;\n",
       "    }\n",
       "\n",
       "    .dataframe thead th {\n",
       "        text-align: right;\n",
       "    }\n",
       "</style>\n",
       "<table border=\"1\" class=\"dataframe\">\n",
       "  <thead>\n",
       "    <tr style=\"text-align: right;\">\n",
       "      <th></th>\n",
       "      <th>rf_profissional</th>\n",
       "      <th>nome_profissional</th>\n",
       "      <th>usuario</th>\n",
       "    </tr>\n",
       "  </thead>\n",
       "  <tbody>\n",
       "    <tr>\n",
       "      <th>0</th>\n",
       "      <td>34177</td>\n",
       "      <td>TYANNA MARIA BONFIM DE MORAES</td>\n",
       "      <td>X055670</td>\n",
       "    </tr>\n",
       "    <tr>\n",
       "      <th>1</th>\n",
       "      <td>110024</td>\n",
       "      <td>FERNANDA DE BORBA RAMOS</td>\n",
       "      <td>X110024</td>\n",
       "    </tr>\n",
       "    <tr>\n",
       "      <th>2</th>\n",
       "      <td>177926</td>\n",
       "      <td>JULINEZ E SILVA LIMA</td>\n",
       "      <td>X112461</td>\n",
       "    </tr>\n",
       "    <tr>\n",
       "      <th>3</th>\n",
       "      <td>264523</td>\n",
       "      <td>JOSE MIGUEL SALVATIERRA ANEZ</td>\n",
       "      <td>X014135</td>\n",
       "    </tr>\n",
       "    <tr>\n",
       "      <th>4</th>\n",
       "      <td>369030</td>\n",
       "      <td>SEBASTIAN RODA ANTELO</td>\n",
       "      <td>X369030</td>\n",
       "    </tr>\n",
       "  </tbody>\n",
       "</table>\n",
       "</div>"
      ],
      "text/plain": [
       "   rf_profissional              nome_profissional  usuario\n",
       "0            34177  TYANNA MARIA BONFIM DE MORAES  X055670\n",
       "1           110024        FERNANDA DE BORBA RAMOS  X110024\n",
       "2           177926           JULINEZ E SILVA LIMA  X112461\n",
       "3           264523   JOSE MIGUEL SALVATIERRA ANEZ  X014135\n",
       "4           369030          SEBASTIAN RODA ANTELO  X369030"
      ]
     },
     "execution_count": 11,
     "metadata": {},
     "output_type": "execute_result"
    }
   ],
   "source": [
    "df_profissionais.head()"
   ]
  },
  {
   "cell_type": "code",
   "execution_count": 12,
   "metadata": {},
   "outputs": [
    {
     "data": {
      "text/html": [
       "<div>\n",
       "<style scoped>\n",
       "    .dataframe tbody tr th:only-of-type {\n",
       "        vertical-align: middle;\n",
       "    }\n",
       "\n",
       "    .dataframe tbody tr th {\n",
       "        vertical-align: top;\n",
       "    }\n",
       "\n",
       "    .dataframe thead th {\n",
       "        text-align: right;\n",
       "    }\n",
       "</style>\n",
       "<table border=\"1\" class=\"dataframe\">\n",
       "  <thead>\n",
       "    <tr style=\"text-align: right;\">\n",
       "      <th></th>\n",
       "      <th>rf_profissional</th>\n",
       "      <th>nome_profissional</th>\n",
       "      <th>usuario</th>\n",
       "      <th>prontuario</th>\n",
       "      <th>con_numero</th>\n",
       "      <th>trg_seq</th>\n",
       "      <th>seqp</th>\n",
       "      <th>data_consulta</th>\n",
       "      <th>cod_status</th>\n",
       "      <th>status_ficha</th>\n",
       "      <th>data_mvto</th>\n",
       "    </tr>\n",
       "  </thead>\n",
       "  <tbody>\n",
       "    <tr>\n",
       "      <th>0</th>\n",
       "      <td>34177</td>\n",
       "      <td>TYANNA MARIA BONFIM DE MORAES</td>\n",
       "      <td>X055670</td>\n",
       "      <td>11597424</td>\n",
       "      <td>4189952</td>\n",
       "      <td>75020</td>\n",
       "      <td>5</td>\n",
       "      <td>2023-05-31 00:25:23.544</td>\n",
       "      <td>6</td>\n",
       "      <td>ALTA MEDICA</td>\n",
       "      <td>2023-05-31 02:40:15.938</td>\n",
       "    </tr>\n",
       "    <tr>\n",
       "      <th>1</th>\n",
       "      <td>34177</td>\n",
       "      <td>TYANNA MARIA BONFIM DE MORAES</td>\n",
       "      <td>X055670</td>\n",
       "      <td>875559</td>\n",
       "      <td>4189946</td>\n",
       "      <td>75014</td>\n",
       "      <td>6</td>\n",
       "      <td>2023-05-30 23:26:29.021</td>\n",
       "      <td>6</td>\n",
       "      <td>ALTA MEDICA</td>\n",
       "      <td>2023-05-31 04:12:16.953</td>\n",
       "    </tr>\n",
       "    <tr>\n",
       "      <th>2</th>\n",
       "      <td>34177</td>\n",
       "      <td>TYANNA MARIA BONFIM DE MORAES</td>\n",
       "      <td>X055670</td>\n",
       "      <td>4049862</td>\n",
       "      <td>4189926</td>\n",
       "      <td>74994</td>\n",
       "      <td>6</td>\n",
       "      <td>2023-05-30 20:59:20.896</td>\n",
       "      <td>22</td>\n",
       "      <td>ALTA COM ENCAMINHAMENTO</td>\n",
       "      <td>2023-05-31 03:22:52.049</td>\n",
       "    </tr>\n",
       "    <tr>\n",
       "      <th>3</th>\n",
       "      <td>34177</td>\n",
       "      <td>TYANNA MARIA BONFIM DE MORAES</td>\n",
       "      <td>X055670</td>\n",
       "      <td>193011</td>\n",
       "      <td>4189921</td>\n",
       "      <td>74993</td>\n",
       "      <td>6</td>\n",
       "      <td>2023-05-30 20:49:56.358</td>\n",
       "      <td>6</td>\n",
       "      <td>ALTA MEDICA</td>\n",
       "      <td>2023-05-31 01:44:25.048</td>\n",
       "    </tr>\n",
       "    <tr>\n",
       "      <th>4</th>\n",
       "      <td>34177</td>\n",
       "      <td>TYANNA MARIA BONFIM DE MORAES</td>\n",
       "      <td>X055670</td>\n",
       "      <td>4692794</td>\n",
       "      <td>4189858</td>\n",
       "      <td>74952</td>\n",
       "      <td>5</td>\n",
       "      <td>2023-05-30 16:40:50.673</td>\n",
       "      <td>22</td>\n",
       "      <td>ALTA COM ENCAMINHAMENTO</td>\n",
       "      <td>2023-05-30 20:32:42.807</td>\n",
       "    </tr>\n",
       "  </tbody>\n",
       "</table>\n",
       "</div>"
      ],
      "text/plain": [
       "   rf_profissional              nome_profissional  usuario  prontuario  \\\n",
       "0            34177  TYANNA MARIA BONFIM DE MORAES  X055670    11597424   \n",
       "1            34177  TYANNA MARIA BONFIM DE MORAES  X055670      875559   \n",
       "2            34177  TYANNA MARIA BONFIM DE MORAES  X055670     4049862   \n",
       "3            34177  TYANNA MARIA BONFIM DE MORAES  X055670      193011   \n",
       "4            34177  TYANNA MARIA BONFIM DE MORAES  X055670     4692794   \n",
       "\n",
       "   con_numero  trg_seq  seqp            data_consulta  cod_status  \\\n",
       "0     4189952    75020     5  2023-05-31 00:25:23.544           6   \n",
       "1     4189946    75014     6  2023-05-30 23:26:29.021           6   \n",
       "2     4189926    74994     6  2023-05-30 20:59:20.896          22   \n",
       "3     4189921    74993     6  2023-05-30 20:49:56.358           6   \n",
       "4     4189858    74952     5  2023-05-30 16:40:50.673          22   \n",
       "\n",
       "              status_ficha                data_mvto  \n",
       "0              ALTA MEDICA  2023-05-31 02:40:15.938  \n",
       "1              ALTA MEDICA  2023-05-31 04:12:16.953  \n",
       "2  ALTA COM ENCAMINHAMENTO  2023-05-31 03:22:52.049  \n",
       "3              ALTA MEDICA  2023-05-31 01:44:25.048  \n",
       "4  ALTA COM ENCAMINHAMENTO  2023-05-30 20:32:42.807  "
      ]
     },
     "execution_count": 12,
     "metadata": {},
     "output_type": "execute_result"
    }
   ],
   "source": [
    "result.head()"
   ]
  },
  {
   "cell_type": "code",
   "execution_count": 19,
   "metadata": {},
   "outputs": [
    {
     "ename": "ValueError",
     "evalue": "You are trying to merge on object and int64 columns. If you wish to proceed you should use pd.concat",
     "output_type": "error",
     "traceback": [
      "\u001b[1;31m---------------------------------------------------------------------------\u001b[0m",
      "\u001b[1;31mValueError\u001b[0m                                Traceback (most recent call last)",
      "\u001b[1;32m<ipython-input-19-061424712f46>\u001b[0m in \u001b[0;36m<module>\u001b[1;34m\u001b[0m\n\u001b[1;32m----> 1\u001b[1;33m \u001b[0mdf_baixa_paciente\u001b[0m\u001b[1;33m.\u001b[0m\u001b[0mjoin\u001b[0m\u001b[1;33m(\u001b[0m\u001b[0mdf_profissionais\u001b[0m\u001b[1;33m,\u001b[0m \u001b[0mon\u001b[0m\u001b[1;33m=\u001b[0m\u001b[1;34m'usuario'\u001b[0m\u001b[1;33m,\u001b[0m \u001b[0mhow\u001b[0m\u001b[1;33m=\u001b[0m\u001b[1;34m\"inner\"\u001b[0m\u001b[1;33m,\u001b[0m\u001b[0mlsuffix\u001b[0m\u001b[1;33m=\u001b[0m\u001b[1;34m'_left'\u001b[0m\u001b[1;33m,\u001b[0m \u001b[0mrsuffix\u001b[0m\u001b[1;33m=\u001b[0m\u001b[1;34m'_right'\u001b[0m\u001b[1;33m)\u001b[0m\u001b[1;33m\u001b[0m\u001b[1;33m\u001b[0m\u001b[0m\n\u001b[0m",
      "\u001b[1;32m~\\Anaconda3\\lib\\site-packages\\pandas\\core\\frame.py\u001b[0m in \u001b[0;36mjoin\u001b[1;34m(self, other, on, how, lsuffix, rsuffix, sort)\u001b[0m\n\u001b[0;32m   7206\u001b[0m         \u001b[1;36m5\u001b[0m  \u001b[0mK5\u001b[0m  \u001b[0mA5\u001b[0m  \u001b[0mNaN\u001b[0m\u001b[1;33m\u001b[0m\u001b[1;33m\u001b[0m\u001b[0m\n\u001b[0;32m   7207\u001b[0m         \"\"\"\n\u001b[1;32m-> 7208\u001b[1;33m         return self._join_compat(\n\u001b[0m\u001b[0;32m   7209\u001b[0m             \u001b[0mother\u001b[0m\u001b[1;33m,\u001b[0m \u001b[0mon\u001b[0m\u001b[1;33m=\u001b[0m\u001b[0mon\u001b[0m\u001b[1;33m,\u001b[0m \u001b[0mhow\u001b[0m\u001b[1;33m=\u001b[0m\u001b[0mhow\u001b[0m\u001b[1;33m,\u001b[0m \u001b[0mlsuffix\u001b[0m\u001b[1;33m=\u001b[0m\u001b[0mlsuffix\u001b[0m\u001b[1;33m,\u001b[0m \u001b[0mrsuffix\u001b[0m\u001b[1;33m=\u001b[0m\u001b[0mrsuffix\u001b[0m\u001b[1;33m,\u001b[0m \u001b[0msort\u001b[0m\u001b[1;33m=\u001b[0m\u001b[0msort\u001b[0m\u001b[1;33m\u001b[0m\u001b[1;33m\u001b[0m\u001b[0m\n\u001b[0;32m   7210\u001b[0m         )\n",
      "\u001b[1;32m~\\Anaconda3\\lib\\site-packages\\pandas\\core\\frame.py\u001b[0m in \u001b[0;36m_join_compat\u001b[1;34m(self, other, on, how, lsuffix, rsuffix, sort)\u001b[0m\n\u001b[0;32m   7222\u001b[0m \u001b[1;33m\u001b[0m\u001b[0m\n\u001b[0;32m   7223\u001b[0m         \u001b[1;32mif\u001b[0m \u001b[0misinstance\u001b[0m\u001b[1;33m(\u001b[0m\u001b[0mother\u001b[0m\u001b[1;33m,\u001b[0m \u001b[0mDataFrame\u001b[0m\u001b[1;33m)\u001b[0m\u001b[1;33m:\u001b[0m\u001b[1;33m\u001b[0m\u001b[1;33m\u001b[0m\u001b[0m\n\u001b[1;32m-> 7224\u001b[1;33m             return merge(\n\u001b[0m\u001b[0;32m   7225\u001b[0m                 \u001b[0mself\u001b[0m\u001b[1;33m,\u001b[0m\u001b[1;33m\u001b[0m\u001b[1;33m\u001b[0m\u001b[0m\n\u001b[0;32m   7226\u001b[0m                 \u001b[0mother\u001b[0m\u001b[1;33m,\u001b[0m\u001b[1;33m\u001b[0m\u001b[1;33m\u001b[0m\u001b[0m\n",
      "\u001b[1;32m~\\Anaconda3\\lib\\site-packages\\pandas\\core\\reshape\\merge.py\u001b[0m in \u001b[0;36mmerge\u001b[1;34m(left, right, how, on, left_on, right_on, left_index, right_index, sort, suffixes, copy, indicator, validate)\u001b[0m\n\u001b[0;32m     71\u001b[0m     \u001b[0mvalidate\u001b[0m\u001b[1;33m=\u001b[0m\u001b[1;32mNone\u001b[0m\u001b[1;33m,\u001b[0m\u001b[1;33m\u001b[0m\u001b[1;33m\u001b[0m\u001b[0m\n\u001b[0;32m     72\u001b[0m ) -> \"DataFrame\":\n\u001b[1;32m---> 73\u001b[1;33m     op = _MergeOperation(\n\u001b[0m\u001b[0;32m     74\u001b[0m         \u001b[0mleft\u001b[0m\u001b[1;33m,\u001b[0m\u001b[1;33m\u001b[0m\u001b[1;33m\u001b[0m\u001b[0m\n\u001b[0;32m     75\u001b[0m         \u001b[0mright\u001b[0m\u001b[1;33m,\u001b[0m\u001b[1;33m\u001b[0m\u001b[1;33m\u001b[0m\u001b[0m\n",
      "\u001b[1;32m~\\Anaconda3\\lib\\site-packages\\pandas\\core\\reshape\\merge.py\u001b[0m in \u001b[0;36m__init__\u001b[1;34m(self, left, right, how, on, left_on, right_on, axis, left_index, right_index, sort, suffixes, copy, indicator, validate)\u001b[0m\n\u001b[0;32m    629\u001b[0m         \u001b[1;31m# validate the merge keys dtypes. We may need to coerce\u001b[0m\u001b[1;33m\u001b[0m\u001b[1;33m\u001b[0m\u001b[1;33m\u001b[0m\u001b[0m\n\u001b[0;32m    630\u001b[0m         \u001b[1;31m# to avoid incompat dtypes\u001b[0m\u001b[1;33m\u001b[0m\u001b[1;33m\u001b[0m\u001b[1;33m\u001b[0m\u001b[0m\n\u001b[1;32m--> 631\u001b[1;33m         \u001b[0mself\u001b[0m\u001b[1;33m.\u001b[0m\u001b[0m_maybe_coerce_merge_keys\u001b[0m\u001b[1;33m(\u001b[0m\u001b[1;33m)\u001b[0m\u001b[1;33m\u001b[0m\u001b[1;33m\u001b[0m\u001b[0m\n\u001b[0m\u001b[0;32m    632\u001b[0m \u001b[1;33m\u001b[0m\u001b[0m\n\u001b[0;32m    633\u001b[0m         \u001b[1;31m# If argument passed to validate,\u001b[0m\u001b[1;33m\u001b[0m\u001b[1;33m\u001b[0m\u001b[1;33m\u001b[0m\u001b[0m\n",
      "\u001b[1;32m~\\Anaconda3\\lib\\site-packages\\pandas\\core\\reshape\\merge.py\u001b[0m in \u001b[0;36m_maybe_coerce_merge_keys\u001b[1;34m(self)\u001b[0m\n\u001b[0;32m   1144\u001b[0m                     \u001b[0minferred_right\u001b[0m \u001b[1;32min\u001b[0m \u001b[0mstring_types\u001b[0m \u001b[1;32mand\u001b[0m \u001b[0minferred_left\u001b[0m \u001b[1;32mnot\u001b[0m \u001b[1;32min\u001b[0m \u001b[0mstring_types\u001b[0m\u001b[1;33m\u001b[0m\u001b[1;33m\u001b[0m\u001b[0m\n\u001b[0;32m   1145\u001b[0m                 ):\n\u001b[1;32m-> 1146\u001b[1;33m                     \u001b[1;32mraise\u001b[0m \u001b[0mValueError\u001b[0m\u001b[1;33m(\u001b[0m\u001b[0mmsg\u001b[0m\u001b[1;33m)\u001b[0m\u001b[1;33m\u001b[0m\u001b[1;33m\u001b[0m\u001b[0m\n\u001b[0m\u001b[0;32m   1147\u001b[0m \u001b[1;33m\u001b[0m\u001b[0m\n\u001b[0;32m   1148\u001b[0m             \u001b[1;31m# datetimelikes must match exactly\u001b[0m\u001b[1;33m\u001b[0m\u001b[1;33m\u001b[0m\u001b[1;33m\u001b[0m\u001b[0m\n",
      "\u001b[1;31mValueError\u001b[0m: You are trying to merge on object and int64 columns. If you wish to proceed you should use pd.concat"
     ]
    }
   ],
   "source": [
    "df_baixa_paciente.join(df_profissionais, on='usuario', how=\"inner\")"
   ]
  },
  {
   "cell_type": "code",
   "execution_count": 24,
   "metadata": {},
   "outputs": [
    {
     "ename": "TypeError",
     "evalue": "concat() got an unexpected keyword argument 'key'",
     "output_type": "error",
     "traceback": [
      "\u001b[1;31m---------------------------------------------------------------------------\u001b[0m",
      "\u001b[1;31mTypeError\u001b[0m                                 Traceback (most recent call last)",
      "\u001b[1;32m<ipython-input-24-a90cfafa1554>\u001b[0m in \u001b[0;36m<module>\u001b[1;34m\u001b[0m\n\u001b[1;32m----> 1\u001b[1;33m \u001b[0mresult\u001b[0m \u001b[1;33m=\u001b[0m \u001b[0mpd\u001b[0m\u001b[1;33m.\u001b[0m\u001b[0mconcat\u001b[0m\u001b[1;33m(\u001b[0m\u001b[1;33m[\u001b[0m\u001b[0mdf_profissionais\u001b[0m\u001b[1;33m,\u001b[0m \u001b[0mdf_baixa_paciente\u001b[0m\u001b[1;33m]\u001b[0m\u001b[1;33m,\u001b[0m \u001b[0maxis\u001b[0m\u001b[1;33m=\u001b[0m\u001b[1;36m1\u001b[0m\u001b[1;33m,\u001b[0m\u001b[0mkey\u001b[0m\u001b[1;33m=\u001b[0m\u001b[1;34m\"usuario\"\u001b[0m\u001b[1;33m,\u001b[0m \u001b[0mjoin\u001b[0m\u001b[1;33m=\u001b[0m\u001b[1;34m\"inner\"\u001b[0m\u001b[1;33m)\u001b[0m\u001b[1;33m\u001b[0m\u001b[1;33m\u001b[0m\u001b[0m\n\u001b[0m",
      "\u001b[1;31mTypeError\u001b[0m: concat() got an unexpected keyword argument 'key'"
     ]
    }
   ],
   "source": [
    "result = pd.concat([df_profissionais, df_baixa_paciente], axis=1, join=\"inner\")"
   ]
  },
  {
   "cell_type": "code",
   "execution_count": 22,
   "metadata": {},
   "outputs": [
    {
     "data": {
      "text/plain": [
       "696"
      ]
     },
     "execution_count": 22,
     "metadata": {},
     "output_type": "execute_result"
    }
   ],
   "source": [
    "result.size\n"
   ]
  },
  {
   "cell_type": "code",
   "execution_count": 41,
   "metadata": {},
   "outputs": [],
   "source": [
    "result = pd.merge(df_profissionais, df_baixa_paciente, how=\"inner\", on=\"usuario\")"
   ]
  },
  {
   "cell_type": "raw",
   "metadata": {},
   "source": []
  },
  {
   "cell_type": "code",
   "execution_count": 42,
   "metadata": {},
   "outputs": [
    {
     "data": {
      "text/html": [
       "<div>\n",
       "<style scoped>\n",
       "    .dataframe tbody tr th:only-of-type {\n",
       "        vertical-align: middle;\n",
       "    }\n",
       "\n",
       "    .dataframe tbody tr th {\n",
       "        vertical-align: top;\n",
       "    }\n",
       "\n",
       "    .dataframe thead th {\n",
       "        text-align: right;\n",
       "    }\n",
       "</style>\n",
       "<table border=\"1\" class=\"dataframe\">\n",
       "  <thead>\n",
       "    <tr style=\"text-align: right;\">\n",
       "      <th></th>\n",
       "      <th>rf_profissional</th>\n",
       "      <th>nome_profissional</th>\n",
       "      <th>usuario</th>\n",
       "      <th>prontuario</th>\n",
       "      <th>con_numero</th>\n",
       "      <th>trg_seq</th>\n",
       "      <th>seqp</th>\n",
       "      <th>data_consulta</th>\n",
       "      <th>cod_status</th>\n",
       "      <th>status_ficha</th>\n",
       "      <th>data_mvto</th>\n",
       "    </tr>\n",
       "  </thead>\n",
       "  <tbody>\n",
       "    <tr>\n",
       "      <th>6234</th>\n",
       "      <td>49467504</td>\n",
       "      <td>FILIPE AUGUSTO DA SILVA</td>\n",
       "      <td>X494675</td>\n",
       "      <td>10663029</td>\n",
       "      <td>4069568</td>\n",
       "      <td>70642</td>\n",
       "      <td>6</td>\n",
       "      <td>2023-05-16 22:12:49.817</td>\n",
       "      <td>6</td>\n",
       "      <td>ALTA MEDICA</td>\n",
       "      <td>2023-05-17 00:42:41.123</td>\n",
       "    </tr>\n",
       "    <tr>\n",
       "      <th>6235</th>\n",
       "      <td>49467504</td>\n",
       "      <td>FILIPE AUGUSTO DA SILVA</td>\n",
       "      <td>X494675</td>\n",
       "      <td>3377884</td>\n",
       "      <td>4069566</td>\n",
       "      <td>70640</td>\n",
       "      <td>5</td>\n",
       "      <td>2023-05-16 21:47:27.191</td>\n",
       "      <td>15</td>\n",
       "      <td>EVASAO</td>\n",
       "      <td>2023-05-17 01:33:35.655</td>\n",
       "    </tr>\n",
       "    <tr>\n",
       "      <th>6236</th>\n",
       "      <td>49467504</td>\n",
       "      <td>FILIPE AUGUSTO DA SILVA</td>\n",
       "      <td>X494675</td>\n",
       "      <td>12030466</td>\n",
       "      <td>4069560</td>\n",
       "      <td>70634</td>\n",
       "      <td>6</td>\n",
       "      <td>2023-05-16 21:13:19.995</td>\n",
       "      <td>6</td>\n",
       "      <td>ALTA MEDICA</td>\n",
       "      <td>2023-05-16 23:30:16.55</td>\n",
       "    </tr>\n",
       "    <tr>\n",
       "      <th>6237</th>\n",
       "      <td>49467504</td>\n",
       "      <td>FILIPE AUGUSTO DA SILVA</td>\n",
       "      <td>X494675</td>\n",
       "      <td>90011099</td>\n",
       "      <td>4069552</td>\n",
       "      <td>70626</td>\n",
       "      <td>6</td>\n",
       "      <td>2023-05-16 20:44:14.127</td>\n",
       "      <td>6</td>\n",
       "      <td>ALTA MEDICA</td>\n",
       "      <td>2023-05-17 02:28:54.231</td>\n",
       "    </tr>\n",
       "    <tr>\n",
       "      <th>6238</th>\n",
       "      <td>49467504</td>\n",
       "      <td>FILIPE AUGUSTO DA SILVA</td>\n",
       "      <td>X494675</td>\n",
       "      <td>8068280</td>\n",
       "      <td>4069551</td>\n",
       "      <td>70628</td>\n",
       "      <td>7</td>\n",
       "      <td>2023-05-16 20:48:35.545</td>\n",
       "      <td>6</td>\n",
       "      <td>ALTA MEDICA</td>\n",
       "      <td>2023-05-17 01:54:44.062</td>\n",
       "    </tr>\n",
       "    <tr>\n",
       "      <th>...</th>\n",
       "      <td>...</td>\n",
       "      <td>...</td>\n",
       "      <td>...</td>\n",
       "      <td>...</td>\n",
       "      <td>...</td>\n",
       "      <td>...</td>\n",
       "      <td>...</td>\n",
       "      <td>...</td>\n",
       "      <td>...</td>\n",
       "      <td>...</td>\n",
       "      <td>...</td>\n",
       "    </tr>\n",
       "    <tr>\n",
       "      <th>6329</th>\n",
       "      <td>96671777</td>\n",
       "      <td>LEONARDO SOUZA ALMEIDA</td>\n",
       "      <td>X674720</td>\n",
       "      <td>2246551</td>\n",
       "      <td>4147419</td>\n",
       "      <td>73283</td>\n",
       "      <td>6</td>\n",
       "      <td>2023-05-25 10:22:04.462</td>\n",
       "      <td>6</td>\n",
       "      <td>ALTA MEDICA</td>\n",
       "      <td>2023-05-25 12:22:56.631</td>\n",
       "    </tr>\n",
       "    <tr>\n",
       "      <th>6330</th>\n",
       "      <td>96671777</td>\n",
       "      <td>LEONARDO SOUZA ALMEIDA</td>\n",
       "      <td>X674720</td>\n",
       "      <td>12202339</td>\n",
       "      <td>4147401</td>\n",
       "      <td>73265</td>\n",
       "      <td>5</td>\n",
       "      <td>2023-05-25 10:15:57.516</td>\n",
       "      <td>6</td>\n",
       "      <td>ALTA MEDICA</td>\n",
       "      <td>2023-05-25 11:15:23.557</td>\n",
       "    </tr>\n",
       "    <tr>\n",
       "      <th>6331</th>\n",
       "      <td>96671777</td>\n",
       "      <td>LEONARDO SOUZA ALMEIDA</td>\n",
       "      <td>X674720</td>\n",
       "      <td>12157897</td>\n",
       "      <td>4147320</td>\n",
       "      <td>73260</td>\n",
       "      <td>6</td>\n",
       "      <td>2023-05-25 09:22:19.317</td>\n",
       "      <td>6</td>\n",
       "      <td>ALTA MEDICA</td>\n",
       "      <td>2023-05-25 11:40:54.694</td>\n",
       "    </tr>\n",
       "    <tr>\n",
       "      <th>6332</th>\n",
       "      <td>96671777</td>\n",
       "      <td>LEONARDO SOUZA ALMEIDA</td>\n",
       "      <td>X674720</td>\n",
       "      <td>12312526</td>\n",
       "      <td>4146878</td>\n",
       "      <td>73233</td>\n",
       "      <td>6</td>\n",
       "      <td>2023-05-25 08:38:32.014</td>\n",
       "      <td>6</td>\n",
       "      <td>ALTA MEDICA</td>\n",
       "      <td>2023-05-25 13:00:26.177</td>\n",
       "    </tr>\n",
       "    <tr>\n",
       "      <th>6333</th>\n",
       "      <td>96671777</td>\n",
       "      <td>LEONARDO SOUZA ALMEIDA</td>\n",
       "      <td>X674720</td>\n",
       "      <td>10389732</td>\n",
       "      <td>4146582</td>\n",
       "      <td>73214</td>\n",
       "      <td>7</td>\n",
       "      <td>2023-05-25 07:19:10.925</td>\n",
       "      <td>6</td>\n",
       "      <td>ALTA MEDICA</td>\n",
       "      <td>2023-05-25 12:00:02.328</td>\n",
       "    </tr>\n",
       "  </tbody>\n",
       "</table>\n",
       "<p>100 rows × 11 columns</p>\n",
       "</div>"
      ],
      "text/plain": [
       "      rf_profissional        nome_profissional  usuario  prontuario  \\\n",
       "6234         49467504  FILIPE AUGUSTO DA SILVA  X494675    10663029   \n",
       "6235         49467504  FILIPE AUGUSTO DA SILVA  X494675     3377884   \n",
       "6236         49467504  FILIPE AUGUSTO DA SILVA  X494675    12030466   \n",
       "6237         49467504  FILIPE AUGUSTO DA SILVA  X494675    90011099   \n",
       "6238         49467504  FILIPE AUGUSTO DA SILVA  X494675     8068280   \n",
       "...               ...                      ...      ...         ...   \n",
       "6329         96671777   LEONARDO SOUZA ALMEIDA  X674720     2246551   \n",
       "6330         96671777   LEONARDO SOUZA ALMEIDA  X674720    12202339   \n",
       "6331         96671777   LEONARDO SOUZA ALMEIDA  X674720    12157897   \n",
       "6332         96671777   LEONARDO SOUZA ALMEIDA  X674720    12312526   \n",
       "6333         96671777   LEONARDO SOUZA ALMEIDA  X674720    10389732   \n",
       "\n",
       "      con_numero  trg_seq  seqp            data_consulta  cod_status  \\\n",
       "6234     4069568    70642     6  2023-05-16 22:12:49.817           6   \n",
       "6235     4069566    70640     5  2023-05-16 21:47:27.191          15   \n",
       "6236     4069560    70634     6  2023-05-16 21:13:19.995           6   \n",
       "6237     4069552    70626     6  2023-05-16 20:44:14.127           6   \n",
       "6238     4069551    70628     7  2023-05-16 20:48:35.545           6   \n",
       "...          ...      ...   ...                      ...         ...   \n",
       "6329     4147419    73283     6  2023-05-25 10:22:04.462           6   \n",
       "6330     4147401    73265     5  2023-05-25 10:15:57.516           6   \n",
       "6331     4147320    73260     6  2023-05-25 09:22:19.317           6   \n",
       "6332     4146878    73233     6  2023-05-25 08:38:32.014           6   \n",
       "6333     4146582    73214     7  2023-05-25 07:19:10.925           6   \n",
       "\n",
       "     status_ficha                data_mvto  \n",
       "6234  ALTA MEDICA  2023-05-17 00:42:41.123  \n",
       "6235       EVASAO  2023-05-17 01:33:35.655  \n",
       "6236  ALTA MEDICA   2023-05-16 23:30:16.55  \n",
       "6237  ALTA MEDICA  2023-05-17 02:28:54.231  \n",
       "6238  ALTA MEDICA  2023-05-17 01:54:44.062  \n",
       "...           ...                      ...  \n",
       "6329  ALTA MEDICA  2023-05-25 12:22:56.631  \n",
       "6330  ALTA MEDICA  2023-05-25 11:15:23.557  \n",
       "6331  ALTA MEDICA  2023-05-25 11:40:54.694  \n",
       "6332  ALTA MEDICA  2023-05-25 13:00:26.177  \n",
       "6333  ALTA MEDICA  2023-05-25 12:00:02.328  \n",
       "\n",
       "[100 rows x 11 columns]"
      ]
     },
     "execution_count": 42,
     "metadata": {},
     "output_type": "execute_result"
    }
   ],
   "source": [
    "result.tail(100)"
   ]
  },
  {
   "cell_type": "code",
   "execution_count": 45,
   "metadata": {},
   "outputs": [
    {
     "data": {
      "text/plain": [
       "(6334, 11)"
      ]
     },
     "execution_count": 45,
     "metadata": {},
     "output_type": "execute_result"
    }
   ],
   "source": [
    "result.shape"
   ]
  },
  {
   "cell_type": "code",
   "execution_count": 46,
   "metadata": {},
   "outputs": [
    {
     "data": {
      "text/plain": [
       "(6335, 9)"
      ]
     },
     "execution_count": 46,
     "metadata": {},
     "output_type": "execute_result"
    }
   ],
   "source": [
    "df_baixa_paciente.shape\n"
   ]
  },
  {
   "cell_type": "code",
   "execution_count": 47,
   "metadata": {},
   "outputs": [
    {
     "data": {
      "text/html": [
       "<div>\n",
       "<style scoped>\n",
       "    .dataframe tbody tr th:only-of-type {\n",
       "        vertical-align: middle;\n",
       "    }\n",
       "\n",
       "    .dataframe tbody tr th {\n",
       "        vertical-align: top;\n",
       "    }\n",
       "\n",
       "    .dataframe thead th {\n",
       "        text-align: right;\n",
       "    }\n",
       "</style>\n",
       "<table border=\"1\" class=\"dataframe\">\n",
       "  <thead>\n",
       "    <tr style=\"text-align: right;\">\n",
       "      <th></th>\n",
       "      <th>rf_profissional</th>\n",
       "      <th>nome_profissional</th>\n",
       "      <th>usuario</th>\n",
       "      <th>prontuario</th>\n",
       "      <th>con_numero</th>\n",
       "      <th>trg_seq</th>\n",
       "      <th>seqp</th>\n",
       "      <th>data_consulta</th>\n",
       "      <th>cod_status</th>\n",
       "      <th>status_ficha</th>\n",
       "      <th>data_mvto</th>\n",
       "    </tr>\n",
       "  </thead>\n",
       "  <tbody>\n",
       "    <tr>\n",
       "      <th>0</th>\n",
       "      <td>34177</td>\n",
       "      <td>TYANNA MARIA BONFIM DE MORAES</td>\n",
       "      <td>X055670</td>\n",
       "      <td>11597424</td>\n",
       "      <td>4189952</td>\n",
       "      <td>75020</td>\n",
       "      <td>5</td>\n",
       "      <td>2023-05-31 00:25:23.544</td>\n",
       "      <td>6</td>\n",
       "      <td>ALTA MEDICA</td>\n",
       "      <td>2023-05-31 02:40:15.938</td>\n",
       "    </tr>\n",
       "    <tr>\n",
       "      <th>1</th>\n",
       "      <td>34177</td>\n",
       "      <td>TYANNA MARIA BONFIM DE MORAES</td>\n",
       "      <td>X055670</td>\n",
       "      <td>875559</td>\n",
       "      <td>4189946</td>\n",
       "      <td>75014</td>\n",
       "      <td>6</td>\n",
       "      <td>2023-05-30 23:26:29.021</td>\n",
       "      <td>6</td>\n",
       "      <td>ALTA MEDICA</td>\n",
       "      <td>2023-05-31 04:12:16.953</td>\n",
       "    </tr>\n",
       "    <tr>\n",
       "      <th>2</th>\n",
       "      <td>34177</td>\n",
       "      <td>TYANNA MARIA BONFIM DE MORAES</td>\n",
       "      <td>X055670</td>\n",
       "      <td>4049862</td>\n",
       "      <td>4189926</td>\n",
       "      <td>74994</td>\n",
       "      <td>6</td>\n",
       "      <td>2023-05-30 20:59:20.896</td>\n",
       "      <td>22</td>\n",
       "      <td>ALTA COM ENCAMINHAMENTO</td>\n",
       "      <td>2023-05-31 03:22:52.049</td>\n",
       "    </tr>\n",
       "    <tr>\n",
       "      <th>3</th>\n",
       "      <td>34177</td>\n",
       "      <td>TYANNA MARIA BONFIM DE MORAES</td>\n",
       "      <td>X055670</td>\n",
       "      <td>193011</td>\n",
       "      <td>4189921</td>\n",
       "      <td>74993</td>\n",
       "      <td>6</td>\n",
       "      <td>2023-05-30 20:49:56.358</td>\n",
       "      <td>6</td>\n",
       "      <td>ALTA MEDICA</td>\n",
       "      <td>2023-05-31 01:44:25.048</td>\n",
       "    </tr>\n",
       "    <tr>\n",
       "      <th>4</th>\n",
       "      <td>34177</td>\n",
       "      <td>TYANNA MARIA BONFIM DE MORAES</td>\n",
       "      <td>X055670</td>\n",
       "      <td>4692794</td>\n",
       "      <td>4189858</td>\n",
       "      <td>74952</td>\n",
       "      <td>5</td>\n",
       "      <td>2023-05-30 16:40:50.673</td>\n",
       "      <td>22</td>\n",
       "      <td>ALTA COM ENCAMINHAMENTO</td>\n",
       "      <td>2023-05-30 20:32:42.807</td>\n",
       "    </tr>\n",
       "  </tbody>\n",
       "</table>\n",
       "</div>"
      ],
      "text/plain": [
       "   rf_profissional              nome_profissional  usuario  prontuario  \\\n",
       "0            34177  TYANNA MARIA BONFIM DE MORAES  X055670    11597424   \n",
       "1            34177  TYANNA MARIA BONFIM DE MORAES  X055670      875559   \n",
       "2            34177  TYANNA MARIA BONFIM DE MORAES  X055670     4049862   \n",
       "3            34177  TYANNA MARIA BONFIM DE MORAES  X055670      193011   \n",
       "4            34177  TYANNA MARIA BONFIM DE MORAES  X055670     4692794   \n",
       "\n",
       "   con_numero  trg_seq  seqp            data_consulta  cod_status  \\\n",
       "0     4189952    75020     5  2023-05-31 00:25:23.544           6   \n",
       "1     4189946    75014     6  2023-05-30 23:26:29.021           6   \n",
       "2     4189926    74994     6  2023-05-30 20:59:20.896          22   \n",
       "3     4189921    74993     6  2023-05-30 20:49:56.358           6   \n",
       "4     4189858    74952     5  2023-05-30 16:40:50.673          22   \n",
       "\n",
       "              status_ficha                data_mvto  \n",
       "0              ALTA MEDICA  2023-05-31 02:40:15.938  \n",
       "1              ALTA MEDICA  2023-05-31 04:12:16.953  \n",
       "2  ALTA COM ENCAMINHAMENTO  2023-05-31 03:22:52.049  \n",
       "3              ALTA MEDICA  2023-05-31 01:44:25.048  \n",
       "4  ALTA COM ENCAMINHAMENTO  2023-05-30 20:32:42.807  "
      ]
     },
     "execution_count": 47,
     "metadata": {},
     "output_type": "execute_result"
    }
   ],
   "source": [
    "result.head()"
   ]
  },
  {
   "cell_type": "code",
   "execution_count": 53,
   "metadata": {},
   "outputs": [],
   "source": [
    "df = result.groupby(['nome_profissional']).count().usuario"
   ]
  },
  {
   "cell_type": "code",
   "execution_count": 54,
   "metadata": {},
   "outputs": [
    {
     "data": {
      "text/plain": [
       "nome_profissional\n",
       "ALUISIO LEMOS DUARTE                  9\n",
       "AMANDA SANCHES TSUJIOKA              98\n",
       "ANA CAROLINA SALES ABREU LISBOA      87\n",
       "ANA PAULA TAUBERT LIBORIO FIUZA       3\n",
       "ANDREA BACELLAR SOARES DE ANDRADE     4\n",
       "Name: usuario, dtype: int64"
      ]
     },
     "execution_count": 54,
     "metadata": {},
     "output_type": "execute_result"
    }
   ],
   "source": [
    "df.head()"
   ]
  },
  {
   "cell_type": "code",
   "execution_count": 55,
   "metadata": {},
   "outputs": [],
   "source": [
    "#Determinando o nome do arquivo\n",
    "file_name_ficha = r'G:\\OneDrive - Default Directory\\OneDrive - rede.sp\\WorkSpace_PS\\Relatorio_Maio_2023\\Atendimento_Medico_Maio_2023.xlsx'\n",
    "  \n",
    "# Salvando o excel\n",
    "df.to_excel(file_name_ficha)"
   ]
  },
  {
   "cell_type": "code",
   "execution_count": null,
   "metadata": {},
   "outputs": [],
   "source": []
  }
 ],
 "metadata": {
  "kernelspec": {
   "display_name": "Python 3",
   "language": "python",
   "name": "python3"
  },
  "language_info": {
   "codemirror_mode": {
    "name": "ipython",
    "version": 3
   },
   "file_extension": ".py",
   "mimetype": "text/x-python",
   "name": "python",
   "nbconvert_exporter": "python",
   "pygments_lexer": "ipython3",
   "version": "3.8.3"
  }
 },
 "nbformat": 4,
 "nbformat_minor": 4
}
