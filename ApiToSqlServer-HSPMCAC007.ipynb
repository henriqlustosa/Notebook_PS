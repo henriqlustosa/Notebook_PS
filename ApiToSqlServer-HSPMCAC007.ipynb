{
 "cells": [
  {
   "cell_type": "code",
   "execution_count": 31,
   "metadata": {},
   "outputs": [],
   "source": [
    "## Importação das Bibliotecas utilizadas neste Fonte\n",
    "import requests\n",
    "import json \n",
    "import pandas as pd"
   ]
  },
  {
   "cell_type": "code",
   "execution_count": 32,
   "metadata": {},
   "outputs": [],
   "source": [
    "#Pacientes Acolhido\n",
    "res_pac_acolhido = requests.get('http://intranethspm:5009/hspmsgh-api/relatorio/pacientesacolhidos/2022-12-01/2023-03-31')"
   ]
  },
  {
   "cell_type": "code",
   "execution_count": 33,
   "metadata": {},
   "outputs": [],
   "source": [
    "res_pac_extrato"
   ]
  },
  {
   "cell_type": "code",
   "execution_count": 34,
   "metadata": {},
   "outputs": [],
   "source": [
    "#Pacientes Acolhido\n",
    "df_pac_acolhido =  pd.DataFrame.from_dict(response_pac_acolhido)"
   ]
  },
  {
   "cell_type": "code",
   "execution_count": 35,
   "metadata": {},
   "outputs": [
    {
     "ename": "FileCreateError",
     "evalue": "[Errno 13] Permission denied: 'G:\\\\OneDrive - Default Directory\\\\OneDrive - rede.sp\\\\WorkSpace_PS\\\\Arquivos_Excel\\\\Pasta\\\\PacientesAcolhidos_Geral_2022_2023.xlsx'",
     "output_type": "error",
     "traceback": [
      "\u001b[1;31m---------------------------------------------------------------------------\u001b[0m",
      "\u001b[1;31mPermissionError\u001b[0m                           Traceback (most recent call last)",
      "\u001b[1;32m~\\Anaconda3\\lib\\site-packages\\xlsxwriter\\workbook.py\u001b[0m in \u001b[0;36mclose\u001b[1;34m(self)\u001b[0m\n\u001b[0;32m    315\u001b[0m             \u001b[1;32mtry\u001b[0m\u001b[1;33m:\u001b[0m\u001b[1;33m\u001b[0m\u001b[1;33m\u001b[0m\u001b[0m\n\u001b[1;32m--> 316\u001b[1;33m                 \u001b[0mself\u001b[0m\u001b[1;33m.\u001b[0m\u001b[0m_store_workbook\u001b[0m\u001b[1;33m(\u001b[0m\u001b[1;33m)\u001b[0m\u001b[1;33m\u001b[0m\u001b[1;33m\u001b[0m\u001b[0m\n\u001b[0m\u001b[0;32m    317\u001b[0m             \u001b[1;32mexcept\u001b[0m \u001b[0mIOError\u001b[0m \u001b[1;32mas\u001b[0m \u001b[0me\u001b[0m\u001b[1;33m:\u001b[0m\u001b[1;33m\u001b[0m\u001b[1;33m\u001b[0m\u001b[0m\n",
      "\u001b[1;32m~\\Anaconda3\\lib\\site-packages\\xlsxwriter\\workbook.py\u001b[0m in \u001b[0;36m_store_workbook\u001b[1;34m(self)\u001b[0m\n\u001b[0;32m    631\u001b[0m         \u001b[1;32mexcept\u001b[0m \u001b[0mIOError\u001b[0m \u001b[1;32mas\u001b[0m \u001b[0me\u001b[0m\u001b[1;33m:\u001b[0m\u001b[1;33m\u001b[0m\u001b[1;33m\u001b[0m\u001b[0m\n\u001b[1;32m--> 632\u001b[1;33m             \u001b[1;32mraise\u001b[0m \u001b[0me\u001b[0m\u001b[1;33m\u001b[0m\u001b[1;33m\u001b[0m\u001b[0m\n\u001b[0m\u001b[0;32m    633\u001b[0m \u001b[1;33m\u001b[0m\u001b[0m\n",
      "\u001b[1;32m~\\Anaconda3\\lib\\site-packages\\xlsxwriter\\workbook.py\u001b[0m in \u001b[0;36m_store_workbook\u001b[1;34m(self)\u001b[0m\n\u001b[0;32m    628\u001b[0m         \u001b[1;32mtry\u001b[0m\u001b[1;33m:\u001b[0m\u001b[1;33m\u001b[0m\u001b[1;33m\u001b[0m\u001b[0m\n\u001b[1;32m--> 629\u001b[1;33m             xlsx_file = ZipFile(self.filename, \"w\", compression=ZIP_DEFLATED,\n\u001b[0m\u001b[0;32m    630\u001b[0m                                 allowZip64=self.allow_zip64)\n",
      "\u001b[1;32m~\\Anaconda3\\lib\\zipfile.py\u001b[0m in \u001b[0;36m__init__\u001b[1;34m(self, file, mode, compression, allowZip64, compresslevel, strict_timestamps)\u001b[0m\n\u001b[0;32m   1249\u001b[0m                 \u001b[1;32mtry\u001b[0m\u001b[1;33m:\u001b[0m\u001b[1;33m\u001b[0m\u001b[1;33m\u001b[0m\u001b[0m\n\u001b[1;32m-> 1250\u001b[1;33m                     \u001b[0mself\u001b[0m\u001b[1;33m.\u001b[0m\u001b[0mfp\u001b[0m \u001b[1;33m=\u001b[0m \u001b[0mio\u001b[0m\u001b[1;33m.\u001b[0m\u001b[0mopen\u001b[0m\u001b[1;33m(\u001b[0m\u001b[0mfile\u001b[0m\u001b[1;33m,\u001b[0m \u001b[0mfilemode\u001b[0m\u001b[1;33m)\u001b[0m\u001b[1;33m\u001b[0m\u001b[1;33m\u001b[0m\u001b[0m\n\u001b[0m\u001b[0;32m   1251\u001b[0m                 \u001b[1;32mexcept\u001b[0m \u001b[0mOSError\u001b[0m\u001b[1;33m:\u001b[0m\u001b[1;33m\u001b[0m\u001b[1;33m\u001b[0m\u001b[0m\n",
      "\u001b[1;31mPermissionError\u001b[0m: [Errno 13] Permission denied: 'G:\\\\OneDrive - Default Directory\\\\OneDrive - rede.sp\\\\WorkSpace_PS\\\\Arquivos_Excel\\\\Pasta\\\\PacientesAcolhidos_Geral_2022_2023.xlsx'",
      "\nDuring handling of the above exception, another exception occurred:\n",
      "\u001b[1;31mFileCreateError\u001b[0m                           Traceback (most recent call last)",
      "\u001b[1;32m<ipython-input-35-beeffc7b70e4>\u001b[0m in \u001b[0;36m<module>\u001b[1;34m\u001b[0m\n\u001b[0;32m      7\u001b[0m \u001b[1;31m# saving the excel\u001b[0m\u001b[1;33m\u001b[0m\u001b[1;33m\u001b[0m\u001b[1;33m\u001b[0m\u001b[0m\n\u001b[0;32m      8\u001b[0m \u001b[1;33m\u001b[0m\u001b[0m\n\u001b[1;32m----> 9\u001b[1;33m \u001b[0mdf_pac_acolhido\u001b[0m\u001b[1;33m.\u001b[0m\u001b[0mto_excel\u001b[0m\u001b[1;33m(\u001b[0m\u001b[0mfile_name_endereco\u001b[0m\u001b[1;33m)\u001b[0m\u001b[1;33m\u001b[0m\u001b[1;33m\u001b[0m\u001b[0m\n\u001b[0m",
      "\u001b[1;32m~\\Anaconda3\\lib\\site-packages\\pandas\\core\\generic.py\u001b[0m in \u001b[0;36mto_excel\u001b[1;34m(self, excel_writer, sheet_name, na_rep, float_format, columns, header, index, index_label, startrow, startcol, engine, merge_cells, encoding, inf_rep, verbose, freeze_panes)\u001b[0m\n\u001b[0;32m   2173\u001b[0m             \u001b[0minf_rep\u001b[0m\u001b[1;33m=\u001b[0m\u001b[0minf_rep\u001b[0m\u001b[1;33m,\u001b[0m\u001b[1;33m\u001b[0m\u001b[1;33m\u001b[0m\u001b[0m\n\u001b[0;32m   2174\u001b[0m         )\n\u001b[1;32m-> 2175\u001b[1;33m         formatter.write(\n\u001b[0m\u001b[0;32m   2176\u001b[0m             \u001b[0mexcel_writer\u001b[0m\u001b[1;33m,\u001b[0m\u001b[1;33m\u001b[0m\u001b[1;33m\u001b[0m\u001b[0m\n\u001b[0;32m   2177\u001b[0m             \u001b[0msheet_name\u001b[0m\u001b[1;33m=\u001b[0m\u001b[0msheet_name\u001b[0m\u001b[1;33m,\u001b[0m\u001b[1;33m\u001b[0m\u001b[1;33m\u001b[0m\u001b[0m\n",
      "\u001b[1;32m~\\Anaconda3\\lib\\site-packages\\pandas\\io\\formats\\excel.py\u001b[0m in \u001b[0;36mwrite\u001b[1;34m(self, writer, sheet_name, startrow, startcol, freeze_panes, engine)\u001b[0m\n\u001b[0;32m    736\u001b[0m         )\n\u001b[0;32m    737\u001b[0m         \u001b[1;32mif\u001b[0m \u001b[0mneed_save\u001b[0m\u001b[1;33m:\u001b[0m\u001b[1;33m\u001b[0m\u001b[1;33m\u001b[0m\u001b[0m\n\u001b[1;32m--> 738\u001b[1;33m             \u001b[0mwriter\u001b[0m\u001b[1;33m.\u001b[0m\u001b[0msave\u001b[0m\u001b[1;33m(\u001b[0m\u001b[1;33m)\u001b[0m\u001b[1;33m\u001b[0m\u001b[1;33m\u001b[0m\u001b[0m\n\u001b[0m",
      "\u001b[1;32m~\\Anaconda3\\lib\\site-packages\\pandas\\io\\excel\\_xlsxwriter.py\u001b[0m in \u001b[0;36msave\u001b[1;34m(self)\u001b[0m\n\u001b[0;32m    193\u001b[0m         \"\"\"\n\u001b[0;32m    194\u001b[0m \u001b[1;33m\u001b[0m\u001b[0m\n\u001b[1;32m--> 195\u001b[1;33m         \u001b[1;32mreturn\u001b[0m \u001b[0mself\u001b[0m\u001b[1;33m.\u001b[0m\u001b[0mbook\u001b[0m\u001b[1;33m.\u001b[0m\u001b[0mclose\u001b[0m\u001b[1;33m(\u001b[0m\u001b[1;33m)\u001b[0m\u001b[1;33m\u001b[0m\u001b[1;33m\u001b[0m\u001b[0m\n\u001b[0m\u001b[0;32m    196\u001b[0m \u001b[1;33m\u001b[0m\u001b[0m\n\u001b[0;32m    197\u001b[0m     def write_cells(\n",
      "\u001b[1;32m~\\Anaconda3\\lib\\site-packages\\xlsxwriter\\workbook.py\u001b[0m in \u001b[0;36mclose\u001b[1;34m(self)\u001b[0m\n\u001b[0;32m    316\u001b[0m                 \u001b[0mself\u001b[0m\u001b[1;33m.\u001b[0m\u001b[0m_store_workbook\u001b[0m\u001b[1;33m(\u001b[0m\u001b[1;33m)\u001b[0m\u001b[1;33m\u001b[0m\u001b[1;33m\u001b[0m\u001b[0m\n\u001b[0;32m    317\u001b[0m             \u001b[1;32mexcept\u001b[0m \u001b[0mIOError\u001b[0m \u001b[1;32mas\u001b[0m \u001b[0me\u001b[0m\u001b[1;33m:\u001b[0m\u001b[1;33m\u001b[0m\u001b[1;33m\u001b[0m\u001b[0m\n\u001b[1;32m--> 318\u001b[1;33m                 \u001b[1;32mraise\u001b[0m \u001b[0mFileCreateError\u001b[0m\u001b[1;33m(\u001b[0m\u001b[0me\u001b[0m\u001b[1;33m)\u001b[0m\u001b[1;33m\u001b[0m\u001b[1;33m\u001b[0m\u001b[0m\n\u001b[0m\u001b[0;32m    319\u001b[0m             \u001b[1;32mexcept\u001b[0m \u001b[0mLargeZipFile\u001b[0m \u001b[1;32mas\u001b[0m \u001b[0me\u001b[0m\u001b[1;33m:\u001b[0m\u001b[1;33m\u001b[0m\u001b[1;33m\u001b[0m\u001b[0m\n\u001b[0;32m    320\u001b[0m                 raise FileSizeError(\"Filesize would require ZIP64 extensions. \"\n",
      "\u001b[1;31mFileCreateError\u001b[0m: [Errno 13] Permission denied: 'G:\\\\OneDrive - Default Directory\\\\OneDrive - rede.sp\\\\WorkSpace_PS\\\\Arquivos_Excel\\\\Pasta\\\\PacientesAcolhidos_Geral_2022_2023.xlsx'"
     ]
    }
   ],
   "source": [
    "# Endereços dos Pacientes Acolhidos\n",
    "\n",
    "# determining the name of the file\n",
    "\n",
    "file_name_endereco = r'G:\\OneDrive - Default Directory\\OneDrive - rede.sp\\WorkSpace_PS\\Arquivos_Excel\\Pasta\\PacientesAcolhidos_Geral_2022_2023.xlsx'\n",
    "\n",
    "# saving the excel\n",
    "\n",
    "df_pac_acolhido.to_excel(file_name_endereco)"
   ]
  },
  {
   "cell_type": "code",
   "execution_count": 36,
   "metadata": {},
   "outputs": [
    {
     "name": "stdout",
     "output_type": "stream",
     "text": [
      "The sql extension is already loaded. To reload it, use:\n",
      "  %reload_ext sql\n"
     ]
    }
   ],
   "source": [
    "# importacao de bibliotecas\n",
    "import pandas as pd\n",
    "from unidecode import unidecode\n",
    "\n",
    "%load_ext sql"
   ]
  },
  {
   "cell_type": "code",
   "execution_count": 37,
   "metadata": {},
   "outputs": [],
   "source": [
    "# Importacao da biblioteca sqlalchemy\n",
    "from sqlalchemy import create_engine"
   ]
  },
  {
   "cell_type": "code",
   "execution_count": 39,
   "metadata": {},
   "outputs": [],
   "source": [
    "## Conexão com a base de dados postgree\n",
    "\n",
    "import pyodbc as podbc\n",
    "\n",
    "cnxn = podbc.connect(\"Driver={SQL Server Native Client 11.0};Server=hspmins18;Database=Isolamento_Versao_2;uid=hspmApp;pwd=SoundG@rden=1\")"
   ]
  },
  {
   "cell_type": "code",
   "execution_count": 40,
   "metadata": {},
   "outputs": [],
   "source": [
    "## Acesso a base de dados\n",
    "\n",
    "sql = \"SELECT * FROM [hspmRelatorioPs].[dbo].[Paciente_Acolhido] \"\n",
    "data_sql_server = pd.read_sql(sql,cnxn)"
   ]
  },
  {
   "cell_type": "code",
   "execution_count": 41,
   "metadata": {},
   "outputs": [
    {
     "data": {
      "text/html": [
       "<div>\n",
       "<style scoped>\n",
       "    .dataframe tbody tr th:only-of-type {\n",
       "        vertical-align: middle;\n",
       "    }\n",
       "\n",
       "    .dataframe tbody tr th {\n",
       "        vertical-align: top;\n",
       "    }\n",
       "\n",
       "    .dataframe thead th {\n",
       "        text-align: right;\n",
       "    }\n",
       "</style>\n",
       "<table border=\"1\" class=\"dataframe\">\n",
       "  <thead>\n",
       "    <tr style=\"text-align: right;\">\n",
       "      <th></th>\n",
       "      <th>prontuario</th>\n",
       "      <th>nomePaciente</th>\n",
       "      <th>dataNascimento</th>\n",
       "      <th>cns</th>\n",
       "      <th>rg</th>\n",
       "      <th>cpf</th>\n",
       "      <th>sexo</th>\n",
       "      <th>idade</th>\n",
       "      <th>raca</th>\n",
       "      <th>mae</th>\n",
       "      <th>pai</th>\n",
       "      <th>email</th>\n",
       "      <th>tipoPaciente</th>\n",
       "      <th>rf</th>\n",
       "      <th>ddd_foneResidencial</th>\n",
       "      <th>ddd_foneComercial</th>\n",
       "      <th>ddd_foneRecado</th>\n",
       "      <th>foneResidencial</th>\n",
       "      <th>foneComercial</th>\n",
       "      <th>foneRecado</th>\n",
       "    </tr>\n",
       "  </thead>\n",
       "  <tbody>\n",
       "  </tbody>\n",
       "</table>\n",
       "</div>"
      ],
      "text/plain": [
       "Empty DataFrame\n",
       "Columns: [prontuario, nomePaciente, dataNascimento, cns, rg, cpf, sexo, idade, raca, mae, pai, email, tipoPaciente, rf, ddd_foneResidencial, ddd_foneComercial, ddd_foneRecado, foneResidencial, foneComercial, foneRecado]\n",
       "Index: []"
      ]
     },
     "execution_count": 41,
     "metadata": {},
     "output_type": "execute_result"
    }
   ],
   "source": [
    "data_sql_server.head()"
   ]
  },
  {
   "cell_type": "code",
   "execution_count": 42,
   "metadata": {},
   "outputs": [],
   "source": [
    "df_pac_acolhido_sem_zero = df_pac_acolhido[df_pac_acolhido.prontuario != 0]"
   ]
  },
  {
   "cell_type": "code",
   "execution_count": 45,
   "metadata": {},
   "outputs": [
    {
     "data": {
      "text/html": [
       "<div>\n",
       "<style scoped>\n",
       "    .dataframe tbody tr th:only-of-type {\n",
       "        vertical-align: middle;\n",
       "    }\n",
       "\n",
       "    .dataframe tbody tr th {\n",
       "        vertical-align: top;\n",
       "    }\n",
       "\n",
       "    .dataframe thead th {\n",
       "        text-align: right;\n",
       "    }\n",
       "</style>\n",
       "<table border=\"1\" class=\"dataframe\">\n",
       "  <thead>\n",
       "    <tr style=\"text-align: right;\">\n",
       "      <th></th>\n",
       "      <th>prontuario</th>\n",
       "      <th>nomePaciente</th>\n",
       "      <th>dataNascimento</th>\n",
       "      <th>cns</th>\n",
       "      <th>rg</th>\n",
       "      <th>cpf</th>\n",
       "      <th>sexo</th>\n",
       "      <th>idade</th>\n",
       "      <th>raca</th>\n",
       "      <th>mae</th>\n",
       "      <th>pai</th>\n",
       "      <th>email</th>\n",
       "      <th>tipoPaciente</th>\n",
       "      <th>rf</th>\n",
       "      <th>ddd_foneResidencial</th>\n",
       "      <th>ddd_foneComercial</th>\n",
       "      <th>ddd_foneRecado</th>\n",
       "      <th>foneResidencial</th>\n",
       "      <th>foneComercial</th>\n",
       "      <th>foneRecado</th>\n",
       "    </tr>\n",
       "  </thead>\n",
       "  <tbody>\n",
       "    <tr>\n",
       "      <th>0</th>\n",
       "      <td>1115</td>\n",
       "      <td>ALCIDES ALLIAGA</td>\n",
       "      <td>29/06/1943</td>\n",
       "      <td>898001447386142</td>\n",
       "      <td>2978827-4</td>\n",
       "      <td>22706976853</td>\n",
       "      <td>M</td>\n",
       "      <td>79</td>\n",
       "      <td></td>\n",
       "      <td>MARIA CONCEPCION ALONSO ALLIAG</td>\n",
       "      <td>CRISTOVAM ALLIAGA</td>\n",
       "      <td></td>\n",
       "      <td>Servidor</td>\n",
       "      <td>4563476</td>\n",
       "      <td>11</td>\n",
       "      <td>None</td>\n",
       "      <td>11</td>\n",
       "      <td>39210163</td>\n",
       "      <td></td>\n",
       "      <td>998499600</td>\n",
       "    </tr>\n",
       "    <tr>\n",
       "      <th>1</th>\n",
       "      <td>2568</td>\n",
       "      <td>SERGIO LUIZ ADRIANO</td>\n",
       "      <td>02/03/1942</td>\n",
       "      <td>0</td>\n",
       "      <td>3065535-3</td>\n",
       "      <td>12139998804</td>\n",
       "      <td>M</td>\n",
       "      <td>81</td>\n",
       "      <td></td>\n",
       "      <td>ZILDA OTONI ADRIANO</td>\n",
       "      <td>ANTONIO ADRIANO</td>\n",
       "      <td></td>\n",
       "      <td>Servidor</td>\n",
       "      <td>4577051</td>\n",
       "      <td>11</td>\n",
       "      <td>None</td>\n",
       "      <td>11</td>\n",
       "      <td>39613365</td>\n",
       "      <td></td>\n",
       "      <td>993175377</td>\n",
       "    </tr>\n",
       "    <tr>\n",
       "      <th>2</th>\n",
       "      <td>3376</td>\n",
       "      <td>LEDA DE OLIVEIRA * *</td>\n",
       "      <td>10/02/1962</td>\n",
       "      <td>0</td>\n",
       "      <td>None</td>\n",
       "      <td>0</td>\n",
       "      <td>F</td>\n",
       "      <td>61</td>\n",
       "      <td></td>\n",
       "      <td>MARIA APARECIDA DE OLIVEIRA</td>\n",
       "      <td>A PROPRIA</td>\n",
       "      <td>None</td>\n",
       "      <td>Servidor</td>\n",
       "      <td>0</td>\n",
       "      <td>None</td>\n",
       "      <td>None</td>\n",
       "      <td>None</td>\n",
       "      <td>966159667</td>\n",
       "      <td>None</td>\n",
       "      <td>None</td>\n",
       "    </tr>\n",
       "    <tr>\n",
       "      <th>3</th>\n",
       "      <td>7344</td>\n",
       "      <td>NELSON EMILIO BENDINELLI</td>\n",
       "      <td>30/04/1940</td>\n",
       "      <td>0</td>\n",
       "      <td>45252749</td>\n",
       "      <td>37225979868</td>\n",
       "      <td>M</td>\n",
       "      <td>82</td>\n",
       "      <td></td>\n",
       "      <td>LEONOR ZANALDO</td>\n",
       "      <td>SANTO FELIX BENDINELLI</td>\n",
       "      <td>None</td>\n",
       "      <td>Servidor</td>\n",
       "      <td>4688236</td>\n",
       "      <td>11</td>\n",
       "      <td>None</td>\n",
       "      <td>11</td>\n",
       "      <td>36071570</td>\n",
       "      <td>None</td>\n",
       "      <td>949019340</td>\n",
       "    </tr>\n",
       "    <tr>\n",
       "      <th>4</th>\n",
       "      <td>7831</td>\n",
       "      <td>MARIA DA PENHA GOMES DE  LIMA</td>\n",
       "      <td>02/05/1941</td>\n",
       "      <td>0</td>\n",
       "      <td>15590242-8</td>\n",
       "      <td>3926465875</td>\n",
       "      <td>F</td>\n",
       "      <td>81</td>\n",
       "      <td></td>\n",
       "      <td>ANTONIA EMILIA GOMES</td>\n",
       "      <td>JOAO BATISTA GOMES</td>\n",
       "      <td></td>\n",
       "      <td>Dependente</td>\n",
       "      <td>4464320</td>\n",
       "      <td>11</td>\n",
       "      <td>None</td>\n",
       "      <td>11</td>\n",
       "      <td>36071512</td>\n",
       "      <td></td>\n",
       "      <td>982354876</td>\n",
       "    </tr>\n",
       "  </tbody>\n",
       "</table>\n",
       "</div>"
      ],
      "text/plain": [
       "   prontuario                   nomePaciente dataNascimento              cns  \\\n",
       "0        1115                ALCIDES ALLIAGA     29/06/1943  898001447386142   \n",
       "1        2568            SERGIO LUIZ ADRIANO     02/03/1942                0   \n",
       "2        3376           LEDA DE OLIVEIRA * *     10/02/1962                0   \n",
       "3        7344       NELSON EMILIO BENDINELLI     30/04/1940                0   \n",
       "4        7831  MARIA DA PENHA GOMES DE  LIMA     02/05/1941                0   \n",
       "\n",
       "           rg          cpf sexo  idade raca                             mae  \\\n",
       "0   2978827-4  22706976853    M     79       MARIA CONCEPCION ALONSO ALLIAG   \n",
       "1   3065535-3  12139998804    M     81                  ZILDA OTONI ADRIANO   \n",
       "2        None            0    F     61          MARIA APARECIDA DE OLIVEIRA   \n",
       "3    45252749  37225979868    M     82                       LEONOR ZANALDO   \n",
       "4  15590242-8   3926465875    F     81                 ANTONIA EMILIA GOMES   \n",
       "\n",
       "                      pai email tipoPaciente       rf ddd_foneResidencial  \\\n",
       "0       CRISTOVAM ALLIAGA           Servidor  4563476                  11   \n",
       "1         ANTONIO ADRIANO           Servidor  4577051                  11   \n",
       "2               A PROPRIA  None     Servidor        0                None   \n",
       "3  SANTO FELIX BENDINELLI  None     Servidor  4688236                  11   \n",
       "4      JOAO BATISTA GOMES         Dependente  4464320                  11   \n",
       "\n",
       "  ddd_foneComercial ddd_foneRecado foneResidencial foneComercial foneRecado  \n",
       "0              None             11        39210163                998499600  \n",
       "1              None             11        39613365                993175377  \n",
       "2              None           None       966159667          None       None  \n",
       "3              None             11        36071570          None  949019340  \n",
       "4              None             11        36071512                982354876  "
      ]
     },
     "execution_count": 45,
     "metadata": {},
     "output_type": "execute_result"
    }
   ],
   "source": [
    "df_pac_acolhido_sem_zero.head()"
   ]
  },
  {
   "cell_type": "code",
   "execution_count": null,
   "metadata": {},
   "outputs": [],
   "source": []
  },
  {
   "cell_type": "code",
   "execution_count": 48,
   "metadata": {},
   "outputs": [],
   "source": [
    "cursor = cnxn.cursor()\n",
    "# Insert Dataframe into SQL Server:\n",
    "for index, row in df_pac_acolhido_sem_zero.iterrows():\n",
    "     cursor.execute(\"INSERT INTO [hspmRelatorioPs].[dbo].[Paciente_Acolhido] (prontuario ,nomePaciente ,dataNascimento ,cns,rg ,cpf ,sexo ,idade ,raca ,mae ,pai ,email ,tipoPaciente ,rf ,ddd_foneResidencial ,ddd_foneComercial ,ddd_foneRecado ,foneResidencial ,foneComercial ,foneRecado) values(?,?,?,?,?,?,?,?,?,?,?,?,?,?,?,?,?,?,?,?)\", row.prontuario, row.nomePaciente, row.dataNascimento,row.cns, row.rg, row.cpf,row.sexo, row.idade, row.raca,row.mae, row.pai, row.email,row.tipoPaciente, row.rf, row.ddd_foneResidencial,row.ddd_foneComercial, row.ddd_foneRecado, row.foneResidencial,row.foneComercial, row.foneRecado)\n",
    "cnxn.commit()\n",
    "cursor.close()"
   ]
  },
  {
   "cell_type": "code",
   "execution_count": null,
   "metadata": {},
   "outputs": [],
   "source": []
  }
 ],
 "metadata": {
  "kernelspec": {
   "display_name": "Python 3",
   "language": "python",
   "name": "python3"
  },
  "language_info": {
   "codemirror_mode": {
    "name": "ipython",
    "version": 3
   },
   "file_extension": ".py",
   "mimetype": "text/x-python",
   "name": "python",
   "nbconvert_exporter": "python",
   "pygments_lexer": "ipython3",
   "version": "3.8.3"
  }
 },
 "nbformat": 4,
 "nbformat_minor": 4
}
